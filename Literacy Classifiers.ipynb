{
 "cells": [
  {
   "cell_type": "markdown",
   "metadata": {},
   "source": [
    "# <center>Classifiers for Literacy Standard - Grades 5 and above</center>\n",
    "\n",
    "Cornell-Farrow and Garrard (2018). A Machine Learning Approach for Detecting Students at Risk of Low Academic Achievement. arXiv preprint. <a href='https://arxiv.org/abs/1807.07215'>arXiv:1807.07215</a>\n",
    "\n",
    "This notebook contains the code used to generate the classifiers for predicting whether students fall into the 'below standard' band in the literacy section of NAPLAN for students in grades 5 and above. IP for this data set is not held by the authors and so may not be uploaded together with this code in order to facilitate reproduction. Instructions for how the data set may be obtained are outlined in the README file.\n",
    "\n",
    "This notebook was executed on a quadcore Intel i7 2.60GHz cpu with 8GB of RAM. Runtime was about 40 minutes.\n"
   ]
  },
  {
   "cell_type": "markdown",
   "metadata": {},
   "source": [
    "## Preprocessing\n",
    "\n",
    "We begin by loading required packages and importing the data. The data are stored in a Stata .dta file.\n"
   ]
  },
  {
   "cell_type": "code",
   "execution_count": 1,
   "metadata": {},
   "outputs": [
    {
     "name": "stderr",
     "output_type": "stream",
     "text": [
      "Loading required package: lattice\n",
      "Type 'citation(\"pROC\")' for a citation.\n",
      "\n",
      "Attaching package: ‘pROC’\n",
      "\n",
      "The following objects are masked from ‘package:stats’:\n",
      "\n",
      "    cov, smooth, var\n",
      "\n",
      "Loading required package: grid\n",
      "Loading required package: Matrix\n",
      "Loading required package: foreach\n",
      "Loaded glmnet 2.0-16\n",
      "\n",
      "\n",
      "Attaching package: ‘glmnet’\n",
      "\n",
      "The following object is masked from ‘package:pROC’:\n",
      "\n",
      "    auc\n",
      "\n",
      "randomForest 4.6-14\n",
      "Type rfNews() to see new features/changes/bug fixes.\n",
      "\n",
      "Attaching package: ‘randomForest’\n",
      "\n",
      "The following object is masked from ‘package:ggplot2’:\n",
      "\n",
      "    margin\n",
      "\n",
      "Loading required package: iterators\n",
      "Loading required package: parallel\n"
     ]
    }
   ],
   "source": [
    "library(readstata13)  # Importing data\n",
    "library(ggplot2)      # Plotting\n",
    "library(ggthemes)     # Themes for ggplot2\n",
    "library(caret)        # Create training/test sets\n",
    "library(rpart)        # Recursive partitioning decision tree classifier\n",
    "library(rpart.plot)   # Plot the tree\n",
    "library(pROC)         # Bulding ROC curves\n",
    "library(DMwR)         # Constructing SMOTE sample\n",
    "library(glmnet)       # Elastic net classifier\n",
    "library(randomForest) # Random forest classifier\n",
    "library(doMC)         # Run elastic net in parallel\n",
    "\n",
    "start.time <- Sys.time()\n",
    "\n",
    "# Import data\n",
    "raw.data <- read.dta13('NAPLAN_data.dta')\n"
   ]
  },
  {
   "cell_type": "markdown",
   "metadata": {},
   "source": [
    "We now summarize the raw data and remove columns not to be used as predictors."
   ]
  },
  {
   "cell_type": "code",
   "execution_count": 2,
   "metadata": {},
   "outputs": [
    {
     "name": "stdout",
     "output_type": "stream",
     "text": [
      "[1] \"Raw data summary.\"\n"
     ]
    },
    {
     "data": {
      "text/html": [
       "<ol class=list-inline>\n",
       "\t<li>2045434</li>\n",
       "\t<li>37</li>\n",
       "</ol>\n"
      ],
      "text/latex": [
       "\\begin{enumerate*}\n",
       "\\item 2045434\n",
       "\\item 37\n",
       "\\end{enumerate*}\n"
      ],
      "text/markdown": [
       "1. 2045434\n",
       "2. 37\n",
       "\n",
       "\n"
      ],
      "text/plain": [
       "[1] 2045434      37"
      ]
     },
     "metadata": {},
     "output_type": "display_data"
    },
    {
     "data": {
      "text/plain": [
       "    schoolid         priv          studentid            year       \n",
       " Min.   :   2   Min.   :0.0000   Min.   :      1   Min.   :0.0000  \n",
       " 1st Qu.:2309   1st Qu.:0.0000   1st Qu.: 558104   1st Qu.:0.0000  \n",
       " Median :4698   Median :0.0000   Median :1117716   Median :0.0000  \n",
       " Mean   :4645   Mean   :0.3708   Mean   :1117467   Mean   :0.4999  \n",
       " 3rd Qu.:6986   3rd Qu.:1.0000   3rd Qu.:1675980   3rd Qu.:1.0000  \n",
       " Max.   :9250   Max.   :1.0000   Max.   :2235804   Max.   :1.0000  \n",
       " NA's   :1588                    NA's   :1588                      \n",
       "     grade           cohort           age            indig        \n",
       " Min.   :3.000   Min.   :    1   Min.   : 7.00   Min.   :0.00000  \n",
       " 1st Qu.:3.000   1st Qu.:11346   1st Qu.: 9.20   1st Qu.:0.00000  \n",
       " Median :5.000   Median :23157   Median :11.20   Median :0.00000  \n",
       " Mean   :5.938   Mean   :22825   Mean   :11.48   Mean   :0.04528  \n",
       " 3rd Qu.:7.000   3rd Qu.:34286   3rd Qu.:13.30   3rd Qu.:0.00000  \n",
       " Max.   :9.000   Max.   :45406   Max.   :17.50   Max.   :1.00000  \n",
       "                 NA's   :1588                                     \n",
       "   mumschool        mumhighed         mumoccup        dadschool     \n",
       " Min.   :1.00     Min.   :5.0      Min.   :1.0      Min.   :1.0     \n",
       " 1st Qu.:3.00     1st Qu.:5.0      1st Qu.:2.0      1st Qu.:2.0     \n",
       " Median :4.00     Median :7.0      Median :3.0      Median :4.0     \n",
       " Mean   :3.35     Mean   :6.5      Mean   :3.9      Mean   :3.2     \n",
       " 3rd Qu.:4.00     3rd Qu.:8.0      3rd Qu.:8.0      3rd Qu.:4.0     \n",
       " Max.   :4.00     Max.   :8.0      Max.   :8.0      Max.   :4.0     \n",
       " NA's   :242652   NA's   :386537   NA's   :343591   NA's   :469322  \n",
       "   dadhighed         dadoccup        readscore       mathscore    \n",
       " Min.   :5.0      Min.   :1.0      Min.   :-20.4   Min.   : -9.6  \n",
       " 1st Qu.:5.0      1st Qu.:2.0      1st Qu.:447.5   1st Qu.:432.8  \n",
       " Median :7.0      Median :3.0      Median :516.8   Median :504.4  \n",
       " Mean   :6.4      Mean   :2.8      Mean   :511.2   Mean   :504.6  \n",
       " 3rd Qu.:7.0      3rd Qu.:4.0      3rd Qu.:579.6   3rd Qu.:572.1  \n",
       " Max.   :8.0      Max.   :8.0      Max.   :934.4   Max.   :976.3  \n",
       " NA's   :578057   NA's   :508723                                  \n",
       "   sameschool        readprev         mathprev           girl       \n",
       " Min.   :0.0      Min.   : 12.5    Min.   : 25.2    Min.   :0.0000  \n",
       " 1st Qu.:0.0      1st Qu.:426.0    1st Qu.:416.5    1st Qu.:0.0000  \n",
       " Median :1.0      Median :490.7    Median :481.1    Median :0.0000  \n",
       " Mean   :0.6      Mean   :487.2    Mean   :479.8    Mean   :0.4924  \n",
       " 3rd Qu.:1.0      3rd Qu.:553.6    3rd Qu.:542.3    3rd Qu.:1.0000  \n",
       " Max.   :1.0      Max.   :865.8    Max.   :922.8    Max.   :1.0000  \n",
       " NA's   :648339   NA's   :704907   NA's   :709014                   \n",
       "      met           provincial         remote            lbote      \n",
       " Min.   :0.0000   Min.   :0.0000   Min.   :0.00000   Min.   :0.00   \n",
       " 1st Qu.:0.0000   1st Qu.:0.0000   1st Qu.:0.00000   1st Qu.:0.00   \n",
       " Median :1.0000   Median :0.0000   Median :0.00000   Median :0.00   \n",
       " Mean   :0.7347   Mean   :0.2443   Mean   :0.02094   Mean   :0.23   \n",
       " 3rd Qu.:1.0000   3rd Qu.:0.0000   3rd Qu.:0.00000   3rd Qu.:0.00   \n",
       " Max.   :1.0000   Max.   :1.0000   Max.   :1.00000   Max.   :1.00   \n",
       "                                                     NA's   :66221  \n",
       "       SA               NSW             TAS               VIC        \n",
       " Min.   :0.00000   Min.   :0.000   Min.   :0.00000   Min.   :0.0000  \n",
       " 1st Qu.:0.00000   1st Qu.:0.000   1st Qu.:0.00000   1st Qu.:0.0000  \n",
       " Median :0.00000   Median :0.000   Median :0.00000   Median :0.0000  \n",
       " Mean   :0.06804   Mean   :0.329   Mean   :0.02259   Mean   :0.2385  \n",
       " 3rd Qu.:0.00000   3rd Qu.:1.000   3rd Qu.:0.00000   3rd Qu.:0.0000  \n",
       " Max.   :1.00000   Max.   :1.000   Max.   :1.00000   Max.   :1.0000  \n",
       "                                                                     \n",
       "      QLD               WA              ACT                NT         \n",
       " Min.   :0.0000   Min.   :0.0000   Min.   :0.00000   Min.   :0.00000  \n",
       " 1st Qu.:0.0000   1st Qu.:0.0000   1st Qu.:0.00000   1st Qu.:0.00000  \n",
       " Median :0.0000   Median :0.0000   Median :0.00000   Median :0.00000  \n",
       " Mean   :0.2041   Mean   :0.1106   Mean   :0.01691   Mean   :0.01022  \n",
       " 3rd Qu.:0.0000   3rd Qu.:0.0000   3rd Qu.:0.00000   3rd Qu.:0.00000  \n",
       " Max.   :1.0000   Max.   :1.0000   Max.   :1.00000   Max.   :1.00000  \n",
       "                                                                      \n",
       "    nstudent     meanreadscore   meanmathscore       readrisk      \n",
       " Min.   :  0.0   Min.   :-20.4   Min.   : 33.86   Min.   :0.00000  \n",
       " 1st Qu.: 49.0   1st Qu.:461.6   1st Qu.:442.32   1st Qu.:0.00000  \n",
       " Median : 84.0   Median :521.6   Median :513.59   Median :0.00000  \n",
       " Mean   :105.8   Mean   :510.9   Mean   :504.29   Mean   :0.03457  \n",
       " 3rd Qu.:150.0   3rd Qu.:563.4   3rd Qu.:563.26   3rd Qu.:0.00000  \n",
       " Max.   :548.0   Max.   :811.4   Max.   :875.72   Max.   :1.00000  \n",
       "                                                                   \n",
       "    mathrisk      \n",
       " Min.   :0.00000  \n",
       " 1st Qu.:0.00000  \n",
       " Median :0.00000  \n",
       " Mean   :0.02733  \n",
       " 3rd Qu.:0.00000  \n",
       " Max.   :1.00000  \n",
       "                  "
      ]
     },
     "metadata": {},
     "output_type": "display_data"
    },
    {
     "data": {
      "text/html": [
       "<ol class=list-inline>\n",
       "\t<li>800876</li>\n",
       "\t<li>31</li>\n",
       "</ol>\n"
      ],
      "text/latex": [
       "\\begin{enumerate*}\n",
       "\\item 800876\n",
       "\\item 31\n",
       "\\end{enumerate*}\n"
      ],
      "text/markdown": [
       "1. 800876\n",
       "2. 31\n",
       "\n",
       "\n"
      ],
      "text/plain": [
       "[1] 800876     31"
      ]
     },
     "metadata": {},
     "output_type": "display_data"
    },
    {
     "data": {
      "text/plain": [
       "      priv            grade           age            indig        \n",
       " Min.   :0.0000   Min.   :5.00   Min.   : 9.00   Min.   :0.00000  \n",
       " 1st Qu.:0.0000   1st Qu.:5.00   1st Qu.:10.80   1st Qu.:0.00000  \n",
       " Median :0.0000   Median :7.00   Median :12.50   Median :0.00000  \n",
       " Mean   :0.4681   Mean   :6.94   Mean   :12.49   Mean   :0.02104  \n",
       " 3rd Qu.:1.0000   3rd Qu.:9.00   3rd Qu.:14.20   3rd Qu.:0.00000  \n",
       " Max.   :1.0000   Max.   :9.00   Max.   :17.50   Max.   :1.00000  \n",
       "   mumschool       mumhighed        mumoccup       dadschool    \n",
       " Min.   :1.000   Min.   :5.000   Min.   :1.000   Min.   :1.000  \n",
       " 1st Qu.:3.000   1st Qu.:5.000   1st Qu.:2.000   1st Qu.:2.000  \n",
       " Median :4.000   Median :7.000   Median :3.000   Median :4.000  \n",
       " Mean   :3.432   Mean   :6.576   Mean   :3.618   Mean   :3.273  \n",
       " 3rd Qu.:4.000   3rd Qu.:8.000   3rd Qu.:4.000   3rd Qu.:4.000  \n",
       " Max.   :4.000   Max.   :8.000   Max.   :8.000   Max.   :4.000  \n",
       "   dadhighed        dadoccup       sameschool        readprev    \n",
       " Min.   :5.000   Min.   :1.000   Min.   :0.0000   Min.   : 12.5  \n",
       " 1st Qu.:5.000   1st Qu.:2.000   1st Qu.:0.0000   1st Qu.:436.1  \n",
       " Median :7.000   Median :2.000   Median :1.0000   Median :499.6  \n",
       " Mean   :6.382   Mean   :2.704   Mean   :0.6462   Mean   :497.3  \n",
       " 3rd Qu.:7.000   3rd Qu.:3.000   3rd Qu.:1.0000   3rd Qu.:562.0  \n",
       " Max.   :8.000   Max.   :8.000   Max.   :1.0000   Max.   :865.8  \n",
       "    mathprev          girl             met           provincial    \n",
       " Min.   : 25.2   Min.   :0.0000   Min.   :0.0000   Min.   :0.0000  \n",
       " 1st Qu.:421.6   1st Qu.:0.0000   1st Qu.:1.0000   1st Qu.:0.0000  \n",
       " Median :487.0   Median :0.0000   Median :1.0000   Median :0.0000  \n",
       " Mean   :489.1   Mean   :0.4922   Mean   :0.7621   Mean   :0.2283  \n",
       " 3rd Qu.:549.6   3rd Qu.:1.0000   3rd Qu.:1.0000   3rd Qu.:0.0000  \n",
       " Max.   :922.8   Max.   :1.0000   Max.   :1.0000   Max.   :1.0000  \n",
       "     remote             lbote              SA               NSW        \n",
       " Min.   :0.000000   Min.   :0.0000   Min.   :0.00000   Min.   :0.0000  \n",
       " 1st Qu.:0.000000   1st Qu.:0.0000   1st Qu.:0.00000   1st Qu.:0.0000  \n",
       " Median :0.000000   Median :0.0000   Median :0.00000   Median :0.0000  \n",
       " Mean   :0.009541   Mean   :0.2178   Mean   :0.04534   Mean   :0.3352  \n",
       " 3rd Qu.:0.000000   3rd Qu.:0.0000   3rd Qu.:0.00000   3rd Qu.:1.0000  \n",
       " Max.   :1.000000   Max.   :1.0000   Max.   :1.00000   Max.   :1.0000  \n",
       "      TAS               VIC              QLD               WA         \n",
       " Min.   :0.00000   Min.   :0.0000   Min.   :0.0000   Min.   :0.00000  \n",
       " 1st Qu.:0.00000   1st Qu.:0.0000   1st Qu.:0.0000   1st Qu.:0.00000  \n",
       " Median :0.00000   Median :0.0000   Median :0.0000   Median :0.00000  \n",
       " Mean   :0.02463   Mean   :0.3033   Mean   :0.1934   Mean   :0.08241  \n",
       " 3rd Qu.:0.00000   3rd Qu.:1.0000   3rd Qu.:0.0000   3rd Qu.:0.00000  \n",
       " Max.   :1.00000   Max.   :1.0000   Max.   :1.0000   Max.   :1.00000  \n",
       "      ACT                NT       nstudent   meanreadscore   meanmathscore  \n",
       " Min.   :0.00000   Min.   :0   Min.   :  0   Min.   :255.2   Min.   :272.4  \n",
       " 1st Qu.:0.00000   1st Qu.:0   1st Qu.: 58   1st Qu.:516.5   1st Qu.:505.4  \n",
       " Median :0.00000   Median :0   Median :108   Median :547.7   Median :544.7  \n",
       " Mean   :0.01576   Mean   :0   Mean   :124   Mean   :548.5   Mean   :546.8  \n",
       " 3rd Qu.:0.00000   3rd Qu.:0   3rd Qu.:179   3rd Qu.:579.6   3rd Qu.:582.7  \n",
       " Max.   :1.00000   Max.   :0   Max.   :548   Max.   :811.4   Max.   :875.7  \n",
       "    readrisk          mathrisk      \n",
       " Min.   :0.00000   Min.   :0.00000  \n",
       " 1st Qu.:0.00000   1st Qu.:0.00000  \n",
       " Median :0.00000   Median :0.00000  \n",
       " Mean   :0.01767   Mean   :0.01369  \n",
       " 3rd Qu.:0.00000   3rd Qu.:0.00000  \n",
       " Max.   :1.00000   Max.   :1.00000  "
      ]
     },
     "metadata": {},
     "output_type": "display_data"
    },
    {
     "name": "stdout",
     "output_type": "stream",
     "text": [
      "[1] \"Preprocessed data summary.\"\n"
     ]
    },
    {
     "data": {
      "text/html": [
       "<ol class=list-inline>\n",
       "\t<li>800876</li>\n",
       "\t<li>29</li>\n",
       "</ol>\n"
      ],
      "text/latex": [
       "\\begin{enumerate*}\n",
       "\\item 800876\n",
       "\\item 29\n",
       "\\end{enumerate*}\n"
      ],
      "text/markdown": [
       "1. 800876\n",
       "2. 29\n",
       "\n",
       "\n"
      ],
      "text/plain": [
       "[1] 800876     29"
      ]
     },
     "metadata": {},
     "output_type": "display_data"
    },
    {
     "data": {
      "text/plain": [
       "      priv            grade           age            indig        \n",
       " Min.   :0.0000   Min.   :5.00   Min.   : 9.00   Min.   :0.00000  \n",
       " 1st Qu.:0.0000   1st Qu.:5.00   1st Qu.:10.80   1st Qu.:0.00000  \n",
       " Median :0.0000   Median :7.00   Median :12.50   Median :0.00000  \n",
       " Mean   :0.4681   Mean   :6.94   Mean   :12.49   Mean   :0.02104  \n",
       " 3rd Qu.:1.0000   3rd Qu.:9.00   3rd Qu.:14.20   3rd Qu.:0.00000  \n",
       " Max.   :1.0000   Max.   :9.00   Max.   :17.50   Max.   :1.00000  \n",
       "   mumschool       mumhighed        mumoccup       dadschool    \n",
       " Min.   :1.000   Min.   :5.000   Min.   :1.000   Min.   :1.000  \n",
       " 1st Qu.:3.000   1st Qu.:5.000   1st Qu.:2.000   1st Qu.:2.000  \n",
       " Median :4.000   Median :7.000   Median :3.000   Median :4.000  \n",
       " Mean   :3.432   Mean   :6.576   Mean   :3.618   Mean   :3.273  \n",
       " 3rd Qu.:4.000   3rd Qu.:8.000   3rd Qu.:4.000   3rd Qu.:4.000  \n",
       " Max.   :4.000   Max.   :8.000   Max.   :8.000   Max.   :4.000  \n",
       "   dadhighed        dadoccup       sameschool        readprev    \n",
       " Min.   :5.000   Min.   :1.000   Min.   :0.0000   Min.   : 12.5  \n",
       " 1st Qu.:5.000   1st Qu.:2.000   1st Qu.:0.0000   1st Qu.:436.1  \n",
       " Median :7.000   Median :2.000   Median :1.0000   Median :499.6  \n",
       " Mean   :6.382   Mean   :2.704   Mean   :0.6462   Mean   :497.3  \n",
       " 3rd Qu.:7.000   3rd Qu.:3.000   3rd Qu.:1.0000   3rd Qu.:562.0  \n",
       " Max.   :8.000   Max.   :8.000   Max.   :1.0000   Max.   :865.8  \n",
       "    mathprev          girl             met           provincial    \n",
       " Min.   : 25.2   Min.   :0.0000   Min.   :0.0000   Min.   :0.0000  \n",
       " 1st Qu.:421.6   1st Qu.:0.0000   1st Qu.:1.0000   1st Qu.:0.0000  \n",
       " Median :487.0   Median :0.0000   Median :1.0000   Median :0.0000  \n",
       " Mean   :489.1   Mean   :0.4922   Mean   :0.7621   Mean   :0.2283  \n",
       " 3rd Qu.:549.6   3rd Qu.:1.0000   3rd Qu.:1.0000   3rd Qu.:0.0000  \n",
       " Max.   :922.8   Max.   :1.0000   Max.   :1.0000   Max.   :1.0000  \n",
       "     remote             lbote              SA               NSW        \n",
       " Min.   :0.000000   Min.   :0.0000   Min.   :0.00000   Min.   :0.0000  \n",
       " 1st Qu.:0.000000   1st Qu.:0.0000   1st Qu.:0.00000   1st Qu.:0.0000  \n",
       " Median :0.000000   Median :0.0000   Median :0.00000   Median :0.0000  \n",
       " Mean   :0.009541   Mean   :0.2178   Mean   :0.04534   Mean   :0.3352  \n",
       " 3rd Qu.:0.000000   3rd Qu.:0.0000   3rd Qu.:0.00000   3rd Qu.:1.0000  \n",
       " Max.   :1.000000   Max.   :1.0000   Max.   :1.00000   Max.   :1.0000  \n",
       "      TAS               VIC              QLD               WA         \n",
       " Min.   :0.00000   Min.   :0.0000   Min.   :0.0000   Min.   :0.00000  \n",
       " 1st Qu.:0.00000   1st Qu.:0.0000   1st Qu.:0.0000   1st Qu.:0.00000  \n",
       " Median :0.00000   Median :0.0000   Median :0.0000   Median :0.00000  \n",
       " Mean   :0.02463   Mean   :0.3033   Mean   :0.1934   Mean   :0.08241  \n",
       " 3rd Qu.:0.00000   3rd Qu.:1.0000   3rd Qu.:0.0000   3rd Qu.:0.00000  \n",
       " Max.   :1.00000   Max.   :1.0000   Max.   :1.0000   Max.   :1.00000  \n",
       "      ACT                NT       nstudent   meanreadscore   meanmathscore  \n",
       " Min.   :0.00000   Min.   :0   Min.   :  0   Min.   :255.2   Min.   :272.4  \n",
       " 1st Qu.:0.00000   1st Qu.:0   1st Qu.: 58   1st Qu.:516.5   1st Qu.:505.4  \n",
       " Median :0.00000   Median :0   Median :108   Median :547.7   Median :544.7  \n",
       " Mean   :0.01576   Mean   :0   Mean   :124   Mean   :548.5   Mean   :546.8  \n",
       " 3rd Qu.:0.00000   3rd Qu.:0   3rd Qu.:179   3rd Qu.:579.6   3rd Qu.:582.7  \n",
       " Max.   :1.00000   Max.   :0   Max.   :548   Max.   :811.4   Max.   :875.7  "
      ]
     },
     "metadata": {},
     "output_type": "display_data"
    },
    {
     "data": {
      "text/html": [
       "<ol class=list-inline>\n",
       "\t<li>800876</li>\n",
       "\t<li>28</li>\n",
       "</ol>\n"
      ],
      "text/latex": [
       "\\begin{enumerate*}\n",
       "\\item 800876\n",
       "\\item 28\n",
       "\\end{enumerate*}\n"
      ],
      "text/markdown": [
       "1. 800876\n",
       "2. 28\n",
       "\n",
       "\n"
      ],
      "text/plain": [
       "[1] 800876     28"
      ]
     },
     "metadata": {},
     "output_type": "display_data"
    }
   ],
   "source": [
    "print('Raw data summary.')\n",
    "dim(raw.data)\n",
    "summary(raw.data)\n",
    "\n",
    "\n",
    "# Irrelevant predictors:\n",
    "# schoolid, studentit, cohort\n",
    "# readscore and mathscore were used \n",
    "# to construct readrisk and mathrisk.\n",
    "ix <- c(1, 3, 4, 6, 15, 16)\n",
    "data <- raw.data[, -ix]\n",
    "\n",
    "# Drop NAs\n",
    "data <- data[complete.cases(data), ]\n",
    "\n",
    "dim(data)\n",
    "summary(data)\n",
    "\n",
    "# Remove response variables\n",
    "readrisk <- data[, 30]\n",
    "mathrisk <- data[, 31]\n",
    "data <- data[, -c(30, 31)]\n",
    "\n",
    "# Summarize data.\n",
    "print('Preprocessed data summary.')\n",
    "dim(data)\n",
    "summary(data)\n",
    "\n",
    "# Note that after removing the NAs, no \n",
    "# observations remain from the Northern\n",
    "# Territory. So remove this variable.\n",
    "data <- data[, -26]\n",
    "\n",
    "dim(data)\n",
    "\n"
   ]
  },
  {
   "cell_type": "markdown",
   "metadata": {},
   "source": [
    "Create a data frame with the dummy 'readrisk' as the response. Currently each variable is coded as a numeric. Turn the categorical/dummy variales into factors."
   ]
  },
  {
   "cell_type": "code",
   "execution_count": 3,
   "metadata": {
    "scrolled": true
   },
   "outputs": [
    {
     "data": {
      "text/html": [
       "<dl class=dl-horizontal>\n",
       "\t<dt>Class</dt>\n",
       "\t\t<dd>'factor'</dd>\n",
       "\t<dt>priv</dt>\n",
       "\t\t<dd>'factor'</dd>\n",
       "\t<dt>grade</dt>\n",
       "\t\t<dd>'factor'</dd>\n",
       "\t<dt>age</dt>\n",
       "\t\t<dd>'numeric'</dd>\n",
       "\t<dt>indig</dt>\n",
       "\t\t<dd>'factor'</dd>\n",
       "\t<dt>mumschool</dt>\n",
       "\t\t<dd>'factor'</dd>\n",
       "\t<dt>mumhighed</dt>\n",
       "\t\t<dd>'factor'</dd>\n",
       "\t<dt>mumoccup</dt>\n",
       "\t\t<dd>'factor'</dd>\n",
       "\t<dt>dadschool</dt>\n",
       "\t\t<dd>'factor'</dd>\n",
       "\t<dt>dadhighed</dt>\n",
       "\t\t<dd>'factor'</dd>\n",
       "\t<dt>dadoccup</dt>\n",
       "\t\t<dd>'factor'</dd>\n",
       "\t<dt>sameschool</dt>\n",
       "\t\t<dd>'factor'</dd>\n",
       "\t<dt>readprev</dt>\n",
       "\t\t<dd>'numeric'</dd>\n",
       "\t<dt>mathprev</dt>\n",
       "\t\t<dd>'numeric'</dd>\n",
       "\t<dt>girl</dt>\n",
       "\t\t<dd>'factor'</dd>\n",
       "\t<dt>met</dt>\n",
       "\t\t<dd>'factor'</dd>\n",
       "\t<dt>provincial</dt>\n",
       "\t\t<dd>'factor'</dd>\n",
       "\t<dt>remote</dt>\n",
       "\t\t<dd>'factor'</dd>\n",
       "\t<dt>lbote</dt>\n",
       "\t\t<dd>'factor'</dd>\n",
       "\t<dt>SA</dt>\n",
       "\t\t<dd>'factor'</dd>\n",
       "\t<dt>NSW</dt>\n",
       "\t\t<dd>'factor'</dd>\n",
       "\t<dt>TAS</dt>\n",
       "\t\t<dd>'factor'</dd>\n",
       "\t<dt>VIC</dt>\n",
       "\t\t<dd>'factor'</dd>\n",
       "\t<dt>QLD</dt>\n",
       "\t\t<dd>'factor'</dd>\n",
       "\t<dt>WA</dt>\n",
       "\t\t<dd>'factor'</dd>\n",
       "\t<dt>ACT</dt>\n",
       "\t\t<dd>'factor'</dd>\n",
       "\t<dt>nstudent</dt>\n",
       "\t\t<dd>'numeric'</dd>\n",
       "\t<dt>meanreadscore</dt>\n",
       "\t\t<dd>'numeric'</dd>\n",
       "\t<dt>meanmathscore</dt>\n",
       "\t\t<dd>'numeric'</dd>\n",
       "</dl>\n"
      ],
      "text/latex": [
       "\\begin{description*}\n",
       "\\item[Class] 'factor'\n",
       "\\item[priv] 'factor'\n",
       "\\item[grade] 'factor'\n",
       "\\item[age] 'numeric'\n",
       "\\item[indig] 'factor'\n",
       "\\item[mumschool] 'factor'\n",
       "\\item[mumhighed] 'factor'\n",
       "\\item[mumoccup] 'factor'\n",
       "\\item[dadschool] 'factor'\n",
       "\\item[dadhighed] 'factor'\n",
       "\\item[dadoccup] 'factor'\n",
       "\\item[sameschool] 'factor'\n",
       "\\item[readprev] 'numeric'\n",
       "\\item[mathprev] 'numeric'\n",
       "\\item[girl] 'factor'\n",
       "\\item[met] 'factor'\n",
       "\\item[provincial] 'factor'\n",
       "\\item[remote] 'factor'\n",
       "\\item[lbote] 'factor'\n",
       "\\item[SA] 'factor'\n",
       "\\item[NSW] 'factor'\n",
       "\\item[TAS] 'factor'\n",
       "\\item[VIC] 'factor'\n",
       "\\item[QLD] 'factor'\n",
       "\\item[WA] 'factor'\n",
       "\\item[ACT] 'factor'\n",
       "\\item[nstudent] 'numeric'\n",
       "\\item[meanreadscore] 'numeric'\n",
       "\\item[meanmathscore] 'numeric'\n",
       "\\end{description*}\n"
      ],
      "text/markdown": [
       "Class\n",
       ":   'factor'priv\n",
       ":   'factor'grade\n",
       ":   'factor'age\n",
       ":   'numeric'indig\n",
       ":   'factor'mumschool\n",
       ":   'factor'mumhighed\n",
       ":   'factor'mumoccup\n",
       ":   'factor'dadschool\n",
       ":   'factor'dadhighed\n",
       ":   'factor'dadoccup\n",
       ":   'factor'sameschool\n",
       ":   'factor'readprev\n",
       ":   'numeric'mathprev\n",
       ":   'numeric'girl\n",
       ":   'factor'met\n",
       ":   'factor'provincial\n",
       ":   'factor'remote\n",
       ":   'factor'lbote\n",
       ":   'factor'SA\n",
       ":   'factor'NSW\n",
       ":   'factor'TAS\n",
       ":   'factor'VIC\n",
       ":   'factor'QLD\n",
       ":   'factor'WA\n",
       ":   'factor'ACT\n",
       ":   'factor'nstudent\n",
       ":   'numeric'meanreadscore\n",
       ":   'numeric'meanmathscore\n",
       ":   'numeric'\n",
       "\n"
      ],
      "text/plain": [
       "        Class          priv         grade           age         indig \n",
       "     \"factor\"      \"factor\"      \"factor\"     \"numeric\"      \"factor\" \n",
       "    mumschool     mumhighed      mumoccup     dadschool     dadhighed \n",
       "     \"factor\"      \"factor\"      \"factor\"      \"factor\"      \"factor\" \n",
       "     dadoccup    sameschool      readprev      mathprev          girl \n",
       "     \"factor\"      \"factor\"     \"numeric\"     \"numeric\"      \"factor\" \n",
       "          met    provincial        remote         lbote            SA \n",
       "     \"factor\"      \"factor\"      \"factor\"      \"factor\"      \"factor\" \n",
       "          NSW           TAS           VIC           QLD            WA \n",
       "     \"factor\"      \"factor\"      \"factor\"      \"factor\"      \"factor\" \n",
       "          ACT      nstudent meanreadscore meanmathscore \n",
       "     \"factor\"     \"numeric\"     \"numeric\"     \"numeric\" "
      ]
     },
     "metadata": {},
     "output_type": "display_data"
    }
   ],
   "source": [
    "# Make data frame\n",
    "data <- data.frame(Class=readrisk, data)\n",
    "\n",
    "# Force variable types.\n",
    "# Numeric types:\n",
    "# 4, age; 13, readprev; 14, mathprev;\n",
    "# 27, nstudent, 28, meanreadscore;\n",
    "# 29, meanmathscore. The rest are \n",
    "# factors.\n",
    "ix.numeric <- c(4, 13, 14, 27:29)\n",
    "ix.factors <- setdiff(1:dim(data)[2], ix.numeric)\n",
    "\n",
    "data[, ix.numeric] <- lapply(data[, ix.numeric], as.numeric)\n",
    "data[, ix.factors] <- lapply(data[, ix.factors], as.factor)\n",
    "\n",
    "       \n",
    "# Display variable names and types\n",
    "sapply(data, class)\n",
    "\n",
    "# Now Remove raw.data from memory.\n",
    "rm(list=c('raw.data'))\n",
    "\n"
   ]
  },
  {
   "cell_type": "markdown",
   "metadata": {},
   "source": [
    "## Sample splitting\n",
    "\n",
    "Use a 2/3-1/3 split to obtain training and test sets.\n"
   ]
  },
  {
   "cell_type": "code",
   "execution_count": 4,
   "metadata": {},
   "outputs": [
    {
     "name": "stdout",
     "output_type": "stream",
     "text": [
      "[1] \"Training data summary\"\n"
     ]
    },
    {
     "data": {
      "text/html": [
       "<ol class=list-inline>\n",
       "\t<li>533918</li>\n",
       "\t<li>29</li>\n",
       "</ol>\n"
      ],
      "text/latex": [
       "\\begin{enumerate*}\n",
       "\\item 533918\n",
       "\\item 29\n",
       "\\end{enumerate*}\n"
      ],
      "text/markdown": [
       "1. 533918\n",
       "2. 29\n",
       "\n",
       "\n"
      ],
      "text/plain": [
       "[1] 533918     29"
      ]
     },
     "metadata": {},
     "output_type": "display_data"
    },
    {
     "data": {
      "text/plain": [
       " Class      priv       grade           age        indig      mumschool \n",
       " 0:524485   0:284015   5:186125   Min.   : 9.00   0:522707   1: 21216  \n",
       " 1:  9433   1:249903   7:177437   1st Qu.:10.80   1: 11211   2: 90395  \n",
       "                       9:170356   Median :12.50              3: 58291  \n",
       "                                  Mean   :12.49              4:364016  \n",
       "                                  3rd Qu.:14.20                        \n",
       "                                  Max.   :17.50                        \n",
       " mumhighed  mumoccup   dadschool  dadhighed  dadoccup   sameschool\n",
       " 5:135709   1:106315   1: 28918   5:185836   1:131713   0:189080  \n",
       " 6: 89868   2:111327   2:119338   6: 73370   2:142277   1:344838  \n",
       " 7:174368   3:125391   3: 61682   7:160180   3:133130             \n",
       " 8:133973   4: 76021   4:323980   8:114532   4: 96699             \n",
       "            8:114864                         8: 30099             \n",
       "                                                                  \n",
       "    readprev        mathprev     girl       met        provincial remote    \n",
       " Min.   : 12.5   Min.   : 25.2   0:271247   0:127192   0:411808   0:528836  \n",
       " 1st Qu.:436.1   1st Qu.:421.6   1:262671   1:406726   1:122110   1:  5082  \n",
       " Median :499.6   Median :487.0                                              \n",
       " Mean   :497.3   Mean   :489.1                                              \n",
       " 3rd Qu.:562.0   3rd Qu.:549.6                                              \n",
       " Max.   :865.8   Max.   :922.8                                              \n",
       " lbote      SA         NSW        TAS        VIC        QLD        WA        \n",
       " 0:417780   0:509544   0:355026   0:520743   0:372294   0:430673   0:489753  \n",
       " 1:116138   1: 24374   1:178892   1: 13175   1:161624   1:103245   1: 44165  \n",
       "                                                                             \n",
       "                                                                             \n",
       "                                                                             \n",
       "                                                                             \n",
       " ACT           nstudent   meanreadscore   meanmathscore  \n",
       " 0:525475   Min.   :  0   Min.   :255.2   Min.   :272.4  \n",
       " 1:  8443   1st Qu.: 58   1st Qu.:516.6   1st Qu.:505.6  \n",
       "            Median :108   Median :547.7   Median :544.7  \n",
       "            Mean   :124   Mean   :548.6   Mean   :546.8  \n",
       "            3rd Qu.:179   3rd Qu.:579.6   3rd Qu.:582.6  \n",
       "            Max.   :548   Max.   :811.4   Max.   :875.7  "
      ]
     },
     "metadata": {},
     "output_type": "display_data"
    },
    {
     "name": "stdout",
     "output_type": "stream",
     "text": [
      "[1] \"Test data summary\"\n"
     ]
    },
    {
     "data": {
      "text/html": [
       "<ol class=list-inline>\n",
       "\t<li>266958</li>\n",
       "\t<li>29</li>\n",
       "</ol>\n"
      ],
      "text/latex": [
       "\\begin{enumerate*}\n",
       "\\item 266958\n",
       "\\item 29\n",
       "\\end{enumerate*}\n"
      ],
      "text/markdown": [
       "1. 266958\n",
       "2. 29\n",
       "\n",
       "\n"
      ],
      "text/plain": [
       "[1] 266958     29"
      ]
     },
     "metadata": {},
     "output_type": "display_data"
    },
    {
     "data": {
      "text/plain": [
       " Class      priv       grade          age        indig      mumschool \n",
       " 0:262242   0:141941   5:93684   Min.   : 9.00   0:261317   1: 10720  \n",
       " 1:  4716   1:125017   7:87896   1st Qu.:10.80   1:  5641   2: 45192  \n",
       "                       9:85378   Median :12.50              3: 29275  \n",
       "                                 Mean   :12.49              4:181771  \n",
       "                                 3rd Qu.:14.20                        \n",
       "                                 Max.   :17.40                        \n",
       " mumhighed mumoccup  dadschool  dadhighed dadoccup  sameschool    readprev    \n",
       " 5:67589   1:52906   1: 14759   5:92514   1:65852   0: 94239   Min.   : 12.5  \n",
       " 6:44628   2:55772   2: 59762   6:36882   2:70955   1:172719   1st Qu.:436.1  \n",
       " 7:87586   3:62004   3: 31004   7:80283   3:66820              Median :499.6  \n",
       " 8:67155   4:37906   4:161433   8:57279   4:48169              Mean   :497.3  \n",
       "           8:58370                        8:15162              3rd Qu.:562.0  \n",
       "                                                               Max.   :865.8  \n",
       "    mathprev     girl       met        provincial remote     lbote     \n",
       " Min.   : 25.2   0:135452   0: 63323   0:206194   0:264399   0:208636  \n",
       " 1st Qu.:421.6   1:131506   1:203635   1: 60764   1:  2559   1: 58322  \n",
       " Median :487.0                                                         \n",
       " Mean   :489.1                                                         \n",
       " 3rd Qu.:549.6                                                         \n",
       " Max.   :922.8                                                         \n",
       " SA         NSW        TAS        VIC        QLD        WA         ACT       \n",
       " 0:255017   0:177383   0:260411   0:185704   0:215329   0:245123   0:262781  \n",
       " 1: 11941   1: 89575   1:  6547   1: 81254   1: 51629   1: 21835   1:  4177  \n",
       "                                                                             \n",
       "                                                                             \n",
       "                                                                             \n",
       "                                                                             \n",
       "    nstudent     meanreadscore   meanmathscore  \n",
       " Min.   :  0.0   Min.   :261.8   Min.   :304.1  \n",
       " 1st Qu.: 58.0   1st Qu.:516.3   1st Qu.:505.3  \n",
       " Median :108.0   Median :547.6   Median :544.6  \n",
       " Mean   :123.9   Mean   :548.5   Mean   :546.7  \n",
       " 3rd Qu.:179.0   3rd Qu.:579.7   3rd Qu.:582.8  \n",
       " Max.   :548.0   Max.   :730.0   Max.   :875.7  "
      ]
     },
     "metadata": {},
     "output_type": "display_data"
    }
   ],
   "source": [
    "set.seed(2718)\n",
    "\n",
    "inTrain <- createDataPartition(\n",
    "  y = data$Class,\n",
    "  p = 2/3,\n",
    "  list=F\n",
    ")\n",
    "\n",
    "train.data <- data[inTrain, ]\n",
    "test.data <- data[-inTrain, ]\n",
    "\n",
    "print('Training data summary')\n",
    "dim(train.data)\n",
    "summary(train.data)\n",
    "\n",
    "print('Test data summary')\n",
    "dim(test.data)\n",
    "summary(test.data)\n"
   ]
  },
  {
   "cell_type": "markdown",
   "metadata": {},
   "source": [
    "## Weighted Classifiers\n",
    "\n",
    "Here we train the weighted classifiers discussed in Section 3 of the paper. \n",
    "\n",
    "Let $y_{i} \\in \\{0, 1\\}$ denote the true class for observation $i$, where $y_{i} = 1$ if a student is in the `below standard' category. We construct weights for each observation inversely proportional to the frequency of that observation's class. \n",
    "   \n",
    "\\begin{equation}\n",
    "w_{i} = \\frac{1}{2 | \\{j : y_{j} = y_{i} \\} |}\n",
    "\\end{equation}\n",
    "\n",
    "glmnet only accepts matrices, not data frames, so we split the data frame into a response vector, y, and a model matrix, X."
   ]
  },
  {
   "cell_type": "code",
   "execution_count": 5,
   "metadata": {},
   "outputs": [],
   "source": [
    "# Model weights\n",
    "train.weights <- ifelse(train.data$Class == 0,\n",
    "                              (1/table(train.data$Class)[1]*.5),\n",
    "                              (1/table(train.data$Class)[2]*0.5))\n",
    "\n",
    "# Turn data frame into matrix\n",
    "X <- model.matrix(Class ~., train.data)\n",
    "y <- train.data$Class\n"
   ]
  },
  {
   "cell_type": "markdown",
   "metadata": {},
   "source": [
    "### Elastic Net\n",
    "\n",
    "The elastic net classifier minimizes the following objective function.\n",
    "\n",
    "\\begin{equation}\n",
    "    \\mathcal{L}(\\hat{y}_{i}, y_{i}) = w_{i}l(\\beta) + \\lambda \\left( (\\alpha ||\\beta||_{1} + (1-\\alpha)\\frac{1}{2} ||\\beta||_{2}^{2}\\right)\n",
    "\\end{equation}\n",
    "\n",
    "We impose that the lasso and ridge penalties get equal weight, $\\alpha = \\frac{1}{2}$, with $\\lambda$ being chosen by 10-fold cross-validation.\n",
    "\n",
    "Passing the argument type.measure=\"class\" to glmnet sets $l(\\beta)$ to be the binary cross-entropy loss function."
   ]
  },
  {
   "cell_type": "code",
   "execution_count": 6,
   "metadata": {},
   "outputs": [
    {
     "data": {
      "text/plain": [
       "Time difference of 34.45004 mins"
      ]
     },
     "metadata": {},
     "output_type": "display_data"
    }
   ],
   "source": [
    "# Register parallel session\n",
    "registerDoMC(cores=3)\n",
    "\n",
    "# Estimate the elastic net classifier\n",
    "t0 <- Sys.time()\n",
    "set.seed(2718)\n",
    "weight.EN.fit <- cv.glmnet(x=X,\n",
    "                           y=y,\n",
    "                           family=\"binomial\",\n",
    "                           alpha=0.5,\n",
    "                           type.measure=\"class\",\n",
    "                           weights=train.weights,\n",
    "                           parallel=T)\n",
    "Sys.time() - t0\n"
   ]
  },
  {
   "cell_type": "markdown",
   "metadata": {},
   "source": [
    "Plot the cross-validation curve; display coefficients,confusion matrix and performance measures on the test set."
   ]
  },
  {
   "cell_type": "code",
   "execution_count": 7,
   "metadata": {},
   "outputs": [
    {
     "data": {
      "text/plain": [
       "45 x 1 sparse Matrix of class \"dgCMatrix\"\n",
       "                          1\n",
       "(Intercept)    1.4405189609\n",
       "(Intercept)    .           \n",
       "priv1         -0.1524663385\n",
       "grade7         5.3158284524\n",
       "grade9         6.5492263160\n",
       "age            0.8806759215\n",
       "indig1         0.1706368241\n",
       "mumschool2     .           \n",
       "mumschool3    -0.0102617550\n",
       "mumschool4    -0.1541041882\n",
       "mumhighed6     0.0567560130\n",
       "mumhighed7    -0.1463770917\n",
       "mumhighed8     .           \n",
       "mumoccup2      .           \n",
       "mumoccup3     -0.0391140297\n",
       "mumoccup4      0.0017775674\n",
       "mumoccup8      0.0213338561\n",
       "dadschool2     .           \n",
       "dadschool3     .           \n",
       "dadschool4    -0.1379826808\n",
       "dadhighed6    -0.1775014107\n",
       "dadhighed7    -0.2736415596\n",
       "dadhighed8     .           \n",
       "dadoccup2     -0.0248512854\n",
       "dadoccup3      .           \n",
       "dadoccup4      0.0437303129\n",
       "dadoccup8      0.0945127800\n",
       "sameschool1   -0.2722527065\n",
       "readprev      -0.0206470855\n",
       "mathprev      -0.0110833402\n",
       "girl1         -0.5143654320\n",
       "met1           .           \n",
       "provincial1    0.0485682827\n",
       "remote1        .           \n",
       "lbote1        -0.1154381318\n",
       "SA1            .           \n",
       "NSW1          -0.0145705282\n",
       "TAS1           .           \n",
       "VIC1           .           \n",
       "QLD1           0.3563146483\n",
       "WA1            0.0341273931\n",
       "ACT1           0.2632706588\n",
       "nstudent       0.0007173973\n",
       "meanreadscore -0.0107789533\n",
       "meanmathscore  0.0042119167"
      ]
     },
     "metadata": {},
     "output_type": "display_data"
    },
    {
     "data": {
      "text/plain": [
       "Confusion Matrix and Statistics\n",
       "\n",
       "          Reference\n",
       "Prediction      0      1\n",
       "         0 227652    367\n",
       "         1  34590   4349\n",
       "                                          \n",
       "               Accuracy : 0.8691          \n",
       "                 95% CI : (0.8678, 0.8703)\n",
       "    No Information Rate : 0.9823          \n",
       "    P-Value [Acc > NIR] : 1               \n",
       "                                          \n",
       "                  Kappa : 0.1732          \n",
       " Mcnemar's Test P-Value : <2e-16          \n",
       "                                          \n",
       "            Sensitivity : 0.92218         \n",
       "            Specificity : 0.86810         \n",
       "         Pos Pred Value : 0.11169         \n",
       "         Neg Pred Value : 0.99839         \n",
       "             Prevalence : 0.01767         \n",
       "         Detection Rate : 0.01629         \n",
       "   Detection Prevalence : 0.14586         \n",
       "      Balanced Accuracy : 0.89514         \n",
       "                                          \n",
       "       'Positive' Class : 1               \n",
       "                                          "
      ]
     },
     "metadata": {},
     "output_type": "display_data"
    },
    {
     "data": {
      "text/html": [
       "<dl class=dl-horizontal>\n",
       "\t<dt>Sensitivity</dt>\n",
       "\t\t<dd>92.2179813401188</dd>\n",
       "\t<dt>Specificity</dt>\n",
       "\t\t<dd>86.8098931521267</dd>\n",
       "\t<dt>Pos Pred Value</dt>\n",
       "\t\t<dd>11.1687511235522</dd>\n",
       "\t<dt>Neg Pred Value</dt>\n",
       "\t\t<dd>99.8390485003443</dd>\n",
       "\t<dt>Precision</dt>\n",
       "\t\t<dd>11.1687511235522</dd>\n",
       "\t<dt>Recall</dt>\n",
       "\t\t<dd>92.2179813401188</dd>\n",
       "\t<dt>F1</dt>\n",
       "\t\t<dd>19.924407284389</dd>\n",
       "\t<dt>Prevalence</dt>\n",
       "\t\t<dd>1.76657002225069</dd>\n",
       "\t<dt>Detection Rate</dt>\n",
       "\t\t<dd>1.62909521347927</dd>\n",
       "\t<dt>Detection Prevalence</dt>\n",
       "\t\t<dd>14.5861895878752</dd>\n",
       "\t<dt>Balanced Accuracy</dt>\n",
       "\t\t<dd>89.5139372461227</dd>\n",
       "</dl>\n"
      ],
      "text/latex": [
       "\\begin{description*}\n",
       "\\item[Sensitivity] 92.2179813401188\n",
       "\\item[Specificity] 86.8098931521267\n",
       "\\item[Pos Pred Value] 11.1687511235522\n",
       "\\item[Neg Pred Value] 99.8390485003443\n",
       "\\item[Precision] 11.1687511235522\n",
       "\\item[Recall] 92.2179813401188\n",
       "\\item[F1] 19.924407284389\n",
       "\\item[Prevalence] 1.76657002225069\n",
       "\\item[Detection Rate] 1.62909521347927\n",
       "\\item[Detection Prevalence] 14.5861895878752\n",
       "\\item[Balanced Accuracy] 89.5139372461227\n",
       "\\end{description*}\n"
      ],
      "text/markdown": [
       "Sensitivity\n",
       ":   92.2179813401188Specificity\n",
       ":   86.8098931521267Pos Pred Value\n",
       ":   11.1687511235522Neg Pred Value\n",
       ":   99.8390485003443Precision\n",
       ":   11.1687511235522Recall\n",
       ":   92.2179813401188F1\n",
       ":   19.924407284389Prevalence\n",
       ":   1.76657002225069Detection Rate\n",
       ":   1.62909521347927Detection Prevalence\n",
       ":   14.5861895878752Balanced Accuracy\n",
       ":   89.5139372461227\n",
       "\n"
      ],
      "text/plain": [
       "         Sensitivity          Specificity       Pos Pred Value \n",
       "           92.217981            86.809893            11.168751 \n",
       "      Neg Pred Value            Precision               Recall \n",
       "           99.839049            11.168751            92.217981 \n",
       "                  F1           Prevalence       Detection Rate \n",
       "           19.924407             1.766570             1.629095 \n",
       "Detection Prevalence    Balanced Accuracy \n",
       "           14.586190            89.513937 "
      ]
     },
     "metadata": {},
     "output_type": "display_data"
    },
    {
     "name": "stdout",
     "output_type": "stream",
     "text": [
      "[1] \"AUC\"\n"
     ]
    },
    {
     "data": {
      "text/html": [
       "0.956583999383175"
      ],
      "text/latex": [
       "0.956583999383175"
      ],
      "text/markdown": [
       "0.956583999383175"
      ],
      "text/plain": [
       "Area under the curve: 0.9566"
      ]
     },
     "metadata": {},
     "output_type": "display_data"
    },
    {
     "data": {
      "image/png": "[encoded data removed]",
      "text/plain": [
       "plot without title"
      ]
     },
     "metadata": {},
     "output_type": "display_data"
    }
   ],
   "source": [
    "# Cross-validation curve\n",
    "plot(weight.EN.fit)\n",
    "\n",
    "# Estimated coefficients\n",
    "coef(weight.EN.fit, s='lambda.1se')\n",
    "\n",
    "# Confusion matrix\n",
    "weight.EN.preds <- predict(weight.EN.fit, s='lambda.1se', model.matrix(Class ~., test.data), type='class')\n",
    "weight.EN.CM <- confusionMatrix(as.factor(weight.EN.preds), test.data[, 1], positive=c('1'))\n",
    "weight.EN.CM\n",
    "\n",
    "# Sensitivity/specificity/precision/F1/accuracy\n",
    "weight.EN.CM$byClass*100\n",
    "\n",
    "# ROC curve\n",
    "weight.EN.probs <- predict(weight.EN.fit, s='lambda.1se', model.matrix(Class ~., test.data), type='response')\n",
    "weight.EN.roc <- roc(test.data[, 1], as.numeric(weight.EN.probs))\n",
    "\n",
    "# Display area under the ROC curve\n",
    "print('AUC')\n",
    "weight.EN.roc$auc\n",
    "\n"
   ]
  },
  {
   "cell_type": "markdown",
   "metadata": {},
   "source": [
    "### Classification Tree\n",
    "\n",
    "Train a recursive partitioning tree using rpart."
   ]
  },
  {
   "cell_type": "code",
   "execution_count": 8,
   "metadata": {},
   "outputs": [
    {
     "data": {
      "text/plain": [
       "Time difference of 25.74964 secs"
      ]
     },
     "metadata": {},
     "output_type": "display_data"
    }
   ],
   "source": [
    "t0 <- Sys.time()\n",
    "weight.cart.fit <- rpart(Class ~.,\n",
    "                         data=train.data,\n",
    "                         weights = train.weights)\n",
    "t1 <- Sys.time() - t0\n",
    "t1"
   ]
  },
  {
   "cell_type": "markdown",
   "metadata": {},
   "source": [
    "Show confusion matrix for test set, performance metrics, and plot the tree."
   ]
  },
  {
   "cell_type": "code",
   "execution_count": 9,
   "metadata": {},
   "outputs": [
    {
     "data": {
      "text/plain": [
       "Confusion Matrix and Statistics\n",
       "\n",
       "          Reference\n",
       "Prediction      0      1\n",
       "         0 238336    819\n",
       "         1  23906   3897\n",
       "                                          \n",
       "               Accuracy : 0.9074          \n",
       "                 95% CI : (0.9063, 0.9085)\n",
       "    No Information Rate : 0.9823          \n",
       "    P-Value [Acc > NIR] : 1               \n",
       "                                          \n",
       "                  Kappa : 0.216           \n",
       " Mcnemar's Test P-Value : <2e-16          \n",
       "                                          \n",
       "            Sensitivity : 0.82634         \n",
       "            Specificity : 0.90884         \n",
       "         Pos Pred Value : 0.14016         \n",
       "         Neg Pred Value : 0.99658         \n",
       "             Prevalence : 0.01767         \n",
       "         Detection Rate : 0.01460         \n",
       "   Detection Prevalence : 0.10415         \n",
       "      Balanced Accuracy : 0.86759         \n",
       "                                          \n",
       "       'Positive' Class : 1               \n",
       "                                          "
      ]
     },
     "metadata": {},
     "output_type": "display_data"
    },
    {
     "data": {
      "text/html": [
       "<dl class=dl-horizontal>\n",
       "\t<dt>Sensitivity</dt>\n",
       "\t\t<dd>82.6335877862595</dd>\n",
       "\t<dt>Specificity</dt>\n",
       "\t\t<dd>90.8839926480121</dd>\n",
       "\t<dt>Pos Pred Value</dt>\n",
       "\t\t<dd>14.0164730424774</dd>\n",
       "\t<dt>Neg Pred Value</dt>\n",
       "\t\t<dd>99.6575442704522</dd>\n",
       "\t<dt>Precision</dt>\n",
       "\t\t<dd>14.0164730424774</dd>\n",
       "\t<dt>Recall</dt>\n",
       "\t\t<dd>82.6335877862595</dd>\n",
       "\t<dt>F1</dt>\n",
       "\t\t<dd>23.9675266767121</dd>\n",
       "\t<dt>Prevalence</dt>\n",
       "\t\t<dd>1.76657002225069</dd>\n",
       "\t<dt>Detection Rate</dt>\n",
       "\t\t<dd>1.45978019014227</dd>\n",
       "\t<dt>Detection Prevalence</dt>\n",
       "\t\t<dd>10.4147468890237</dd>\n",
       "\t<dt>Balanced Accuracy</dt>\n",
       "\t\t<dd>86.7587902171358</dd>\n",
       "</dl>\n"
      ],
      "text/latex": [
       "\\begin{description*}\n",
       "\\item[Sensitivity] 82.6335877862595\n",
       "\\item[Specificity] 90.8839926480121\n",
       "\\item[Pos Pred Value] 14.0164730424774\n",
       "\\item[Neg Pred Value] 99.6575442704522\n",
       "\\item[Precision] 14.0164730424774\n",
       "\\item[Recall] 82.6335877862595\n",
       "\\item[F1] 23.9675266767121\n",
       "\\item[Prevalence] 1.76657002225069\n",
       "\\item[Detection Rate] 1.45978019014227\n",
       "\\item[Detection Prevalence] 10.4147468890237\n",
       "\\item[Balanced Accuracy] 86.7587902171358\n",
       "\\end{description*}\n"
      ],
      "text/markdown": [
       "Sensitivity\n",
       ":   82.6335877862595Specificity\n",
       ":   90.8839926480121Pos Pred Value\n",
       ":   14.0164730424774Neg Pred Value\n",
       ":   99.6575442704522Precision\n",
       ":   14.0164730424774Recall\n",
       ":   82.6335877862595F1\n",
       ":   23.9675266767121Prevalence\n",
       ":   1.76657002225069Detection Rate\n",
       ":   1.45978019014227Detection Prevalence\n",
       ":   10.4147468890237Balanced Accuracy\n",
       ":   86.7587902171358\n",
       "\n"
      ],
      "text/plain": [
       "         Sensitivity          Specificity       Pos Pred Value \n",
       "            82.63359             90.88399             14.01647 \n",
       "      Neg Pred Value            Precision               Recall \n",
       "            99.65754             14.01647             82.63359 \n",
       "                  F1           Prevalence       Detection Rate \n",
       "            23.96753              1.76657              1.45978 \n",
       "Detection Prevalence    Balanced Accuracy \n",
       "            10.41475             86.75879 "
      ]
     },
     "metadata": {},
     "output_type": "display_data"
    },
    {
     "name": "stdout",
     "output_type": "stream",
     "text": [
      "[1] \"AUC\"\n"
     ]
    },
    {
     "data": {
      "text/html": [
       "0.902485086533679"
      ],
      "text/latex": [
       "0.902485086533679"
      ],
      "text/markdown": [
       "0.902485086533679"
      ],
      "text/plain": [
       "Area under the curve: 0.9025"
      ]
     },
     "metadata": {},
     "output_type": "display_data"
    },
    {
     "data": {
      "image/png": "[encoded data removed]",
      "text/plain": [
       "plot without title"
      ]
     },
     "metadata": {},
     "output_type": "display_data"
    }
   ],
   "source": [
    "# Confusion matrix\n",
    "weight.cart.preds <- predict(weight.cart.fit, newdata=test.data[, -1], type='class')\n",
    "weight.cart.CM <- confusionMatrix(weight.cart.preds, test.data[, 1], positive=\"1\")\n",
    "weight.cart.CM\n",
    "weight.cart.CM$byClass*100\n",
    "\n",
    "# ROC curve\n",
    "weight.oos.probs <- predict(weight.cart.fit, newdata=test.data[, -1])[, 2]\n",
    "weight.roc <- roc(test.data[, 1], weight.oos.probs)\n",
    "print('AUC')\n",
    "weight.roc$auc\n",
    "\n",
    "\n",
    "# Plot the tree\n",
    "rpart.plot(weight.cart.fit,\n",
    "           cex=1,\n",
    "           fallen.leaves=T)\n"
   ]
  },
  {
   "cell_type": "markdown",
   "metadata": {},
   "source": [
    "## SMOTE Classifiers\n",
    "\n",
    "We balance the training set by generating a SMOTE sample using the out-of-the-box settings."
   ]
  },
  {
   "cell_type": "code",
   "execution_count": 10,
   "metadata": {},
   "outputs": [
    {
     "data": {
      "text/html": [
       "<ol class=list-inline>\n",
       "\t<li>66031</li>\n",
       "\t<li>29</li>\n",
       "</ol>\n"
      ],
      "text/latex": [
       "\\begin{enumerate*}\n",
       "\\item 66031\n",
       "\\item 29\n",
       "\\end{enumerate*}\n"
      ],
      "text/markdown": [
       "1. 66031\n",
       "2. 29\n",
       "\n",
       "\n"
      ],
      "text/plain": [
       "[1] 66031    29"
      ]
     },
     "metadata": {},
     "output_type": "display_data"
    },
    {
     "data": {
      "text/plain": [
       " Class     priv      grade          age        indig     mumschool mumhighed\n",
       " 0:37732   0:36969   5:13518   Min.   : 9.00   0:58719   1: 5600   5:18735  \n",
       " 1:28299   1:29062   7:24141   1st Qu.:12.10   1: 7312   2:14559   6:10324  \n",
       "                     9:28372   Median :13.18             3: 8952   7:15475  \n",
       "                               Mean   :13.01             4:36920   8:21497  \n",
       "                               3rd Qu.:14.30                                \n",
       "                               Max.   :17.50                                \n",
       " mumoccup  dadschool dadhighed dadoccup  sameschool    readprev    \n",
       " 1:10024   1: 7300   5:24301   1:12264   0:26933    Min.   : 12.5  \n",
       " 2:12011   2:17455   6: 8417   2:14908   1:39098    1st Qu.:404.7  \n",
       " 3:14946   3: 8692   7:14184   3:16572              Median :453.2  \n",
       " 4:11642   4:32584   8:19129   4:15438              Mean   :463.6  \n",
       " 8:17408                       8: 6849              3rd Qu.:520.3  \n",
       "                                                    Max.   :865.8  \n",
       "    mathprev     girl      met       provincial remote    lbote     SA       \n",
       " Min.   :142.1   0:35099   0:22086   0:46694    0:63143   0:48157   0:63221  \n",
       " 1st Qu.:410.2   1:30932   1:43945   1:19337    1: 2888   1:17874   1: 2810  \n",
       " Median :455.3                                                               \n",
       " Mean   :466.0                                                               \n",
       " 3rd Qu.:513.7                                                               \n",
       " Max.   :922.8                                                               \n",
       " NSW       TAS       VIC       QLD       WA        ACT          nstudent    \n",
       " 0:44573   0:63984   0:47325   0:51842   0:60041   0:65215   Min.   :  0.0  \n",
       " 1:21458   1: 2047   1:18706   1:14189   1: 5990   1:  816   1st Qu.: 66.0  \n",
       "                                                             Median :119.0  \n",
       "                                                             Mean   :128.3  \n",
       "                                                             3rd Qu.:179.0  \n",
       "                                                             Max.   :548.0  \n",
       " meanreadscore   meanmathscore  \n",
       " Min.   :255.2   Min.   :329.4  \n",
       " 1st Qu.:520.6   1st Qu.:515.1  \n",
       " Median :547.2   Median :546.7  \n",
       " Mean   :545.9   Mean   :546.0  \n",
       " 3rd Qu.:571.8   3rd Qu.:574.8  \n",
       " Max.   :741.9   Max.   :875.7  "
      ]
     },
     "metadata": {},
     "output_type": "display_data"
    }
   ],
   "source": [
    "# Generate SMOTE sample\n",
    "SMOTE.data <- SMOTE(Class ~., train.data)\n",
    "dim(SMOTE.data)\n",
    "summary(SMOTE.data)\n",
    "\n",
    "# Turn into matrices\n",
    "X <- model.matrix(Class ~., SMOTE.data)\n",
    "y <- SMOTE.data$Class"
   ]
  },
  {
   "cell_type": "markdown",
   "metadata": {},
   "source": [
    "### Elastic Net (SMOTE)\n",
    "\n",
    "Now run the elastic net and tree, but without class weights this time."
   ]
  },
  {
   "cell_type": "code",
   "execution_count": 11,
   "metadata": {},
   "outputs": [
    {
     "data": {
      "text/plain": [
       "Time difference of 1.893504 mins"
      ]
     },
     "metadata": {},
     "output_type": "display_data"
    }
   ],
   "source": [
    "\n",
    "# Estimate the elastic net classifier\n",
    "t0 <- Sys.time()\n",
    "set.seed(2718)\n",
    "SMOTE.EN.fit <- cv.glmnet(x=X,\n",
    "                          y=y,\n",
    "                          family=\"binomial\",\n",
    "                          alpha=0.5,\n",
    "                          type.measure=\"class\",\n",
    "                        parallel=T)\n",
    "Sys.time() - t0"
   ]
  },
  {
   "cell_type": "markdown",
   "metadata": {},
   "source": [
    "Display coefficients, CV curve, confusion matrix, performance measures."
   ]
  },
  {
   "cell_type": "code",
   "execution_count": 12,
   "metadata": {},
   "outputs": [
    {
     "data": {
      "text/plain": [
       "45 x 1 sparse Matrix of class \"dgCMatrix\"\n",
       "                          1\n",
       "(Intercept)   -2.4466377757\n",
       "(Intercept)    .           \n",
       "priv1          0.0588418804\n",
       "grade7         4.6041292050\n",
       "grade9         4.9607143448\n",
       "age            1.2172986074\n",
       "indig1         1.4135074234\n",
       "mumschool2    -0.0282826069\n",
       "mumschool3     .           \n",
       "mumschool4    -0.2547292046\n",
       "mumhighed6     0.0036247116\n",
       "mumhighed7    -0.1236533575\n",
       "mumhighed8     .           \n",
       "mumoccup2      .           \n",
       "mumoccup3     -0.0909641877\n",
       "mumoccup4      .           \n",
       "mumoccup8      0.0213443330\n",
       "dadschool2    -0.0741773633\n",
       "dadschool3    -0.0180100699\n",
       "dadschool4    -0.2612039746\n",
       "dadhighed6     0.0078994355\n",
       "dadhighed7    -0.0266869354\n",
       "dadhighed8     0.0822617982\n",
       "dadoccup2     -0.0440322650\n",
       "dadoccup3      .           \n",
       "dadoccup4      0.0403417312\n",
       "dadoccup8      0.2254958357\n",
       "sameschool1   -0.2742879475\n",
       "readprev      -0.0214830563\n",
       "mathprev      -0.0115614260\n",
       "girl1         -0.1727958261\n",
       "met1          -0.3478404068\n",
       "provincial1    0.2364109995\n",
       "remote1        0.9234308270\n",
       "lbote1         0.4807490052\n",
       "SA1           -0.0896645835\n",
       "NSW1          -0.0060860137\n",
       "TAS1          -0.1361067116\n",
       "VIC1          -0.1799497405\n",
       "QLD1           0.3957918868\n",
       "WA1            0.0922872333\n",
       "ACT1           .           \n",
       "nstudent       0.0007610012\n",
       "meanreadscore -0.0079318447\n",
       "meanmathscore  0.0021985255"
      ]
     },
     "metadata": {},
     "output_type": "display_data"
    },
    {
     "data": {
      "text/plain": [
       "Confusion Matrix and Statistics\n",
       "\n",
       "          Reference\n",
       "Prediction      0      1\n",
       "         0 237346    692\n",
       "         1  24896   4024\n",
       "                                         \n",
       "               Accuracy : 0.9041         \n",
       "                 95% CI : (0.903, 0.9053)\n",
       "    No Information Rate : 0.9823         \n",
       "    P-Value [Acc > NIR] : 1              \n",
       "                                         \n",
       "                  Kappa : 0.2154         \n",
       " Mcnemar's Test P-Value : <2e-16         \n",
       "                                         \n",
       "            Sensitivity : 0.85327        \n",
       "            Specificity : 0.90506        \n",
       "         Pos Pred Value : 0.13914        \n",
       "         Neg Pred Value : 0.99709        \n",
       "             Prevalence : 0.01767        \n",
       "         Detection Rate : 0.01507        \n",
       "   Detection Prevalence : 0.10833        \n",
       "      Balanced Accuracy : 0.87917        \n",
       "                                         \n",
       "       'Positive' Class : 1              \n",
       "                                         "
      ]
     },
     "metadata": {},
     "output_type": "display_data"
    },
    {
     "data": {
      "text/html": [
       "<dl class=dl-horizontal>\n",
       "\t<dt>Sensitivity</dt>\n",
       "\t\t<dd>85.3265479219678</dd>\n",
       "\t<dt>Specificity</dt>\n",
       "\t\t<dd>90.5064787486368</dd>\n",
       "\t<dt>Pos Pred Value</dt>\n",
       "\t\t<dd>13.9142461964039</dd>\n",
       "\t<dt>Neg Pred Value</dt>\n",
       "\t\t<dd>99.7092901133433</dd>\n",
       "\t<dt>Precision</dt>\n",
       "\t\t<dd>13.9142461964039</dd>\n",
       "\t<dt>Recall</dt>\n",
       "\t\t<dd>85.3265479219678</dd>\n",
       "\t<dt>F1</dt>\n",
       "\t\t<dd>23.9267451540017</dd>\n",
       "\t<dt>Prevalence</dt>\n",
       "\t\t<dd>1.76657002225069</dd>\n",
       "\t<dt>Detection Rate</dt>\n",
       "\t\t<dd>1.50735321661085</dd>\n",
       "\t<dt>Detection Prevalence</dt>\n",
       "\t\t<dd>10.8331647674915</dd>\n",
       "\t<dt>Balanced Accuracy</dt>\n",
       "\t\t<dd>87.9165133353023</dd>\n",
       "</dl>\n"
      ],
      "text/latex": [
       "\\begin{description*}\n",
       "\\item[Sensitivity] 85.3265479219678\n",
       "\\item[Specificity] 90.5064787486368\n",
       "\\item[Pos Pred Value] 13.9142461964039\n",
       "\\item[Neg Pred Value] 99.7092901133433\n",
       "\\item[Precision] 13.9142461964039\n",
       "\\item[Recall] 85.3265479219678\n",
       "\\item[F1] 23.9267451540017\n",
       "\\item[Prevalence] 1.76657002225069\n",
       "\\item[Detection Rate] 1.50735321661085\n",
       "\\item[Detection Prevalence] 10.8331647674915\n",
       "\\item[Balanced Accuracy] 87.9165133353023\n",
       "\\end{description*}\n"
      ],
      "text/markdown": [
       "Sensitivity\n",
       ":   85.3265479219678Specificity\n",
       ":   90.5064787486368Pos Pred Value\n",
       ":   13.9142461964039Neg Pred Value\n",
       ":   99.7092901133433Precision\n",
       ":   13.9142461964039Recall\n",
       ":   85.3265479219678F1\n",
       ":   23.9267451540017Prevalence\n",
       ":   1.76657002225069Detection Rate\n",
       ":   1.50735321661085Detection Prevalence\n",
       ":   10.8331647674915Balanced Accuracy\n",
       ":   87.9165133353023\n",
       "\n"
      ],
      "text/plain": [
       "         Sensitivity          Specificity       Pos Pred Value \n",
       "           85.326548            90.506479            13.914246 \n",
       "      Neg Pred Value            Precision               Recall \n",
       "           99.709290            13.914246            85.326548 \n",
       "                  F1           Prevalence       Detection Rate \n",
       "           23.926745             1.766570             1.507353 \n",
       "Detection Prevalence    Balanced Accuracy \n",
       "           10.833165            87.916513 "
      ]
     },
     "metadata": {},
     "output_type": "display_data"
    },
    {
     "name": "stdout",
     "output_type": "stream",
     "text": [
      "[1] \"AUC\"\n"
     ]
    },
    {
     "data": {
      "text/html": [
       "0.951278800478491"
      ],
      "text/latex": [
       "0.951278800478491"
      ],
      "text/markdown": [
       "0.951278800478491"
      ],
      "text/plain": [
       "Area under the curve: 0.9513"
      ]
     },
     "metadata": {},
     "output_type": "display_data"
    },
    {
     "data": {
      "image/png": "[encoded data removed]",
      "text/plain": [
       "plot without title"
      ]
     },
     "metadata": {},
     "output_type": "display_data"
    }
   ],
   "source": [
    "# Coefficients\n",
    "coef(SMOTE.EN.fit, s='lambda.1se')\n",
    "\n",
    "# Confusion matrix\n",
    "SMOTE.EN.preds <- predict(SMOTE.EN.fit, s='lambda.1se', model.matrix(Class ~., test.data), type='class')\n",
    "SMOTE.EN.CM <- confusionMatrix(as.factor(SMOTE.EN.preds), test.data[, 1], positive=c('1'))\n",
    "SMOTE.EN.CM\n",
    "SMOTE.EN.CM$byClass*100\n",
    "\n",
    "# ROC curve\n",
    "SMOTE.EN.probs <- predict(SMOTE.EN.fit, s='lambda.1se', model.matrix(Class ~., test.data), type='response')\n",
    "SMOTE.EN.roc <- roc(test.data[, 1], as.numeric(SMOTE.EN.probs))\n",
    "\n",
    "print('AUC')\n",
    "SMOTE.EN.roc$auc\n",
    "\n",
    "# CV curve\n",
    "plot(SMOTE.EN.fit)\n"
   ]
  },
  {
   "cell_type": "markdown",
   "metadata": {},
   "source": [
    "### Decision Tree (SMOTE)\n"
   ]
  },
  {
   "cell_type": "code",
   "execution_count": 13,
   "metadata": {},
   "outputs": [
    {
     "data": {
      "text/plain": [
       "Time difference of 2.667835 secs"
      ]
     },
     "metadata": {},
     "output_type": "display_data"
    }
   ],
   "source": [
    "t0 <- Sys.time()\n",
    "SMOTE.cart.fit <- rpart(Class ~.,\n",
    "                    data=SMOTE.data)\n",
    "t1 <- Sys.time() - t0\n",
    "t1\n"
   ]
  },
  {
   "cell_type": "code",
   "execution_count": 14,
   "metadata": {},
   "outputs": [
    {
     "data": {
      "text/plain": [
       "Confusion Matrix and Statistics\n",
       "\n",
       "          Reference\n",
       "Prediction      0      1\n",
       "         0 236159    820\n",
       "         1  26083   3896\n",
       "                                          \n",
       "               Accuracy : 0.8992          \n",
       "                 95% CI : (0.8981, 0.9004)\n",
       "    No Information Rate : 0.9823          \n",
       "    P-Value [Acc > NIR] : 1               \n",
       "                                          \n",
       "                  Kappa : 0.2002          \n",
       " Mcnemar's Test P-Value : <2e-16          \n",
       "                                          \n",
       "            Sensitivity : 0.82612         \n",
       "            Specificity : 0.90054         \n",
       "         Pos Pred Value : 0.12996         \n",
       "         Neg Pred Value : 0.99654         \n",
       "             Prevalence : 0.01767         \n",
       "         Detection Rate : 0.01459         \n",
       "   Detection Prevalence : 0.11230         \n",
       "      Balanced Accuracy : 0.86333         \n",
       "                                          \n",
       "       'Positive' Class : 1               \n",
       "                                          "
      ]
     },
     "metadata": {},
     "output_type": "display_data"
    },
    {
     "data": {
      "text/html": [
       "<dl class=dl-horizontal>\n",
       "\t<dt>Sensitivity</dt>\n",
       "\t\t<dd>82.6123833757422</dd>\n",
       "\t<dt>Specificity</dt>\n",
       "\t\t<dd>90.0538433965574</dd>\n",
       "\t<dt>Pos Pred Value</dt>\n",
       "\t\t<dd>12.9957637012575</dd>\n",
       "\t<dt>Neg Pred Value</dt>\n",
       "\t\t<dd>99.6539777786217</dd>\n",
       "\t<dt>Precision</dt>\n",
       "\t\t<dd>12.9957637012575</dd>\n",
       "\t<dt>Recall</dt>\n",
       "\t\t<dd>82.6123833757422</dd>\n",
       "\t<dt>F1</dt>\n",
       "\t\t<dd>22.4585675169333</dd>\n",
       "\t<dt>Prevalence</dt>\n",
       "\t\t<dd>1.76657002225069</dd>\n",
       "\t<dt>Detection Rate</dt>\n",
       "\t\t<dd>1.45940559938267</dd>\n",
       "\t<dt>Detection Prevalence</dt>\n",
       "\t\t<dd>11.2298563819028</dd>\n",
       "\t<dt>Balanced Accuracy</dt>\n",
       "\t\t<dd>86.3331133861498</dd>\n",
       "</dl>\n"
      ],
      "text/latex": [
       "\\begin{description*}\n",
       "\\item[Sensitivity] 82.6123833757422\n",
       "\\item[Specificity] 90.0538433965574\n",
       "\\item[Pos Pred Value] 12.9957637012575\n",
       "\\item[Neg Pred Value] 99.6539777786217\n",
       "\\item[Precision] 12.9957637012575\n",
       "\\item[Recall] 82.6123833757422\n",
       "\\item[F1] 22.4585675169333\n",
       "\\item[Prevalence] 1.76657002225069\n",
       "\\item[Detection Rate] 1.45940559938267\n",
       "\\item[Detection Prevalence] 11.2298563819028\n",
       "\\item[Balanced Accuracy] 86.3331133861498\n",
       "\\end{description*}\n"
      ],
      "text/markdown": [
       "Sensitivity\n",
       ":   82.6123833757422Specificity\n",
       ":   90.0538433965574Pos Pred Value\n",
       ":   12.9957637012575Neg Pred Value\n",
       ":   99.6539777786217Precision\n",
       ":   12.9957637012575Recall\n",
       ":   82.6123833757422F1\n",
       ":   22.4585675169333Prevalence\n",
       ":   1.76657002225069Detection Rate\n",
       ":   1.45940559938267Detection Prevalence\n",
       ":   11.2298563819028Balanced Accuracy\n",
       ":   86.3331133861498\n",
       "\n"
      ],
      "text/plain": [
       "         Sensitivity          Specificity       Pos Pred Value \n",
       "           82.612383            90.053843            12.995764 \n",
       "      Neg Pred Value            Precision               Recall \n",
       "           99.653978            12.995764            82.612383 \n",
       "                  F1           Prevalence       Detection Rate \n",
       "           22.458568             1.766570             1.459406 \n",
       "Detection Prevalence    Balanced Accuracy \n",
       "           11.229856            86.333113 "
      ]
     },
     "metadata": {},
     "output_type": "display_data"
    },
    {
     "name": "stdout",
     "output_type": "stream",
     "text": [
      "[1] \"AUC\"\n"
     ]
    },
    {
     "data": {
      "text/html": [
       "0.89540623922019"
      ],
      "text/latex": [
       "0.89540623922019"
      ],
      "text/markdown": [
       "0.89540623922019"
      ],
      "text/plain": [
       "Area under the curve: 0.8954"
      ]
     },
     "metadata": {},
     "output_type": "display_data"
    },
    {
     "data": {
      "image/png": "[encoded data removed]",
      "text/plain": [
       "plot without title"
      ]
     },
     "metadata": {},
     "output_type": "display_data"
    }
   ],
   "source": [
    "# Confusion Matrix\n",
    "SMOTE.cart.preds <- predict(SMOTE.cart.fit, newdata=test.data[, -1], type='class')\n",
    "SMOTE.cart.CM <- confusionMatrix(SMOTE.cart.preds, test.data[, 1], positive=\"1\")\n",
    "SMOTE.cart.CM\n",
    "SMOTE.cart.CM$byClass*100\n",
    "\n",
    "# ROC curve\n",
    "SMOTE.cart.oos.probs <- predict(SMOTE.cart.fit, newdata=test.data[, -1])[, 2]\n",
    "SMOTE.cart.roc <- roc(test.data[, 1], SMOTE.cart.oos.probs)\n",
    "print(\"AUC\")\n",
    "SMOTE.cart.roc$auc\n",
    "\n",
    "# Plot tree\n",
    "rpart.plot(SMOTE.cart.fit,\n",
    "           cex=1,\n",
    "           fallen.leaves=T)\n"
   ]
  },
  {
   "cell_type": "markdown",
   "metadata": {},
   "source": [
    "## Random Forest (SMOTE)\n",
    "\n",
    "Now let's train a random forest on the SMOTE sample. Use an ensemble of 200 trees.\n",
    "\n"
   ]
  },
  {
   "cell_type": "code",
   "execution_count": 15,
   "metadata": {},
   "outputs": [
    {
     "data": {
      "text/plain": [
       "Time difference of 1.584338 mins"
      ]
     },
     "metadata": {},
     "output_type": "display_data"
    }
   ],
   "source": [
    "t0 <- Sys.time()\n",
    "set.seed(2718)\n",
    "rf.fit <- randomForest(x=X,\n",
    "                       y=y,\n",
    "                       ntree = 200)\n",
    "Sys.time() - t0\n"
   ]
  },
  {
   "cell_type": "code",
   "execution_count": 16,
   "metadata": {},
   "outputs": [
    {
     "data": {
      "text/html": [
       "<strong>png:</strong> 2"
      ],
      "text/latex": [
       "\\textbf{png:} 2"
      ],
      "text/markdown": [
       "**png:** 2"
      ],
      "text/plain": [
       "png \n",
       "  2 "
      ]
     },
     "metadata": {},
     "output_type": "display_data"
    }
   ],
   "source": [
    "setEPS()\n",
    "postscript(\"RF_varimp_Lit_G5.eps\", fonts=c('serif'))\n",
    "varImpPlot(rf.fit, type=2, main=\"\")\n",
    "dev.off()\n",
    "\n",
    "varImPlot(rf.fit, type=2, main=\"\")"
   ]
  },
  {
   "cell_type": "code",
   "execution_count": 17,
   "metadata": {},
   "outputs": [
    {
     "data": {
      "text/plain": [
       "Confusion Matrix and Statistics\n",
       "\n",
       "          Reference\n",
       "Prediction      0      1\n",
       "         0 242433    893\n",
       "         1  19809   3823\n",
       "                                          \n",
       "               Accuracy : 0.9225          \n",
       "                 95% CI : (0.9214, 0.9235)\n",
       "    No Information Rate : 0.9823          \n",
       "    P-Value [Acc > NIR] : 1               \n",
       "                                          \n",
       "                  Kappa : 0.2476          \n",
       " Mcnemar's Test P-Value : <2e-16          \n",
       "                                          \n",
       "            Sensitivity : 0.81064         \n",
       "            Specificity : 0.92446         \n",
       "         Pos Pred Value : 0.16177         \n",
       "         Neg Pred Value : 0.99633         \n",
       "             Prevalence : 0.01767         \n",
       "         Detection Rate : 0.01432         \n",
       "   Detection Prevalence : 0.08852         \n",
       "      Balanced Accuracy : 0.86755         \n",
       "                                          \n",
       "       'Positive' Class : 1               \n",
       "                                          "
      ]
     },
     "metadata": {},
     "output_type": "display_data"
    },
    {
     "data": {
      "text/html": [
       "<dl class=dl-horizontal>\n",
       "\t<dt>Sensitivity</dt>\n",
       "\t\t<dd>81.0644614079729</dd>\n",
       "\t<dt>Specificity</dt>\n",
       "\t\t<dd>92.4462900679525</dd>\n",
       "\t<dt>Pos Pred Value</dt>\n",
       "\t\t<dd>16.1772173324306</dd>\n",
       "\t<dt>Neg Pred Value</dt>\n",
       "\t\t<dd>99.6330026384357</dd>\n",
       "\t<dt>Precision</dt>\n",
       "\t\t<dd>16.1772173324306</dd>\n",
       "\t<dt>Recall</dt>\n",
       "\t\t<dd>81.0644614079729</dd>\n",
       "\t<dt>F1</dt>\n",
       "\t\t<dd>26.9719204176662</dd>\n",
       "\t<dt>Prevalence</dt>\n",
       "\t\t<dd>1.76657002225069</dd>\n",
       "\t<dt>Detection Rate</dt>\n",
       "\t\t<dd>1.43206047393223</dd>\n",
       "\t<dt>Detection Prevalence</dt>\n",
       "\t\t<dd>8.8523288307524</dd>\n",
       "\t<dt>Balanced Accuracy</dt>\n",
       "\t\t<dd>86.7553757379627</dd>\n",
       "</dl>\n"
      ],
      "text/latex": [
       "\\begin{description*}\n",
       "\\item[Sensitivity] 81.0644614079729\n",
       "\\item[Specificity] 92.4462900679525\n",
       "\\item[Pos Pred Value] 16.1772173324306\n",
       "\\item[Neg Pred Value] 99.6330026384357\n",
       "\\item[Precision] 16.1772173324306\n",
       "\\item[Recall] 81.0644614079729\n",
       "\\item[F1] 26.9719204176662\n",
       "\\item[Prevalence] 1.76657002225069\n",
       "\\item[Detection Rate] 1.43206047393223\n",
       "\\item[Detection Prevalence] 8.8523288307524\n",
       "\\item[Balanced Accuracy] 86.7553757379627\n",
       "\\end{description*}\n"
      ],
      "text/markdown": [
       "Sensitivity\n",
       ":   81.0644614079729Specificity\n",
       ":   92.4462900679525Pos Pred Value\n",
       ":   16.1772173324306Neg Pred Value\n",
       ":   99.6330026384357Precision\n",
       ":   16.1772173324306Recall\n",
       ":   81.0644614079729F1\n",
       ":   26.9719204176662Prevalence\n",
       ":   1.76657002225069Detection Rate\n",
       ":   1.43206047393223Detection Prevalence\n",
       ":   8.8523288307524Balanced Accuracy\n",
       ":   86.7553757379627\n",
       "\n"
      ],
      "text/plain": [
       "         Sensitivity          Specificity       Pos Pred Value \n",
       "           81.064461            92.446290            16.177217 \n",
       "      Neg Pred Value            Precision               Recall \n",
       "           99.633003            16.177217            81.064461 \n",
       "                  F1           Prevalence       Detection Rate \n",
       "           26.971920             1.766570             1.432060 \n",
       "Detection Prevalence    Balanced Accuracy \n",
       "            8.852329            86.755376 "
      ]
     },
     "metadata": {},
     "output_type": "display_data"
    },
    {
     "name": "stdout",
     "output_type": "stream",
     "text": [
      "[1] \"AUC\"\n"
     ]
    },
    {
     "data": {
      "text/html": [
       "0.95189677164277"
      ],
      "text/latex": [
       "0.95189677164277"
      ],
      "text/markdown": [
       "0.95189677164277"
      ],
      "text/plain": [
       "Area under the curve: 0.9519"
      ]
     },
     "metadata": {},
     "output_type": "display_data"
    },
    {
     "data": {
      "image/png": "[encoded data removed]",
      "text/plain": [
       "Plot with title “rf.fit”"
      ]
     },
     "metadata": {},
     "output_type": "display_data"
    }
   ],
   "source": [
    "# Confusion matrix\n",
    "rf.preds <- predict(rf.fit, newdata=model.matrix(Class ~., test.data), type='class')\n",
    "rf.CM <- confusionMatrix(rf.preds, test.data[, 1], positive=\"1\")\n",
    "rf.CM\n",
    "rf.CM$byClass*100\n",
    "\n",
    "# ROC curve\n",
    "SMOTE.rf.oos.probs <- predict(rf.fit, newdata=model.matrix(Class ~., test.data), type='prob')[, 2]\n",
    "SMOTE.rf.roc <- roc(test.data[, 1], SMOTE.rf.oos.probs)\n",
    "print(\"AUC\")\n",
    "SMOTE.rf.roc$auc\n",
    "\n",
    "# Plot the random forest training curves\n",
    "plot(rf.fit)\n"
   ]
  },
  {
   "cell_type": "markdown",
   "metadata": {},
   "source": [
    "## ROC Curves\n",
    "\n",
    "We've saved the individual ROC curves for each of the 5 classifiers. Let's plot them all together on the one graph. First get all the data together in a data frame for ggplot2."
   ]
  },
  {
   "cell_type": "code",
   "execution_count": 18,
   "metadata": {},
   "outputs": [],
   "source": [
    "weight.EN.roc.df <- data.frame(Sens=weight.EN.roc$sensitivities, Spec=weight.EN.roc$specificities, Classifier='Weighted EN')\n",
    "weight.roc.df <- data.frame(Sens=weight.roc$sensitivities, Spec=weight.roc$specificities, Classifier='Weighted Tree')\n",
    "SMOTE.EN.roc.df <- data.frame(Sens=SMOTE.EN.roc$sensitivities, Spec=SMOTE.EN.roc$specificities, Classifier='SMOTE EN')\n",
    "SMOTE.cart.roc.df <- data.frame(Sens=SMOTE.cart.roc$sensitivities, Spec=SMOTE.cart.roc$specificities, Classifier='SMOTE Tree')\n",
    "SMOTE.rf.roc.df <- data.frame(Sens=SMOTE.rf.roc$sensitivities, Spec=SMOTE.rf.roc$specificities, Classifier='SMOTE RF')\n",
    "\n",
    "\n",
    "# For some reason the Elastic Net ROC curves have a huge number of data points.\n",
    "# Down sample them in order to plot the ROC curve\n",
    "ix <- sample(nrow(weight.EN.roc.df), 50, replace = F)\n",
    "weight.EN.roc.df <- weight.EN.roc.df[ix, ]\n",
    "ix <- sample(nrow(SMOTE.EN.roc.df), 50, replace = F)\n",
    "SMOTE.EN.roc.df <- SMOTE.EN.roc.df[ix, ]\n",
    "\n",
    "all.rocs <- rbind(weight.EN.roc.df,\n",
    "                  weight.roc.df,\n",
    "                  SMOTE.EN.roc.df,\n",
    "                  SMOTE.cart.roc.df,\n",
    "                  SMOTE.rf.roc.df)\n"
   ]
  },
  {
   "cell_type": "markdown",
   "metadata": {},
   "source": [
    "Now plot the curves."
   ]
  },
  {
   "cell_type": "code",
   "execution_count": 19,
   "metadata": {},
   "outputs": [
    {
     "data": {},
     "metadata": {},
     "output_type": "display_data"
    },
    {
     "data": {
      "image/png": "[encoded data removed]",
      "text/plain": [
       "plot without title"
      ]
     },
     "metadata": {},
     "output_type": "display_data"
    }
   ],
   "source": [
    "ROC1 <- ggplot(data=all.rocs, aes(x=Spec, y=Sens, color=Classifier)) +  \n",
    "      geom_line(stat='identity', cex=1.5)+\n",
    "      scale_x_reverse() + \n",
    "      geom_rangeframe(color='black', cex=1) + \n",
    "      theme_tufte() + \n",
    "      xlab('Specificity') + \n",
    "      ylab('Sensitivity') + \n",
    "      geom_segment(aes(x = 1, xend = 0, y = 0, yend =1), linetype='dashed', color='grey', size=0.5)+\n",
    "      theme (axis.text.x = element_text(size=14),\n",
    "         axis.text.y = element_text(size=14),\n",
    "         axis.title = element_text(size=14),\n",
    "         legend.text = element_text(size=14),\n",
    "         legend.position = c(.9, .5))  \n",
    "ROC1"
   ]
  },
  {
   "cell_type": "markdown",
   "metadata": {},
   "source": [
    "## Cleaning Up\n",
    "\n",
    "Let's put the relevant outputs into a clean form so that they can be copied into the paper. \n",
    "\n",
    "Start by saving our decision trees and ROC curve to disk in postscript format.\n"
   ]
  },
  {
   "cell_type": "code",
   "execution_count": 20,
   "metadata": {},
   "outputs": [
    {
     "data": {
      "text/html": [
       "<strong>png:</strong> 2"
      ],
      "text/latex": [
       "\\textbf{png:} 2"
      ],
      "text/markdown": [
       "**png:** 2"
      ],
      "text/plain": [
       "png \n",
       "  2 "
      ]
     },
     "metadata": {},
     "output_type": "display_data"
    },
    {
     "data": {
      "text/html": [
       "<strong>png:</strong> 2"
      ],
      "text/latex": [
       "\\textbf{png:} 2"
      ],
      "text/markdown": [
       "**png:** 2"
      ],
      "text/plain": [
       "png \n",
       "  2 "
      ]
     },
     "metadata": {},
     "output_type": "display_data"
    },
    {
     "data": {},
     "metadata": {},
     "output_type": "display_data"
    },
    {
     "data": {
      "text/html": [
       "<strong>png:</strong> 2"
      ],
      "text/latex": [
       "\\textbf{png:} 2"
      ],
      "text/markdown": [
       "**png:** 2"
      ],
      "text/plain": [
       "png \n",
       "  2 "
      ]
     },
     "metadata": {},
     "output_type": "display_data"
    }
   ],
   "source": [
    "# Weighted tree\n",
    "setEPS()\n",
    "postscript(\"Lit_Weighted_Tree.eps\", width=23, height=10, pointsize=12)\n",
    "rpart.plot(weight.cart.fit,\n",
    "           cex=1.5,\n",
    "           fallen.leaves=T)\n",
    "dev.off()\n",
    "\n",
    "# Smote tree\n",
    "setEPS()\n",
    "postscript(\"Lit_Smote_Tree.eps\", width=23, height=10, pointsize=12)\n",
    "rpart.plot(SMOTE.cart.fit,\n",
    "           cex=1.5,\n",
    "           fallen.leaves=T)\n",
    "dev.off()\n",
    "\n",
    "setEPS()\n",
    "postscript(\"ROC_Lit.eps\", fonts=c('serif'))\n",
    "ROC1\n",
    "dev.off()\n",
    "\n"
   ]
  },
  {
   "cell_type": "markdown",
   "metadata": {},
   "source": [
    "Next, we'll prep the elastic net coefficients. We want a LaTeX table with five columns: 1) variable names; 2)literacy/weighted coefficients; 3) literacy SMOTE coefs; 4) numeracy weighted; 5) numeracy SMOTE.\n",
    "\n",
    "Let's stick the variable names, literacy weighted, and literacy SMOTE data into a data frame which we can load when the numeracy results are finished. Then we'll save the whole thing in one LaTeX table."
   ]
  },
  {
   "cell_type": "code",
   "execution_count": 21,
   "metadata": {
    "scrolled": true
   },
   "outputs": [],
   "source": [
    "# Weighted EN\n",
    "Cw <- coef(weight.EN.fit)\n",
    "\n",
    "# Extract variable names.\n",
    "var.names <- row.names(Cw)\n",
    "\n",
    "# Round the coefficients to 2SF.\n",
    "Cw <- round(Cw[, 1], 2)\n",
    "\n",
    "# SMOTE EN\n",
    "Cs <- coef(SMOTE.EN.fit)\n",
    "Cs <- round(Cs[, 1], 2)\n",
    "\n",
    "EN <- data.frame(Variable=var.names, Weighted=Cw, SMOTE=Cs)\n",
    "\n",
    "# Note that there are two instances of 'intercept'. \n",
    "# Remove the second.\n",
    "EN <- EN[-2, ]\n",
    "\n",
    "# All set. Once the numeracy numbers are done,\n",
    "# we'll just cbind them into the data frame \n",
    "# and save them with xtable.\n",
    "save(EN, file='ElasticNetCoefs.Rda')"
   ]
  },
  {
   "cell_type": "markdown",
   "metadata": {},
   "source": [
    "Finally, let's save our workspace."
   ]
  },
  {
   "cell_type": "code",
   "execution_count": 22,
   "metadata": {},
   "outputs": [
    {
     "name": "stdout",
     "output_type": "stream",
     "text": [
      "[1] \"Finished.\"\n"
     ]
    },
    {
     "data": {
      "text/plain": [
       "Time difference of 41.48378 mins"
      ]
     },
     "metadata": {},
     "output_type": "display_data"
    }
   ],
   "source": [
    "save.image('literacy_workspace.RData')\n",
    "print('Finished.') \n",
    "Sys.time() - start.time"
   ]
  }
 ],
 "metadata": {
  "kernelspec": {
   "display_name": "R",
   "language": "R",
   "name": "ir"
  },
  "language_info": {
   "codemirror_mode": "r",
   "file_extension": ".r",
   "mimetype": "text/x-r-source",
   "name": "R",
   "pygments_lexer": "r",
   "version": "3.4.4"
  },
  "latex_envs": {
   "LaTeX_envs_menu_present": true,
   "autoclose": false,
   "autocomplete": true,
   "bibliofile": "biblio.bib",
   "cite_by": "apalike",
   "current_citInitial": 1,
   "eqLabelWithNumbers": true,
   "eqNumInitial": 1,
   "hotkeys": {
    "equation": "Ctrl-E",
    "itemize": "Ctrl-I"
   },
   "labels_anchors": false,
   "latex_user_defs": false,
   "report_style_numbering": false,
   "user_envs_cfg": false
  }
 },
 "nbformat": 4,
 "nbformat_minor": 2
}
