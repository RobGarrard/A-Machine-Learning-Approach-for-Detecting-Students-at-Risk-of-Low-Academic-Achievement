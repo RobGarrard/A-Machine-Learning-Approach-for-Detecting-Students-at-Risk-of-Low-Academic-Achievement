{
 "cells": [
  {
   "cell_type": "markdown",
   "metadata": {},
   "source": [
    "# <center>Classifiers for Numeracy Standard - Grades 5 and above</center>\n",
    "\n",
    "<font style=\"font-variant:small-caps\">Cornell-Farrow and Garrard</font> (2018). <i>A Machine Learning Approach for Detecting Students at Risk of Low Academic Achievement</i>. arXiv preprint. <a href='https://arxiv.org/abs/1807.07215'>arXiv:1807.07215</a>\n",
    "\n",
    "This notebook contains the code used to generate the classifiers for predicting whether students fall into the 'below standard' band in the numeracy section of NAPLAN for grades 5 and above. IP for this data set is not held by the authors and so may not be uploaded together with this code in order to facilitate reproduction. Instructions for how the data set may be obtained are outlined in the README file.\n",
    "\n",
    "This notebook was executed on an HPC cluster with 20 cpus. Executes in about 10 minutes. \n",
    "On an Intel i7 2.60GHz cpu runtime was about 40 minutes.\n"
   ]
  },
  {
   "cell_type": "markdown",
   "metadata": {},
   "source": [
    "## Preprocessing\n",
    "\n",
    "We begin by loading required packages and importing the data. The data are stored in a Stata .dta file.\n"
   ]
  },
  {
   "cell_type": "code",
   "execution_count": 1,
   "metadata": {},
   "outputs": [
    {
     "name": "stderr",
     "output_type": "stream",
     "text": [
      "Installing package into ‘/home/gar303/R/x86_64-pc-linux-gnu-library/3.4’\n",
      "(as ‘lib’ is unspecified)\n"
     ]
    }
   ],
   "source": [
    "install.packages('doMC')"
   ]
  },
  {
   "cell_type": "code",
   "execution_count": 2,
   "metadata": {},
   "outputs": [
    {
     "name": "stderr",
     "output_type": "stream",
     "text": [
      "Loading required package: lattice\n",
      "Type 'citation(\"pROC\")' for a citation.\n",
      "\n",
      "Attaching package: ‘pROC’\n",
      "\n",
      "The following objects are masked from ‘package:stats’:\n",
      "\n",
      "    cov, smooth, var\n",
      "\n",
      "Loading required package: grid\n",
      "Loading required package: Matrix\n",
      "Loading required package: foreach\n",
      "Loaded glmnet 2.0-13\n",
      "\n",
      "\n",
      "Attaching package: ‘glmnet’\n",
      "\n",
      "The following object is masked from ‘package:pROC’:\n",
      "\n",
      "    auc\n",
      "\n",
      "randomForest 4.6-12\n",
      "Type rfNews() to see new features/changes/bug fixes.\n",
      "\n",
      "Attaching package: ‘randomForest’\n",
      "\n",
      "The following object is masked from ‘package:ggplot2’:\n",
      "\n",
      "    margin\n",
      "\n",
      "Loading required package: iterators\n",
      "Loading required package: parallel\n"
     ]
    }
   ],
   "source": [
    "library(readstata13)  # Importing data\n",
    "library(ggplot2)      # Plotting\n",
    "library(ggthemes)     # Themes for ggplot2\n",
    "library(caret)        # Create training/test sets\n",
    "library(rpart)        # Recursive partitioning decision tree classifier\n",
    "library(rpart.plot)   # Plot the tree\n",
    "library(pROC)         # Bulding ROC curves\n",
    "library(DMwR)         # Constructing SMOTE sample\n",
    "library(glmnet)       # Elastic net classifier\n",
    "library(randomForest) # Random forest classifier\n",
    "library(doMC)         # Run elastic net in parallel\n",
    "library(parallel)\n",
    "\n",
    "start.time <- Sys.time()\n",
    "\n",
    "# Import data\n",
    "raw.data <- read.dta13('NAPLAN_data.dta')\n"
   ]
  },
  {
   "cell_type": "markdown",
   "metadata": {},
   "source": [
    "We now summarize the raw data and remove columns not to be used as predictors."
   ]
  },
  {
   "cell_type": "code",
   "execution_count": 3,
   "metadata": {
    "scrolled": true
   },
   "outputs": [
    {
     "name": "stdout",
     "output_type": "stream",
     "text": [
      "[1] \"Raw data summary.\"\n"
     ]
    },
    {
     "data": {
      "text/html": [
       "<ol class=list-inline>\n",
       "\t<li>2045434</li>\n",
       "\t<li>39</li>\n",
       "</ol>\n"
      ],
      "text/latex": [
       "\\begin{enumerate*}\n",
       "\\item 2045434\n",
       "\\item 39\n",
       "\\end{enumerate*}\n"
      ],
      "text/markdown": [
       "1. 2045434\n",
       "2. 39\n",
       "\n",
       "\n"
      ],
      "text/plain": [
       "[1] 2045434      39"
      ]
     },
     "metadata": {},
     "output_type": "display_data"
    },
    {
     "data": {
      "text/plain": [
       "    schoolid         priv          studentid            year       \n",
       " Min.   :   2   Min.   :0.0000   Min.   :      1   Min.   :0.0000  \n",
       " 1st Qu.:2309   1st Qu.:0.0000   1st Qu.: 558104   1st Qu.:0.0000  \n",
       " Median :4698   Median :0.0000   Median :1117716   Median :0.0000  \n",
       " Mean   :4645   Mean   :0.3708   Mean   :1117467   Mean   :0.4999  \n",
       " 3rd Qu.:6986   3rd Qu.:1.0000   3rd Qu.:1675980   3rd Qu.:1.0000  \n",
       " Max.   :9250   Max.   :1.0000   Max.   :2235804   Max.   :1.0000  \n",
       " NA's   :1588                    NA's   :1588                      \n",
       "     grade           cohort           age            indig        \n",
       " Min.   :3.000   Min.   :    1   Min.   : 7.00   Min.   :0.00000  \n",
       " 1st Qu.:3.000   1st Qu.:11346   1st Qu.: 9.20   1st Qu.:0.00000  \n",
       " Median :5.000   Median :23157   Median :11.20   Median :0.00000  \n",
       " Mean   :5.938   Mean   :22825   Mean   :11.48   Mean   :0.04528  \n",
       " 3rd Qu.:7.000   3rd Qu.:34286   3rd Qu.:13.30   3rd Qu.:0.00000  \n",
       " Max.   :9.000   Max.   :45406   Max.   :17.50   Max.   :1.00000  \n",
       "                 NA's   :1588                                     \n",
       "   mumschool        mumhighed         mumoccup        dadschool     \n",
       " Min.   :1.00     Min.   :5.0      Min.   :1.0      Min.   :1.0     \n",
       " 1st Qu.:3.00     1st Qu.:5.0      1st Qu.:2.0      1st Qu.:2.0     \n",
       " Median :4.00     Median :7.0      Median :3.0      Median :4.0     \n",
       " Mean   :3.35     Mean   :6.5      Mean   :3.9      Mean   :3.2     \n",
       " 3rd Qu.:4.00     3rd Qu.:8.0      3rd Qu.:8.0      3rd Qu.:4.0     \n",
       " Max.   :4.00     Max.   :8.0      Max.   :8.0      Max.   :4.0     \n",
       " NA's   :242652   NA's   :386537   NA's   :343591   NA's   :469322  \n",
       "   dadhighed         dadoccup        readscore       mathscore    \n",
       " Min.   :5.0      Min.   :1.0      Min.   :-20.4   Min.   : -9.6  \n",
       " 1st Qu.:5.0      1st Qu.:2.0      1st Qu.:447.5   1st Qu.:432.8  \n",
       " Median :7.0      Median :3.0      Median :516.8   Median :504.4  \n",
       " Mean   :6.4      Mean   :2.8      Mean   :511.2   Mean   :504.6  \n",
       " 3rd Qu.:7.0      3rd Qu.:4.0      3rd Qu.:579.6   3rd Qu.:572.1  \n",
       " Max.   :8.0      Max.   :8.0      Max.   :934.4   Max.   :976.3  \n",
       " NA's   :578057   NA's   :508723                                  \n",
       "   sameschool        readprev         mathprev           girl       \n",
       " Min.   :0.0      Min.   : 12.5    Min.   : 25.2    Min.   :0.0000  \n",
       " 1st Qu.:0.0      1st Qu.:426.0    1st Qu.:416.5    1st Qu.:0.0000  \n",
       " Median :1.0      Median :490.7    Median :481.1    Median :0.0000  \n",
       " Mean   :0.6      Mean   :487.2    Mean   :479.8    Mean   :0.4924  \n",
       " 3rd Qu.:1.0      3rd Qu.:553.6    3rd Qu.:542.3    3rd Qu.:1.0000  \n",
       " Max.   :1.0      Max.   :865.8    Max.   :922.8    Max.   :1.0000  \n",
       " NA's   :648339   NA's   :704907   NA's   :709014                   \n",
       "      met           provincial         remote            lbote      \n",
       " Min.   :0.0000   Min.   :0.0000   Min.   :0.00000   Min.   :0.00   \n",
       " 1st Qu.:0.0000   1st Qu.:0.0000   1st Qu.:0.00000   1st Qu.:0.00   \n",
       " Median :1.0000   Median :0.0000   Median :0.00000   Median :0.00   \n",
       " Mean   :0.7347   Mean   :0.2443   Mean   :0.02094   Mean   :0.23   \n",
       " 3rd Qu.:1.0000   3rd Qu.:0.0000   3rd Qu.:0.00000   3rd Qu.:0.00   \n",
       " Max.   :1.0000   Max.   :1.0000   Max.   :1.00000   Max.   :1.00   \n",
       "                                                     NA's   :66221  \n",
       "       SA               NSW             TAS               VIC        \n",
       " Min.   :0.00000   Min.   :0.000   Min.   :0.00000   Min.   :0.0000  \n",
       " 1st Qu.:0.00000   1st Qu.:0.000   1st Qu.:0.00000   1st Qu.:0.0000  \n",
       " Median :0.00000   Median :0.000   Median :0.00000   Median :0.0000  \n",
       " Mean   :0.06804   Mean   :0.329   Mean   :0.02259   Mean   :0.2385  \n",
       " 3rd Qu.:0.00000   3rd Qu.:1.000   3rd Qu.:0.00000   3rd Qu.:0.0000  \n",
       " Max.   :1.00000   Max.   :1.000   Max.   :1.00000   Max.   :1.0000  \n",
       "                                                                     \n",
       "      QLD               WA              ACT                NT         \n",
       " Min.   :0.0000   Min.   :0.0000   Min.   :0.00000   Min.   :0.00000  \n",
       " 1st Qu.:0.0000   1st Qu.:0.0000   1st Qu.:0.00000   1st Qu.:0.00000  \n",
       " Median :0.0000   Median :0.0000   Median :0.00000   Median :0.00000  \n",
       " Mean   :0.2041   Mean   :0.1106   Mean   :0.01691   Mean   :0.01022  \n",
       " 3rd Qu.:0.0000   3rd Qu.:0.0000   3rd Qu.:0.00000   3rd Qu.:0.00000  \n",
       " Max.   :1.0000   Max.   :1.0000   Max.   :1.00000   Max.   :1.00000  \n",
       "                                                                      \n",
       "    nstudent     meanreadscore   meanmathscore       readrisk      \n",
       " Min.   :  0.0   Min.   :-20.4   Min.   : 33.86   Min.   :0.00000  \n",
       " 1st Qu.: 49.0   1st Qu.:461.6   1st Qu.:442.32   1st Qu.:0.00000  \n",
       " Median : 84.0   Median :521.6   Median :513.59   Median :0.00000  \n",
       " Mean   :105.8   Mean   :510.9   Mean   :504.29   Mean   :0.03457  \n",
       " 3rd Qu.:150.0   3rd Qu.:563.4   3rd Qu.:563.26   3rd Qu.:0.00000  \n",
       " Max.   :548.0   Max.   :811.4   Max.   :875.72   Max.   :1.00000  \n",
       "                                                                   \n",
       "    mathrisk        prevreadrisk     prevmathrisk   \n",
       " Min.   :0.00000   Min.   :0.0      Min.   :0.0     \n",
       " 1st Qu.:0.00000   1st Qu.:0.0      1st Qu.:0.0     \n",
       " Median :0.00000   Median :0.0      Median :0.0     \n",
       " Mean   :0.02733   Mean   :0.1      Mean   :0.1     \n",
       " 3rd Qu.:0.00000   3rd Qu.:0.0      3rd Qu.:0.0     \n",
       " Max.   :1.00000   Max.   :1.0      Max.   :1.0     \n",
       "                   NA's   :532848   NA's   :532848  "
      ]
     },
     "metadata": {},
     "output_type": "display_data"
    }
   ],
   "source": [
    "print('Raw data summary.')\n",
    "dim(raw.data)\n",
    "summary(raw.data)\n"
   ]
  },
  {
   "cell_type": "code",
   "execution_count": 4,
   "metadata": {
    "collapsed": true
   },
   "outputs": [],
   "source": [
    "# Irrelevant predictors:\n",
    "# schoolid, studentit, cohort\n",
    "# readscore and mathscore were used \n",
    "# to construct readrisk and mathrisk.\n",
    "ix <- c(1, 3, 4, 6, 15, 16)\n",
    "data <- raw.data[, -ix]\n",
    "\n",
    "# Drop NAs\n",
    "data <- data[complete.cases(data), ]\n"
   ]
  },
  {
   "cell_type": "code",
   "execution_count": 5,
   "metadata": {},
   "outputs": [
    {
     "name": "stdout",
     "output_type": "stream",
     "text": [
      "[1] \"Preprocessed data summary.\"\n"
     ]
    },
    {
     "data": {
      "text/html": [
       "<ol class=list-inline>\n",
       "\t<li>800876</li>\n",
       "\t<li>31</li>\n",
       "</ol>\n"
      ],
      "text/latex": [
       "\\begin{enumerate*}\n",
       "\\item 800876\n",
       "\\item 31\n",
       "\\end{enumerate*}\n"
      ],
      "text/markdown": [
       "1. 800876\n",
       "2. 31\n",
       "\n",
       "\n"
      ],
      "text/plain": [
       "[1] 800876     31"
      ]
     },
     "metadata": {},
     "output_type": "display_data"
    },
    {
     "data": {
      "text/plain": [
       "      priv            grade           age            indig        \n",
       " Min.   :0.0000   Min.   :5.00   Min.   : 9.00   Min.   :0.00000  \n",
       " 1st Qu.:0.0000   1st Qu.:5.00   1st Qu.:10.80   1st Qu.:0.00000  \n",
       " Median :0.0000   Median :7.00   Median :12.50   Median :0.00000  \n",
       " Mean   :0.4681   Mean   :6.94   Mean   :12.49   Mean   :0.02104  \n",
       " 3rd Qu.:1.0000   3rd Qu.:9.00   3rd Qu.:14.20   3rd Qu.:0.00000  \n",
       " Max.   :1.0000   Max.   :9.00   Max.   :17.50   Max.   :1.00000  \n",
       "   mumschool       mumhighed        mumoccup       dadschool    \n",
       " Min.   :1.000   Min.   :5.000   Min.   :1.000   Min.   :1.000  \n",
       " 1st Qu.:3.000   1st Qu.:5.000   1st Qu.:2.000   1st Qu.:2.000  \n",
       " Median :4.000   Median :7.000   Median :3.000   Median :4.000  \n",
       " Mean   :3.432   Mean   :6.576   Mean   :3.618   Mean   :3.273  \n",
       " 3rd Qu.:4.000   3rd Qu.:8.000   3rd Qu.:4.000   3rd Qu.:4.000  \n",
       " Max.   :4.000   Max.   :8.000   Max.   :8.000   Max.   :4.000  \n",
       "   dadhighed        dadoccup       sameschool        readprev    \n",
       " Min.   :5.000   Min.   :1.000   Min.   :0.0000   Min.   : 12.5  \n",
       " 1st Qu.:5.000   1st Qu.:2.000   1st Qu.:0.0000   1st Qu.:436.1  \n",
       " Median :7.000   Median :2.000   Median :1.0000   Median :499.6  \n",
       " Mean   :6.382   Mean   :2.704   Mean   :0.6462   Mean   :497.3  \n",
       " 3rd Qu.:7.000   3rd Qu.:3.000   3rd Qu.:1.0000   3rd Qu.:562.0  \n",
       " Max.   :8.000   Max.   :8.000   Max.   :1.0000   Max.   :865.8  \n",
       "    mathprev          girl             met           provincial    \n",
       " Min.   : 25.2   Min.   :0.0000   Min.   :0.0000   Min.   :0.0000  \n",
       " 1st Qu.:421.6   1st Qu.:0.0000   1st Qu.:1.0000   1st Qu.:0.0000  \n",
       " Median :487.0   Median :0.0000   Median :1.0000   Median :0.0000  \n",
       " Mean   :489.1   Mean   :0.4922   Mean   :0.7621   Mean   :0.2283  \n",
       " 3rd Qu.:549.6   3rd Qu.:1.0000   3rd Qu.:1.0000   3rd Qu.:0.0000  \n",
       " Max.   :922.8   Max.   :1.0000   Max.   :1.0000   Max.   :1.0000  \n",
       "     remote             lbote              SA               NSW        \n",
       " Min.   :0.000000   Min.   :0.0000   Min.   :0.00000   Min.   :0.0000  \n",
       " 1st Qu.:0.000000   1st Qu.:0.0000   1st Qu.:0.00000   1st Qu.:0.0000  \n",
       " Median :0.000000   Median :0.0000   Median :0.00000   Median :0.0000  \n",
       " Mean   :0.009541   Mean   :0.2178   Mean   :0.04534   Mean   :0.3352  \n",
       " 3rd Qu.:0.000000   3rd Qu.:0.0000   3rd Qu.:0.00000   3rd Qu.:1.0000  \n",
       " Max.   :1.000000   Max.   :1.0000   Max.   :1.00000   Max.   :1.0000  \n",
       "      TAS               VIC              QLD               WA         \n",
       " Min.   :0.00000   Min.   :0.0000   Min.   :0.0000   Min.   :0.00000  \n",
       " 1st Qu.:0.00000   1st Qu.:0.0000   1st Qu.:0.0000   1st Qu.:0.00000  \n",
       " Median :0.00000   Median :0.0000   Median :0.0000   Median :0.00000  \n",
       " Mean   :0.02463   Mean   :0.3033   Mean   :0.1934   Mean   :0.08241  \n",
       " 3rd Qu.:0.00000   3rd Qu.:1.0000   3rd Qu.:0.0000   3rd Qu.:0.00000  \n",
       " Max.   :1.00000   Max.   :1.0000   Max.   :1.0000   Max.   :1.00000  \n",
       "      ACT                NT       nstudent   meanreadscore   meanmathscore  \n",
       " Min.   :0.00000   Min.   :0   Min.   :  0   Min.   :255.2   Min.   :272.4  \n",
       " 1st Qu.:0.00000   1st Qu.:0   1st Qu.: 58   1st Qu.:516.5   1st Qu.:505.4  \n",
       " Median :0.00000   Median :0   Median :108   Median :547.7   Median :544.7  \n",
       " Mean   :0.01576   Mean   :0   Mean   :124   Mean   :548.5   Mean   :546.8  \n",
       " 3rd Qu.:0.00000   3rd Qu.:0   3rd Qu.:179   3rd Qu.:579.6   3rd Qu.:582.7  \n",
       " Max.   :1.00000   Max.   :0   Max.   :548   Max.   :811.4   Max.   :875.7  \n",
       "  prevreadrisk     prevmathrisk   \n",
       " Min.   :0.0000   Min.   :0.0000  \n",
       " 1st Qu.:0.0000   1st Qu.:0.0000  \n",
       " Median :0.0000   Median :0.0000  \n",
       " Mean   :0.1218   Mean   :0.1197  \n",
       " 3rd Qu.:0.0000   3rd Qu.:0.0000  \n",
       " Max.   :1.0000   Max.   :1.0000  "
      ]
     },
     "metadata": {},
     "output_type": "display_data"
    }
   ],
   "source": [
    "# Remove response variables\n",
    "readrisk <- data[, 30]\n",
    "mathrisk <- data[, 31]\n",
    "data <- data[, -c(30, 31)]\n",
    "\n",
    "# Summarize data.\n",
    "print('Preprocessed data summary.')\n",
    "dim(data)\n",
    "summary(data)\n",
    "\n",
    "# Note that after removing the NAs, no \n",
    "# observations remain from the Northern\n",
    "# Territory. So remove this variable.\n",
    "data <- data[, -26]\n"
   ]
  },
  {
   "cell_type": "markdown",
   "metadata": {},
   "source": [
    "Create a data frame with the dummy 'mathrisk' as the response. Currently each variable is coded as a numeric. Turn the categorical/dummy variales into factors."
   ]
  },
  {
   "cell_type": "code",
   "execution_count": 6,
   "metadata": {
    "scrolled": true
   },
   "outputs": [
    {
     "data": {
      "text/html": [
       "<dl class=dl-horizontal>\n",
       "\t<dt>Class</dt>\n",
       "\t\t<dd>'factor'</dd>\n",
       "\t<dt>priv</dt>\n",
       "\t\t<dd>'factor'</dd>\n",
       "\t<dt>grade</dt>\n",
       "\t\t<dd>'factor'</dd>\n",
       "\t<dt>age</dt>\n",
       "\t\t<dd>'numeric'</dd>\n",
       "\t<dt>indig</dt>\n",
       "\t\t<dd>'factor'</dd>\n",
       "\t<dt>mumschool</dt>\n",
       "\t\t<dd>'factor'</dd>\n",
       "\t<dt>mumhighed</dt>\n",
       "\t\t<dd>'factor'</dd>\n",
       "\t<dt>mumoccup</dt>\n",
       "\t\t<dd>'factor'</dd>\n",
       "\t<dt>dadschool</dt>\n",
       "\t\t<dd>'factor'</dd>\n",
       "\t<dt>dadhighed</dt>\n",
       "\t\t<dd>'factor'</dd>\n",
       "\t<dt>dadoccup</dt>\n",
       "\t\t<dd>'factor'</dd>\n",
       "\t<dt>sameschool</dt>\n",
       "\t\t<dd>'factor'</dd>\n",
       "\t<dt>readprev</dt>\n",
       "\t\t<dd>'numeric'</dd>\n",
       "\t<dt>mathprev</dt>\n",
       "\t\t<dd>'numeric'</dd>\n",
       "\t<dt>girl</dt>\n",
       "\t\t<dd>'factor'</dd>\n",
       "\t<dt>met</dt>\n",
       "\t\t<dd>'factor'</dd>\n",
       "\t<dt>provincial</dt>\n",
       "\t\t<dd>'factor'</dd>\n",
       "\t<dt>remote</dt>\n",
       "\t\t<dd>'factor'</dd>\n",
       "\t<dt>lbote</dt>\n",
       "\t\t<dd>'factor'</dd>\n",
       "\t<dt>SA</dt>\n",
       "\t\t<dd>'factor'</dd>\n",
       "\t<dt>NSW</dt>\n",
       "\t\t<dd>'factor'</dd>\n",
       "\t<dt>TAS</dt>\n",
       "\t\t<dd>'factor'</dd>\n",
       "\t<dt>VIC</dt>\n",
       "\t\t<dd>'factor'</dd>\n",
       "\t<dt>QLD</dt>\n",
       "\t\t<dd>'factor'</dd>\n",
       "\t<dt>WA</dt>\n",
       "\t\t<dd>'factor'</dd>\n",
       "\t<dt>ACT</dt>\n",
       "\t\t<dd>'factor'</dd>\n",
       "\t<dt>nstudent</dt>\n",
       "\t\t<dd>'numeric'</dd>\n",
       "\t<dt>meanreadscore</dt>\n",
       "\t\t<dd>'numeric'</dd>\n",
       "\t<dt>meanmathscore</dt>\n",
       "\t\t<dd>'numeric'</dd>\n",
       "\t<dt>prevreadrisk</dt>\n",
       "\t\t<dd>'factor'</dd>\n",
       "\t<dt>prevmathrisk</dt>\n",
       "\t\t<dd>'factor'</dd>\n",
       "</dl>\n"
      ],
      "text/latex": [
       "\\begin{description*}\n",
       "\\item[Class] 'factor'\n",
       "\\item[priv] 'factor'\n",
       "\\item[grade] 'factor'\n",
       "\\item[age] 'numeric'\n",
       "\\item[indig] 'factor'\n",
       "\\item[mumschool] 'factor'\n",
       "\\item[mumhighed] 'factor'\n",
       "\\item[mumoccup] 'factor'\n",
       "\\item[dadschool] 'factor'\n",
       "\\item[dadhighed] 'factor'\n",
       "\\item[dadoccup] 'factor'\n",
       "\\item[sameschool] 'factor'\n",
       "\\item[readprev] 'numeric'\n",
       "\\item[mathprev] 'numeric'\n",
       "\\item[girl] 'factor'\n",
       "\\item[met] 'factor'\n",
       "\\item[provincial] 'factor'\n",
       "\\item[remote] 'factor'\n",
       "\\item[lbote] 'factor'\n",
       "\\item[SA] 'factor'\n",
       "\\item[NSW] 'factor'\n",
       "\\item[TAS] 'factor'\n",
       "\\item[VIC] 'factor'\n",
       "\\item[QLD] 'factor'\n",
       "\\item[WA] 'factor'\n",
       "\\item[ACT] 'factor'\n",
       "\\item[nstudent] 'numeric'\n",
       "\\item[meanreadscore] 'numeric'\n",
       "\\item[meanmathscore] 'numeric'\n",
       "\\item[prevreadrisk] 'factor'\n",
       "\\item[prevmathrisk] 'factor'\n",
       "\\end{description*}\n"
      ],
      "text/markdown": [
       "Class\n",
       ":   'factor'priv\n",
       ":   'factor'grade\n",
       ":   'factor'age\n",
       ":   'numeric'indig\n",
       ":   'factor'mumschool\n",
       ":   'factor'mumhighed\n",
       ":   'factor'mumoccup\n",
       ":   'factor'dadschool\n",
       ":   'factor'dadhighed\n",
       ":   'factor'dadoccup\n",
       ":   'factor'sameschool\n",
       ":   'factor'readprev\n",
       ":   'numeric'mathprev\n",
       ":   'numeric'girl\n",
       ":   'factor'met\n",
       ":   'factor'provincial\n",
       ":   'factor'remote\n",
       ":   'factor'lbote\n",
       ":   'factor'SA\n",
       ":   'factor'NSW\n",
       ":   'factor'TAS\n",
       ":   'factor'VIC\n",
       ":   'factor'QLD\n",
       ":   'factor'WA\n",
       ":   'factor'ACT\n",
       ":   'factor'nstudent\n",
       ":   'numeric'meanreadscore\n",
       ":   'numeric'meanmathscore\n",
       ":   'numeric'prevreadrisk\n",
       ":   'factor'prevmathrisk\n",
       ":   'factor'\n",
       "\n"
      ],
      "text/plain": [
       "        Class          priv         grade           age         indig \n",
       "     \"factor\"      \"factor\"      \"factor\"     \"numeric\"      \"factor\" \n",
       "    mumschool     mumhighed      mumoccup     dadschool     dadhighed \n",
       "     \"factor\"      \"factor\"      \"factor\"      \"factor\"      \"factor\" \n",
       "     dadoccup    sameschool      readprev      mathprev          girl \n",
       "     \"factor\"      \"factor\"     \"numeric\"     \"numeric\"      \"factor\" \n",
       "          met    provincial        remote         lbote            SA \n",
       "     \"factor\"      \"factor\"      \"factor\"      \"factor\"      \"factor\" \n",
       "          NSW           TAS           VIC           QLD            WA \n",
       "     \"factor\"      \"factor\"      \"factor\"      \"factor\"      \"factor\" \n",
       "          ACT      nstudent meanreadscore meanmathscore  prevreadrisk \n",
       "     \"factor\"     \"numeric\"     \"numeric\"     \"numeric\"      \"factor\" \n",
       " prevmathrisk \n",
       "     \"factor\" "
      ]
     },
     "metadata": {},
     "output_type": "display_data"
    },
    {
     "data": {
      "text/plain": [
       " Class      priv       grade           age        indig      mumschool \n",
       " 0:789910   0:425956   5:279809   Min.   : 9.00   0:784024   1: 31936  \n",
       " 1: 10966   1:374920   7:265333   1st Qu.:10.80   1: 16852   2:135587  \n",
       "                       9:255734   Median :12.50              3: 87566  \n",
       "                                  Mean   :12.49              4:545787  \n",
       "                                  3rd Qu.:14.20                        \n",
       "                                  Max.   :17.50                        \n",
       " mumhighed  mumoccup   dadschool  dadhighed  dadoccup   sameschool\n",
       " 5:203298   1:159221   1: 43677   5:278350   1:197565   0:283319  \n",
       " 6:134496   2:167099   2:179100   6:110252   2:213232   1:517557  \n",
       " 7:261954   3:187395   3: 92686   7:240463   3:199950             \n",
       " 8:201128   4:113927   4:485413   8:171811   4:144868             \n",
       "            8:173234                         8: 45261             \n",
       "                                                                  \n",
       "    readprev        mathprev     girl       met        provincial remote    \n",
       " Min.   : 12.5   Min.   : 25.2   0:406699   0:190515   0:618002   0:793235  \n",
       " 1st Qu.:436.1   1st Qu.:421.6   1:394177   1:610361   1:182874   1:  7641  \n",
       " Median :499.6   Median :487.0                                              \n",
       " Mean   :497.3   Mean   :489.1                                              \n",
       " 3rd Qu.:562.0   3rd Qu.:549.6                                              \n",
       " Max.   :865.8   Max.   :922.8                                              \n",
       " lbote      SA         NSW        TAS        VIC        QLD        WA        \n",
       " 0:626416   0:764561   0:532409   0:781154   0:557998   0:646002   0:734876  \n",
       " 1:174460   1: 36315   1:268467   1: 19722   1:242878   1:154874   1: 66000  \n",
       "                                                                             \n",
       "                                                                             \n",
       "                                                                             \n",
       "                                                                             \n",
       " ACT           nstudent   meanreadscore   meanmathscore   prevreadrisk\n",
       " 0:788256   Min.   :  0   Min.   :255.2   Min.   :272.4   0:703291    \n",
       " 1: 12620   1st Qu.: 58   1st Qu.:516.5   1st Qu.:505.4   1: 97585    \n",
       "            Median :108   Median :547.7   Median :544.7               \n",
       "            Mean   :124   Mean   :548.5   Mean   :546.8               \n",
       "            3rd Qu.:179   3rd Qu.:579.6   3rd Qu.:582.7               \n",
       "            Max.   :548   Max.   :811.4   Max.   :875.7               \n",
       " prevmathrisk\n",
       " 0:705010    \n",
       " 1: 95866    \n",
       "             \n",
       "             \n",
       "             \n",
       "             "
      ]
     },
     "metadata": {},
     "output_type": "display_data"
    }
   ],
   "source": [
    "# Make data frame\n",
    "data <- data.frame(Class=mathrisk, data)\n",
    "\n",
    "# Force variable types.\n",
    "# Numeric types:\n",
    "# 4, age; 13, readprev; 14, mathprev;\n",
    "# 27, nstudent, 28, meanreadscore;\n",
    "# 29, meanmathscore. The rest are \n",
    "# factors.\n",
    "ix.numeric <- c(4, 13, 14, 27:29)\n",
    "ix.factors <- setdiff(1:dim(data)[2], ix.numeric)\n",
    "\n",
    "data[, ix.numeric] <- lapply(data[, ix.numeric], as.numeric)\n",
    "data[, ix.factors] <- lapply(data[, ix.factors], as.factor)\n",
    "\n",
    "       \n",
    "# Display variable names and types\n",
    "sapply(data, class)\n",
    "\n",
    "# Now Remove raw.data from memory.\n",
    "rm(list=c('raw.data'))\n",
    "\n",
    "summary(data)"
   ]
  },
  {
   "cell_type": "markdown",
   "metadata": {},
   "source": [
    "## Sample splitting\n",
    "\n",
    "Use a 2/3-1/3 split to obtain training and test sets.\n"
   ]
  },
  {
   "cell_type": "code",
   "execution_count": 7,
   "metadata": {},
   "outputs": [
    {
     "name": "stdout",
     "output_type": "stream",
     "text": [
      "[1] \"Training data summary\"\n"
     ]
    },
    {
     "data": {
      "text/html": [
       "<ol class=list-inline>\n",
       "\t<li>533918</li>\n",
       "\t<li>31</li>\n",
       "</ol>\n"
      ],
      "text/latex": [
       "\\begin{enumerate*}\n",
       "\\item 533918\n",
       "\\item 31\n",
       "\\end{enumerate*}\n"
      ],
      "text/markdown": [
       "1. 533918\n",
       "2. 31\n",
       "\n",
       "\n"
      ],
      "text/plain": [
       "[1] 533918     31"
      ]
     },
     "metadata": {},
     "output_type": "display_data"
    },
    {
     "data": {
      "text/plain": [
       " Class      priv       grade           age        indig      mumschool \n",
       " 0:526607   0:283911   5:186208   Min.   : 9.00   0:522822   1: 21332  \n",
       " 1:  7311   1:250007   7:176938   1st Qu.:10.80   1: 11096   2: 90459  \n",
       "                       9:170772   Median :12.50              3: 58410  \n",
       "                                  Mean   :12.49              4:363717  \n",
       "                                  3rd Qu.:14.20                        \n",
       "                                  Max.   :17.50                        \n",
       " mumhighed  mumoccup   dadschool  dadhighed  dadoccup   sameschool\n",
       " 5:135558   1:106379   1: 29227   5:185761   1:131595   0:188757  \n",
       " 6: 89406   2:111605   2:119448   6: 73375   2:142523   1:345161  \n",
       " 7:174789   3:124991   3: 61644   7:160475   3:133083             \n",
       " 8:134165   4: 75867   4:323599   8:114307   4: 96566             \n",
       "            8:115076                         8: 30151             \n",
       "                                                                  \n",
       "    readprev        mathprev     girl       met        provincial remote    \n",
       " Min.   : 12.5   Min.   : 25.2   0:271464   0:127114   0:411841   0:528881  \n",
       " 1st Qu.:436.1   1st Qu.:421.6   1:262454   1:406804   1:122077   1:  5037  \n",
       " Median :499.6   Median :487.0                                              \n",
       " Mean   :497.4   Mean   :489.2                                              \n",
       " 3rd Qu.:562.0   3rd Qu.:549.6                                              \n",
       " Max.   :865.8   Max.   :922.8                                              \n",
       " lbote      SA         NSW        TAS        VIC        QLD        WA        \n",
       " 0:417247   0:509751   0:354762   0:520753   0:371980   0:430694   0:490049  \n",
       " 1:116671   1: 24167   1:179156   1: 13165   1:161938   1:103224   1: 43869  \n",
       "                                                                             \n",
       "                                                                             \n",
       "                                                                             \n",
       "                                                                             \n",
       " ACT           nstudent   meanreadscore   meanmathscore   prevreadrisk\n",
       " 0:525519   Min.   :  0   Min.   :255.2   Min.   :272.4   0:468820    \n",
       " 1:  8399   1st Qu.: 58   1st Qu.:516.6   1st Qu.:505.6   1: 65098    \n",
       "            Median :108   Median :547.8   Median :544.7               \n",
       "            Mean   :124   Mean   :548.6   Mean   :546.9               \n",
       "            3rd Qu.:179   3rd Qu.:579.7   3rd Qu.:582.8               \n",
       "            Max.   :548   Max.   :741.9   Max.   :875.7               \n",
       " prevmathrisk\n",
       " 0:469917    \n",
       " 1: 64001    \n",
       "             \n",
       "             \n",
       "             \n",
       "             "
      ]
     },
     "metadata": {},
     "output_type": "display_data"
    },
    {
     "name": "stdout",
     "output_type": "stream",
     "text": [
      "[1] \"Test data summary\"\n"
     ]
    },
    {
     "data": {
      "text/html": [
       "<ol class=list-inline>\n",
       "\t<li>266958</li>\n",
       "\t<li>31</li>\n",
       "</ol>\n"
      ],
      "text/latex": [
       "\\begin{enumerate*}\n",
       "\\item 266958\n",
       "\\item 31\n",
       "\\end{enumerate*}\n"
      ],
      "text/markdown": [
       "1. 266958\n",
       "2. 31\n",
       "\n",
       "\n"
      ],
      "text/plain": [
       "[1] 266958     31"
      ]
     },
     "metadata": {},
     "output_type": "display_data"
    },
    {
     "data": {
      "text/plain": [
       " Class      priv       grade          age        indig      mumschool \n",
       " 0:263303   0:142045   5:93601   Min.   : 9.00   0:261202   1: 10604  \n",
       " 1:  3655   1:124913   7:88395   1st Qu.:10.80   1:  5756   2: 45128  \n",
       "                       9:84962   Median :12.50              3: 29156  \n",
       "                                 Mean   :12.49              4:182070  \n",
       "                                 3rd Qu.:14.20                        \n",
       "                                 Max.   :17.10                        \n",
       " mumhighed mumoccup  dadschool  dadhighed dadoccup  sameschool    readprev    \n",
       " 5:67740   1:52842   1: 14450   5:92589   1:65970   0: 94562   Min.   : 12.5  \n",
       " 6:45090   2:55494   2: 59652   6:36877   2:70709   1:172396   1st Qu.:436.1  \n",
       " 7:87165   3:62404   3: 31042   7:79988   3:66867              Median :499.6  \n",
       " 8:66963   4:38060   4:161814   8:57504   4:48302              Mean   :497.1  \n",
       "           8:58158                        8:15110              3rd Qu.:560.5  \n",
       "                                                               Max.   :865.8  \n",
       "    mathprev     girl       met        provincial remote     lbote     \n",
       " Min.   : 25.2   0:135235   0: 63401   0:206161   0:264354   0:209169  \n",
       " 1st Qu.:421.6   1:131723   1:203557   1: 60797   1:  2604   1: 57789  \n",
       " Median :487.0                                                         \n",
       " Mean   :488.8                                                         \n",
       " 3rd Qu.:549.6                                                         \n",
       " Max.   :922.8                                                         \n",
       " SA         NSW        TAS        VIC        QLD        WA         ACT       \n",
       " 0:254810   0:177647   0:260401   0:186018   0:215308   0:244827   0:262737  \n",
       " 1: 12148   1: 89311   1:  6557   1: 80940   1: 51650   1: 22131   1:  4221  \n",
       "                                                                             \n",
       "                                                                             \n",
       "                                                                             \n",
       "                                                                             \n",
       "    nstudent   meanreadscore   meanmathscore   prevreadrisk prevmathrisk\n",
       " Min.   :  0   Min.   :255.2   Min.   :304.1   0:234471     0:235093    \n",
       " 1st Qu.: 58   1st Qu.:516.4   1st Qu.:505.2   1: 32487     1: 31865    \n",
       " Median :108   Median :547.5   Median :544.5                            \n",
       " Mean   :124   Mean   :548.4   Mean   :546.6                            \n",
       " 3rd Qu.:179   3rd Qu.:579.6   3rd Qu.:582.5                            \n",
       " Max.   :548   Max.   :811.4   Max.   :875.7                            "
      ]
     },
     "metadata": {},
     "output_type": "display_data"
    }
   ],
   "source": [
    "set.seed(2718)\n",
    "\n",
    "inTrain <- createDataPartition(\n",
    "  y = data$Class,\n",
    "  p = 2/3,\n",
    "  list=F\n",
    ")\n",
    "\n",
    "train.data <- data[inTrain, ]\n",
    "test.data <- data[-inTrain, ]\n",
    "\n",
    "print('Training data summary')\n",
    "dim(train.data)\n",
    "summary(train.data)\n",
    "\n",
    "print('Test data summary')\n",
    "dim(test.data)\n",
    "summary(test.data)\n"
   ]
  },
  {
   "cell_type": "code",
   "execution_count": 8,
   "metadata": {
    "collapsed": true
   },
   "outputs": [],
   "source": [
    "# Remove prevreadrisk prevmathrisk\n",
    "prevreadrisk.train <- train.data[, 30]\n",
    "prevmathrisk.train <- train.data[, 31]\n",
    "train.data <- train.data[, -c(30, 31)]\n",
    "\n",
    "prevreadrisk.test <- test.data[, 30]\n",
    "prevmathrisk.test <- test.data[, 31]\n",
    "test.data <- test.data[, -c(30, 31)]\n",
    "\n"
   ]
  },
  {
   "cell_type": "markdown",
   "metadata": {},
   "source": [
    "## Past Performance Classifier\n",
    "\n",
    "Classify a student as 'below standard' if they performed 'below standard' on their previous NAPLAN."
   ]
  },
  {
   "cell_type": "code",
   "execution_count": 9,
   "metadata": {},
   "outputs": [
    {
     "data": {
      "text/plain": [
       "Confusion Matrix and Statistics\n",
       "\n",
       "          Reference\n",
       "Prediction      0      1\n",
       "         0 234319    774\n",
       "         1  28984   2881\n",
       "                                          \n",
       "               Accuracy : 0.8885          \n",
       "                 95% CI : (0.8873, 0.8897)\n",
       "    No Information Rate : 0.9863          \n",
       "    P-Value [Acc > NIR] : 1               \n",
       "                                          \n",
       "                  Kappa : 0.1411          \n",
       " Mcnemar's Test P-Value : <2e-16          \n",
       "                                          \n",
       "            Sensitivity : 0.78824         \n",
       "            Specificity : 0.88992         \n",
       "         Pos Pred Value : 0.09041         \n",
       "         Neg Pred Value : 0.99671         \n",
       "             Prevalence : 0.01369         \n",
       "         Detection Rate : 0.01079         \n",
       "   Detection Prevalence : 0.11936         \n",
       "      Balanced Accuracy : 0.83908         \n",
       "                                          \n",
       "       'Positive' Class : 1               \n",
       "                                          "
      ]
     },
     "metadata": {},
     "output_type": "display_data"
    },
    {
     "data": {
      "text/html": [
       "<dl class=dl-horizontal>\n",
       "\t<dt>Sensitivity</dt>\n",
       "\t\t<dd>78.8235294117647</dd>\n",
       "\t<dt>Specificity</dt>\n",
       "\t\t<dd>88.9921497286396</dd>\n",
       "\t<dt>Pos Pred Value</dt>\n",
       "\t\t<dd>9.04126784873686</dd>\n",
       "\t<dt>Neg Pred Value</dt>\n",
       "\t\t<dd>99.6707685894518</dd>\n",
       "\t<dt>Precision</dt>\n",
       "\t\t<dd>9.04126784873686</dd>\n",
       "\t<dt>Recall</dt>\n",
       "\t\t<dd>78.8235294117647</dd>\n",
       "\t<dt>F1</dt>\n",
       "\t\t<dd>16.2218468468468</dd>\n",
       "\t<dt>Prevalence</dt>\n",
       "\t\t<dd>1.36912922632025</dd>\n",
       "\t<dt>Detection Rate</dt>\n",
       "\t\t<dd>1.0791959783936</dd>\n",
       "\t<dt>Detection Prevalence</dt>\n",
       "\t\t<dd>11.9363345544992</dd>\n",
       "\t<dt>Balanced Accuracy</dt>\n",
       "\t\t<dd>83.9078395702022</dd>\n",
       "</dl>\n"
      ],
      "text/latex": [
       "\\begin{description*}\n",
       "\\item[Sensitivity] 78.8235294117647\n",
       "\\item[Specificity] 88.9921497286396\n",
       "\\item[Pos Pred Value] 9.04126784873686\n",
       "\\item[Neg Pred Value] 99.6707685894518\n",
       "\\item[Precision] 9.04126784873686\n",
       "\\item[Recall] 78.8235294117647\n",
       "\\item[F1] 16.2218468468468\n",
       "\\item[Prevalence] 1.36912922632025\n",
       "\\item[Detection Rate] 1.0791959783936\n",
       "\\item[Detection Prevalence] 11.9363345544992\n",
       "\\item[Balanced Accuracy] 83.9078395702022\n",
       "\\end{description*}\n"
      ],
      "text/markdown": [
       "Sensitivity\n",
       ":   78.8235294117647Specificity\n",
       ":   88.9921497286396Pos Pred Value\n",
       ":   9.04126784873686Neg Pred Value\n",
       ":   99.6707685894518Precision\n",
       ":   9.04126784873686Recall\n",
       ":   78.8235294117647F1\n",
       ":   16.2218468468468Prevalence\n",
       ":   1.36912922632025Detection Rate\n",
       ":   1.0791959783936Detection Prevalence\n",
       ":   11.9363345544992Balanced Accuracy\n",
       ":   83.9078395702022\n",
       "\n"
      ],
      "text/plain": [
       "         Sensitivity          Specificity       Pos Pred Value \n",
       "           78.823529            88.992150             9.041268 \n",
       "      Neg Pred Value            Precision               Recall \n",
       "           99.670769             9.041268            78.823529 \n",
       "                  F1           Prevalence       Detection Rate \n",
       "           16.221847             1.369129             1.079196 \n",
       "Detection Prevalence    Balanced Accuracy \n",
       "           11.936335            83.907840 "
      ]
     },
     "metadata": {},
     "output_type": "display_data"
    },
    {
     "name": "stdout",
     "output_type": "stream",
     "text": [
      "[1] \"AUC\"\n"
     ]
    },
    {
     "data": {
      "text/html": [
       "0.777702376387088"
      ],
      "text/latex": [
       "0.777702376387088"
      ],
      "text/markdown": [
       "0.777702376387088"
      ],
      "text/plain": [
       "Area under the curve: 0.7777"
      ]
     },
     "metadata": {},
     "output_type": "display_data"
    }
   ],
   "source": [
    "# The variable prevmathrisk.test is effectively the output of running a 'predict' function on\n",
    "# the model 'below standard if below standard previously'.\n",
    "# Let's check model performance\n",
    "\n",
    "naive.CM <- confusionMatrix(prevmathrisk.test, test.data[, 1], positive=c('1'))\n",
    "naive.CM\n",
    "\n",
    "# Sensitivity/specificity/precision/F1/accuracy\n",
    "naive.CM$byClass*100\n",
    "\n",
    "# ROC curve\n",
    "naive.roc <- roc(test.data[, 1], as.numeric(prevreadrisk.test))\n",
    "\n",
    "# Display area under the ROC curve\n",
    "print('AUC')\n",
    "naive.roc$auc\n"
   ]
  },
  {
   "cell_type": "markdown",
   "metadata": {},
   "source": [
    "## Weighted Classifiers\n",
    "\n",
    "Here we train the weighted classifiers discussed in Section 3 of the paper. \n",
    "\n",
    "Let $y_{i} \\in \\{0, 1\\}$ denote the true class for observation $i$, where $y_{i} = 1$ if a student is in the `below standard' category. We construct weights for each observation inversely proportional to the frequency of that observation's class. \n",
    "   \n",
    "\\begin{equation}\n",
    "w_{i} = \\frac{1}{2 | \\{j : y_{j} = y_{i} \\} |}\n",
    "\\end{equation}\n",
    "\n",
    "glmnet only accepts matrices, not data frames, so we split the data frame into a response vector, y, and a model matrix, X."
   ]
  },
  {
   "cell_type": "code",
   "execution_count": 10,
   "metadata": {
    "collapsed": true
   },
   "outputs": [],
   "source": [
    "# Model weights\n",
    "train.weights <- ifelse(train.data$Class == 0,\n",
    "                              (1/table(train.data$Class)[1]*.5),\n",
    "                              (1/table(train.data$Class)[2]*0.5))\n",
    "\n",
    "# Turn data frame into matrix\n",
    "X <- model.matrix(Class ~., train.data)\n",
    "y <- train.data$Class\n"
   ]
  },
  {
   "cell_type": "markdown",
   "metadata": {},
   "source": [
    "## Parallell Pool\n"
   ]
  },
  {
   "cell_type": "code",
   "execution_count": 11,
   "metadata": {},
   "outputs": [
    {
     "name": "stdout",
     "output_type": "stream",
     "text": [
      "[1] 20\n"
     ]
    }
   ],
   "source": [
    "# How many cores detected?\n",
    "n.cores <- detectCores()\n",
    "print(n.cores)"
   ]
  },
  {
   "cell_type": "markdown",
   "metadata": {},
   "source": [
    "### Elastic Net\n",
    "\n",
    "The elastic net classifier minimizes the following objective function.\n",
    "\n",
    "\\begin{equation}\n",
    "    \\mathcal{L}(\\hat{y}, y) = l(\\mathbf{y}, \\mathbf{\\hat{y}}|\\mathbf{w}, \\beta) + \\lambda \\left( (\\alpha ||\\beta||_{1} + (1-\\alpha)\\frac{1}{2} ||\\beta||_{2}^{2}\\right)\n",
    "\\end{equation}\n",
    "\n",
    "We impose that the lasso and ridge penalties get equal weight, $\\alpha = \\frac{1}{2}$, with $\\lambda$ being chosen by 10-fold cross-validation.\n",
    "\n",
    "Passing the argument type.measure=\"class\" to glmnet sets $l(\\cdot)$ to be the binary cross-entropy loss function."
   ]
  },
  {
   "cell_type": "code",
   "execution_count": 12,
   "metadata": {},
   "outputs": [
    {
     "data": {
      "text/plain": [
       "Time difference of 7.689429 mins"
      ]
     },
     "metadata": {},
     "output_type": "display_data"
    }
   ],
   "source": [
    "# Register parallel session\n",
    "registerDoMC(cores=n.cores)\n",
    "\n",
    "# Estimate the elastic net classifier\n",
    "t0 <- Sys.time()\n",
    "set.seed(2718)\n",
    "weight.EN.fit <- cv.glmnet(x=X,\n",
    "                           y=y,\n",
    "                           family=\"binomial\",\n",
    "                           alpha=0.5,\n",
    "                           type.measure=\"class\",\n",
    "                           weights=train.weights,\n",
    "                           parallel=T)\n",
    "Sys.time() - t0\n"
   ]
  },
  {
   "cell_type": "markdown",
   "metadata": {},
   "source": [
    "Plot the cross-validation curve; display coefficients,confusion matrix and performance measures on the test set."
   ]
  },
  {
   "cell_type": "code",
   "execution_count": 13,
   "metadata": {},
   "outputs": [
    {
     "data": {
      "text/plain": [
       "45 x 1 sparse Matrix of class \"dgCMatrix\"\n",
       "                          1\n",
       "(Intercept)    2.5593147882\n",
       "(Intercept)    .           \n",
       "priv1         -0.1448961582\n",
       "grade7         5.9929601269\n",
       "grade9         7.5766276402\n",
       "age            0.8330223079\n",
       "indig1         0.2580655465\n",
       "mumschool2     0.0163242725\n",
       "mumschool3     .           \n",
       "mumschool4    -0.0789893873\n",
       "mumhighed6     .           \n",
       "mumhighed7    -0.1636954425\n",
       "mumhighed8     0.0398119553\n",
       "mumoccup2      .           \n",
       "mumoccup3     -0.0291131895\n",
       "mumoccup4      .           \n",
       "mumoccup8      0.0608835920\n",
       "dadschool2     0.0077385195\n",
       "dadschool3    -0.1558861366\n",
       "dadschool4    -0.1245469256\n",
       "dadhighed6    -0.0236182341\n",
       "dadhighed7    -0.2158223561\n",
       "dadhighed8     0.0615879899\n",
       "dadoccup2     -0.1084994239\n",
       "dadoccup3      .           \n",
       "dadoccup4      0.0335070744\n",
       "dadoccup8      0.0915846465\n",
       "sameschool1   -0.3295172381\n",
       "readprev      -0.0092741141\n",
       "mathprev      -0.0256681323\n",
       "girl1          0.2160123457\n",
       "met1           .           \n",
       "provincial1   -0.0139082875\n",
       "remote1        0.1919187756\n",
       "lbote1        -0.0051713406\n",
       "SA1           -0.2812187999\n",
       "NSW1           .           \n",
       "TAS1          -0.0758132514\n",
       "VIC1          -0.0120767207\n",
       "QLD1           0.1959250199\n",
       "WA1            0.0073820843\n",
       "ACT1           .           \n",
       "nstudent       0.0006918983\n",
       "meanreadscore  0.0032286926\n",
       "meanmathscore -0.0101913348"
      ]
     },
     "metadata": {},
     "output_type": "display_data"
    },
    {
     "data": {
      "text/plain": [
       "Confusion Matrix and Statistics\n",
       "\n",
       "          Reference\n",
       "Prediction      0      1\n",
       "         0 229489    255\n",
       "         1  33814   3400\n",
       "                                          \n",
       "               Accuracy : 0.8724          \n",
       "                 95% CI : (0.8711, 0.8736)\n",
       "    No Information Rate : 0.9863          \n",
       "    P-Value [Acc > NIR] : 1               \n",
       "                                          \n",
       "                  Kappa : 0.1451          \n",
       " Mcnemar's Test P-Value : <2e-16          \n",
       "                                          \n",
       "            Sensitivity : 0.93023         \n",
       "            Specificity : 0.87158         \n",
       "         Pos Pred Value : 0.09136         \n",
       "         Neg Pred Value : 0.99889         \n",
       "             Prevalence : 0.01369         \n",
       "         Detection Rate : 0.01274         \n",
       "   Detection Prevalence : 0.13940         \n",
       "      Balanced Accuracy : 0.90091         \n",
       "                                          \n",
       "       'Positive' Class : 1               \n",
       "                                          "
      ]
     },
     "metadata": {},
     "output_type": "display_data"
    },
    {
     "data": {
      "text/html": [
       "<dl class=dl-horizontal>\n",
       "\t<dt>Sensitivity</dt>\n",
       "\t\t<dd>93.0232558139535</dd>\n",
       "\t<dt>Specificity</dt>\n",
       "\t\t<dd>87.1577612104685</dd>\n",
       "\t<dt>Pos Pred Value</dt>\n",
       "\t\t<dd>9.13634653624979</dd>\n",
       "\t<dt>Neg Pred Value</dt>\n",
       "\t\t<dd>99.8890068946306</dd>\n",
       "\t<dt>Precision</dt>\n",
       "\t\t<dd>9.1363465362498</dd>\n",
       "\t<dt>Recall</dt>\n",
       "\t\t<dd>93.0232558139535</dd>\n",
       "\t<dt>F1</dt>\n",
       "\t\t<dd>16.6385279796423</dd>\n",
       "\t<dt>Prevalence</dt>\n",
       "\t\t<dd>1.36912922632025</dd>\n",
       "\t<dt>Detection Rate</dt>\n",
       "\t\t<dd>1.27360858262348</dd>\n",
       "\t<dt>Detection Prevalence</dt>\n",
       "\t\t<dd>13.9400205275736</dd>\n",
       "\t<dt>Balanced Accuracy</dt>\n",
       "\t\t<dd>90.090508512211</dd>\n",
       "</dl>\n"
      ],
      "text/latex": [
       "\\begin{description*}\n",
       "\\item[Sensitivity] 93.0232558139535\n",
       "\\item[Specificity] 87.1577612104685\n",
       "\\item[Pos Pred Value] 9.13634653624979\n",
       "\\item[Neg Pred Value] 99.8890068946306\n",
       "\\item[Precision] 9.1363465362498\n",
       "\\item[Recall] 93.0232558139535\n",
       "\\item[F1] 16.6385279796423\n",
       "\\item[Prevalence] 1.36912922632025\n",
       "\\item[Detection Rate] 1.27360858262348\n",
       "\\item[Detection Prevalence] 13.9400205275736\n",
       "\\item[Balanced Accuracy] 90.090508512211\n",
       "\\end{description*}\n"
      ],
      "text/markdown": [
       "Sensitivity\n",
       ":   93.0232558139535Specificity\n",
       ":   87.1577612104685Pos Pred Value\n",
       ":   9.13634653624979Neg Pred Value\n",
       ":   99.8890068946306Precision\n",
       ":   9.1363465362498Recall\n",
       ":   93.0232558139535F1\n",
       ":   16.6385279796423Prevalence\n",
       ":   1.36912922632025Detection Rate\n",
       ":   1.27360858262348Detection Prevalence\n",
       ":   13.9400205275736Balanced Accuracy\n",
       ":   90.090508512211\n",
       "\n"
      ],
      "text/plain": [
       "         Sensitivity          Specificity       Pos Pred Value \n",
       "           93.023256            87.157761             9.136347 \n",
       "      Neg Pred Value            Precision               Recall \n",
       "           99.889007             9.136347            93.023256 \n",
       "                  F1           Prevalence       Detection Rate \n",
       "           16.638528             1.369129             1.273609 \n",
       "Detection Prevalence    Balanced Accuracy \n",
       "           13.940021            90.090509 "
      ]
     },
     "metadata": {},
     "output_type": "display_data"
    },
    {
     "name": "stdout",
     "output_type": "stream",
     "text": [
      "[1] \"AUC\"\n"
     ]
    },
    {
     "data": {
      "text/html": [
       "0.959571803625949"
      ],
      "text/latex": [
       "0.959571803625949"
      ],
      "text/markdown": [
       "0.959571803625949"
      ],
      "text/plain": [
       "Area under the curve: 0.9596"
      ]
     },
     "metadata": {},
     "output_type": "display_data"
    },
    {
     "data": {
      "image/png": "[encoded data removed]",
      "text/plain": [
       "plot without title"
      ]
     },
     "metadata": {},
     "output_type": "display_data"
    }
   ],
   "source": [
    "# Cross-validation curve\n",
    "plot(weight.EN.fit)\n",
    "\n",
    "# Estimated coefficients\n",
    "coef(weight.EN.fit, s='lambda.1se')\n",
    "\n",
    "# Confusion matrix\n",
    "weight.EN.preds <- predict(weight.EN.fit, s='lambda.1se', model.matrix(Class ~., test.data), type='class')\n",
    "weight.EN.CM <- confusionMatrix(as.factor(weight.EN.preds), test.data[, 1], positive=c('1'))\n",
    "weight.EN.CM\n",
    "\n",
    "# Sensitivity/specificity/precision/F1/accuracy\n",
    "weight.EN.CM$byClass*100\n",
    "\n",
    "# ROC curve\n",
    "weight.EN.probs <- predict(weight.EN.fit, s='lambda.1se', model.matrix(Class ~., test.data), type='response')\n",
    "weight.EN.roc <- roc(test.data[, 1], as.numeric(weight.EN.probs))\n",
    "\n",
    "# Display area under the ROC curve\n",
    "print('AUC')\n",
    "weight.EN.roc$auc\n",
    "\n"
   ]
  },
  {
   "cell_type": "markdown",
   "metadata": {},
   "source": [
    "### Classification Tree\n",
    "\n",
    "Train a recursive partitioning tree using rpart."
   ]
  },
  {
   "cell_type": "code",
   "execution_count": 14,
   "metadata": {},
   "outputs": [
    {
     "data": {
      "text/plain": [
       "Time difference of 19.82227 secs"
      ]
     },
     "metadata": {},
     "output_type": "display_data"
    }
   ],
   "source": [
    "t0 <- Sys.time()\n",
    "weight.cart.fit <- rpart(Class ~.,\n",
    "                         data=train.data,\n",
    "                         weights = train.weights)\n",
    "t1 <- Sys.time() - t0\n",
    "t1"
   ]
  },
  {
   "cell_type": "markdown",
   "metadata": {},
   "source": [
    "Show confusion matrix for test set, performance metrics, and plot the tree."
   ]
  },
  {
   "cell_type": "code",
   "execution_count": 15,
   "metadata": {},
   "outputs": [
    {
     "data": {
      "text/plain": [
       "Confusion Matrix and Statistics\n",
       "\n",
       "          Reference\n",
       "Prediction      0      1\n",
       "         0 221816    246\n",
       "         1  41487   3409\n",
       "                                         \n",
       "               Accuracy : 0.8437         \n",
       "                 95% CI : (0.8423, 0.845)\n",
       "    No Information Rate : 0.9863         \n",
       "    P-Value [Acc > NIR] : 1              \n",
       "                                         \n",
       "                  Kappa : 0.1181         \n",
       " Mcnemar's Test P-Value : <2e-16         \n",
       "                                         \n",
       "            Sensitivity : 0.93269        \n",
       "            Specificity : 0.84244        \n",
       "         Pos Pred Value : 0.07593        \n",
       "         Neg Pred Value : 0.99889        \n",
       "             Prevalence : 0.01369        \n",
       "         Detection Rate : 0.01277        \n",
       "   Detection Prevalence : 0.16818        \n",
       "      Balanced Accuracy : 0.88757        \n",
       "                                         \n",
       "       'Positive' Class : 1              \n",
       "                                         "
      ]
     },
     "metadata": {},
     "output_type": "display_data"
    },
    {
     "data": {
      "text/html": [
       "<dl class=dl-horizontal>\n",
       "\t<dt>Sensitivity</dt>\n",
       "\t\t<dd>93.2694938440493</dd>\n",
       "\t<dt>Specificity</dt>\n",
       "\t\t<dd>84.2436280634858</dd>\n",
       "\t<dt>Pos Pred Value</dt>\n",
       "\t\t<dd>7.59310406272274</dd>\n",
       "\t<dt>Neg Pred Value</dt>\n",
       "\t\t<dd>99.8892201277121</dd>\n",
       "\t<dt>Precision</dt>\n",
       "\t\t<dd>7.59310406272274</dd>\n",
       "\t<dt>Recall</dt>\n",
       "\t\t<dd>93.2694938440493</dd>\n",
       "\t<dt>F1</dt>\n",
       "\t\t<dd>14.0429651294515</dd>\n",
       "\t<dt>Prevalence</dt>\n",
       "\t\t<dd>1.36912922632025</dd>\n",
       "\t<dt>Detection Rate</dt>\n",
       "\t\t<dd>1.27697989945984</dd>\n",
       "\t<dt>Detection Prevalence</dt>\n",
       "\t\t<dd>16.8176267427835</dd>\n",
       "\t<dt>Balanced Accuracy</dt>\n",
       "\t\t<dd>88.7565609537675</dd>\n",
       "</dl>\n"
      ],
      "text/latex": [
       "\\begin{description*}\n",
       "\\item[Sensitivity] 93.2694938440493\n",
       "\\item[Specificity] 84.2436280634858\n",
       "\\item[Pos Pred Value] 7.59310406272274\n",
       "\\item[Neg Pred Value] 99.8892201277121\n",
       "\\item[Precision] 7.59310406272274\n",
       "\\item[Recall] 93.2694938440493\n",
       "\\item[F1] 14.0429651294515\n",
       "\\item[Prevalence] 1.36912922632025\n",
       "\\item[Detection Rate] 1.27697989945984\n",
       "\\item[Detection Prevalence] 16.8176267427835\n",
       "\\item[Balanced Accuracy] 88.7565609537675\n",
       "\\end{description*}\n"
      ],
      "text/markdown": [
       "Sensitivity\n",
       ":   93.2694938440493Specificity\n",
       ":   84.2436280634858Pos Pred Value\n",
       ":   7.59310406272274Neg Pred Value\n",
       ":   99.8892201277121Precision\n",
       ":   7.59310406272274Recall\n",
       ":   93.2694938440493F1\n",
       ":   14.0429651294515Prevalence\n",
       ":   1.36912922632025Detection Rate\n",
       ":   1.27697989945984Detection Prevalence\n",
       ":   16.8176267427835Balanced Accuracy\n",
       ":   88.7565609537675\n",
       "\n"
      ],
      "text/plain": [
       "         Sensitivity          Specificity       Pos Pred Value \n",
       "           93.269494            84.243628             7.593104 \n",
       "      Neg Pred Value            Precision               Recall \n",
       "           99.889220             7.593104            93.269494 \n",
       "                  F1           Prevalence       Detection Rate \n",
       "           14.042965             1.369129             1.276980 \n",
       "Detection Prevalence    Balanced Accuracy \n",
       "           16.817627            88.756561 "
      ]
     },
     "metadata": {},
     "output_type": "display_data"
    },
    {
     "name": "stdout",
     "output_type": "stream",
     "text": [
      "[1] \"AUC\"\n"
     ]
    },
    {
     "data": {
      "text/html": [
       "0.935311475271687"
      ],
      "text/latex": [
       "0.935311475271687"
      ],
      "text/markdown": [
       "0.935311475271687"
      ],
      "text/plain": [
       "Area under the curve: 0.9353"
      ]
     },
     "metadata": {},
     "output_type": "display_data"
    },
    {
     "data": {
      "image/png": "[encoded data removed]",
      "text/plain": [
       "plot without title"
      ]
     },
     "metadata": {},
     "output_type": "display_data"
    }
   ],
   "source": [
    "# Confusion matrix\n",
    "weight.cart.preds <- predict(weight.cart.fit, newdata=test.data[, -1], type='class')\n",
    "weight.cart.CM <- confusionMatrix(weight.cart.preds, test.data[, 1], positive=\"1\")\n",
    "weight.cart.CM\n",
    "weight.cart.CM$byClass*100\n",
    "\n",
    "# ROC curve\n",
    "weight.oos.probs <- predict(weight.cart.fit, newdata=test.data[, -1])[, 2]\n",
    "weight.roc <- roc(test.data[, 1], weight.oos.probs)\n",
    "print('AUC')\n",
    "weight.roc$auc\n",
    "\n",
    "\n",
    "# Plot the tree\n",
    "rpart.plot(weight.cart.fit,\n",
    "           cex=1,\n",
    "           fallen.leaves=T)\n"
   ]
  },
  {
   "cell_type": "markdown",
   "metadata": {},
   "source": [
    "## SMOTE Classifiers\n",
    "\n",
    "We balance the training set by generating a SMOTE sample using the out-of-the-box settings."
   ]
  },
  {
   "cell_type": "code",
   "execution_count": 16,
   "metadata": {},
   "outputs": [
    {
     "data": {
      "text/html": [
       "<ol class=list-inline>\n",
       "\t<li>51177</li>\n",
       "\t<li>29</li>\n",
       "</ol>\n"
      ],
      "text/latex": [
       "\\begin{enumerate*}\n",
       "\\item 51177\n",
       "\\item 29\n",
       "\\end{enumerate*}\n"
      ],
      "text/markdown": [
       "1. 51177\n",
       "2. 29\n",
       "\n",
       "\n"
      ],
      "text/plain": [
       "[1] 51177    29"
      ]
     },
     "metadata": {},
     "output_type": "display_data"
    },
    {
     "data": {
      "text/plain": [
       " Class     priv      grade          age        indig     mumschool mumhighed\n",
       " 0:29244   0:28651   5:10379   Min.   : 9.20   0:45862   1: 4508   5:14396  \n",
       " 1:21933   1:22526   7:17830   1st Qu.:12.20   1: 5315   2:11673   6: 7963  \n",
       "                     9:22968   Median :13.27             3: 6641   7:12004  \n",
       "                               Mean   :13.06             4:28355   8:16814  \n",
       "                               3rd Qu.:14.36                                \n",
       "                               Max.   :17.50                                \n",
       " mumoccup  dadschool dadhighed dadoccup  sameschool    readprev    \n",
       " 1: 7769   1: 5674   5:18824   1: 9324   0:20934    Min.   : 12.5  \n",
       " 2: 9557   2:14122   6: 6295   2:11472   1:30243    1st Qu.:413.0  \n",
       " 3:11633   3: 6274   7:10916   3:12835              Median :462.2  \n",
       " 4: 8576   4:25107   8:15142   4:12157              Mean   :470.0  \n",
       " 8:13642                       8: 5389              3rd Qu.:523.5  \n",
       "                                                    Max.   :865.8  \n",
       "    mathprev     girl      met       provincial remote    lbote     SA       \n",
       " Min.   :170.6   0:25516   0:16908   0:36278    0:49300   0:37272   0:49062  \n",
       " 1st Qu.:407.0   1:25661   1:34269   1:14899    1: 1877   1:13905   1: 2115  \n",
       " Median :449.3                                                               \n",
       " Mean   :462.6                                                               \n",
       " 3rd Qu.:509.2                                                               \n",
       " Max.   :922.8                                                               \n",
       " NSW       TAS       VIC       QLD       WA        ACT          nstudent     \n",
       " 0:34387   0:49440   0:36061   0:40702   0:46856   0:50488   Min.   :  0.00  \n",
       " 1:16790   1: 1737   1:15116   1:10475   1: 4321   1:  689   1st Qu.: 69.73  \n",
       "                                                             Median :124.00  \n",
       "                                                             Mean   :131.44  \n",
       "                                                             3rd Qu.:181.78  \n",
       "                                                             Max.   :548.00  \n",
       " meanreadscore   meanmathscore  \n",
       " Min.   :255.2   Min.   :342.7  \n",
       " 1st Qu.:523.7   1st Qu.:517.1  \n",
       " Median :549.5   Median :546.5  \n",
       " Mean   :548.1   Mean   :546.4  \n",
       " 3rd Qu.:573.1   3rd Qu.:573.6  \n",
       " Max.   :730.0   Max.   :875.7  "
      ]
     },
     "metadata": {},
     "output_type": "display_data"
    }
   ],
   "source": [
    "# Generate SMOTE sample\n",
    "SMOTE.data <- SMOTE(Class ~., train.data)\n",
    "dim(SMOTE.data)\n",
    "summary(SMOTE.data)\n",
    "\n",
    "# Turn into matrices\n",
    "X <- model.matrix(Class ~., SMOTE.data)\n",
    "y <- SMOTE.data$Class"
   ]
  },
  {
   "cell_type": "markdown",
   "metadata": {},
   "source": [
    "### Elastic Net (SMOTE)\n",
    "\n",
    "Now run the elastic net and tree, but without class weights this time."
   ]
  },
  {
   "cell_type": "code",
   "execution_count": 17,
   "metadata": {},
   "outputs": [
    {
     "data": {
      "text/plain": [
       "Time difference of 27.07904 secs"
      ]
     },
     "metadata": {},
     "output_type": "display_data"
    }
   ],
   "source": [
    "\n",
    "# Estimate the elastic net classifier\n",
    "t0 <- Sys.time()\n",
    "set.seed(2718)\n",
    "SMOTE.EN.fit <- cv.glmnet(x=X,\n",
    "                          y=y,\n",
    "                          family=\"binomial\",\n",
    "                          alpha=0.5,\n",
    "                          type.measure=\"class\",\n",
    "                          parallel=T)\n",
    "Sys.time() - t0"
   ]
  },
  {
   "cell_type": "markdown",
   "metadata": {},
   "source": [
    "Display coefficients, CV curve, confusion matrix, performance measures."
   ]
  },
  {
   "cell_type": "code",
   "execution_count": 18,
   "metadata": {},
   "outputs": [
    {
     "data": {
      "text/plain": [
       "45 x 1 sparse Matrix of class \"dgCMatrix\"\n",
       "                         1\n",
       "(Intercept)   -2.682037953\n",
       "(Intercept)    .          \n",
       "priv1          0.146358336\n",
       "grade7         5.135952102\n",
       "grade9         5.614414022\n",
       "age            1.234560497\n",
       "indig1         1.505202198\n",
       "mumschool2     .          \n",
       "mumschool3    -0.020833639\n",
       "mumschool4    -0.241761980\n",
       "mumhighed6    -0.005211530\n",
       "mumhighed7     .          \n",
       "mumhighed8     0.025637464\n",
       "mumoccup2      .          \n",
       "mumoccup3     -0.143565409\n",
       "mumoccup4     -0.020871095\n",
       "mumoccup8      0.041484972\n",
       "dadschool2    -0.102977443\n",
       "dadschool3    -0.193741550\n",
       "dadschool4    -0.261710734\n",
       "dadhighed6     0.086292696\n",
       "dadhighed7    -0.165594049\n",
       "dadhighed8     0.077198225\n",
       "dadoccup2     -0.169122659\n",
       "dadoccup3      .          \n",
       "dadoccup4      0.041472615\n",
       "dadoccup8      0.362882802\n",
       "sameschool1   -0.304396132\n",
       "readprev      -0.010036066\n",
       "mathprev      -0.025641563\n",
       "girl1          0.131445710\n",
       "met1          -0.421459001\n",
       "provincial1    0.197528528\n",
       "remote1        0.889223277\n",
       "lbote1         0.542951459\n",
       "SA1           -0.246750773\n",
       "NSW1          -0.003076709\n",
       "TAS1           .          \n",
       "VIC1          -0.106008927\n",
       "QLD1           0.372044292\n",
       "WA1            0.241883447\n",
       "ACT1          -0.101974275\n",
       "nstudent       0.001102246\n",
       "meanreadscore  0.006387641\n",
       "meanmathscore -0.011341423"
      ]
     },
     "metadata": {},
     "output_type": "display_data"
    },
    {
     "data": {
      "text/plain": [
       "Confusion Matrix and Statistics\n",
       "\n",
       "          Reference\n",
       "Prediction      0      1\n",
       "         0 238591    500\n",
       "         1  24712   3155\n",
       "                                          \n",
       "               Accuracy : 0.9056          \n",
       "                 95% CI : (0.9044, 0.9067)\n",
       "    No Information Rate : 0.9863          \n",
       "    P-Value [Acc > NIR] : 1               \n",
       "                                          \n",
       "                  Kappa : 0.1803          \n",
       " Mcnemar's Test P-Value : <2e-16          \n",
       "                                          \n",
       "            Sensitivity : 0.86320         \n",
       "            Specificity : 0.90615         \n",
       "         Pos Pred Value : 0.11322         \n",
       "         Neg Pred Value : 0.99791         \n",
       "             Prevalence : 0.01369         \n",
       "         Detection Rate : 0.01182         \n",
       "   Detection Prevalence : 0.10439         \n",
       "      Balanced Accuracy : 0.88467         \n",
       "                                          \n",
       "       'Positive' Class : 1               \n",
       "                                          "
      ]
     },
     "metadata": {},
     "output_type": "display_data"
    },
    {
     "data": {
      "text/html": [
       "<dl class=dl-horizontal>\n",
       "\t<dt>Sensitivity</dt>\n",
       "\t\t<dd>86.3201094391245</dd>\n",
       "\t<dt>Specificity</dt>\n",
       "\t\t<dd>90.6146151012332</dd>\n",
       "\t<dt>Pos Pred Value</dt>\n",
       "\t\t<dd>11.3216349086733</dd>\n",
       "\t<dt>Neg Pred Value</dt>\n",
       "\t\t<dd>99.7908746042302</dd>\n",
       "\t<dt>Precision</dt>\n",
       "\t\t<dd>11.3216349086733</dd>\n",
       "\t<dt>Recall</dt>\n",
       "\t\t<dd>86.3201094391245</dd>\n",
       "\t<dt>F1</dt>\n",
       "\t\t<dd>20.0177653702176</dd>\n",
       "\t<dt>Prevalence</dt>\n",
       "\t\t<dd>1.36912922632025</dd>\n",
       "\t<dt>Detection Rate</dt>\n",
       "\t\t<dd>1.18183384652267</dd>\n",
       "\t<dt>Detection Prevalence</dt>\n",
       "\t\t<dd>10.4387206976378</dd>\n",
       "\t<dt>Balanced Accuracy</dt>\n",
       "\t\t<dd>88.4673622701788</dd>\n",
       "</dl>\n"
      ],
      "text/latex": [
       "\\begin{description*}\n",
       "\\item[Sensitivity] 86.3201094391245\n",
       "\\item[Specificity] 90.6146151012332\n",
       "\\item[Pos Pred Value] 11.3216349086733\n",
       "\\item[Neg Pred Value] 99.7908746042302\n",
       "\\item[Precision] 11.3216349086733\n",
       "\\item[Recall] 86.3201094391245\n",
       "\\item[F1] 20.0177653702176\n",
       "\\item[Prevalence] 1.36912922632025\n",
       "\\item[Detection Rate] 1.18183384652267\n",
       "\\item[Detection Prevalence] 10.4387206976378\n",
       "\\item[Balanced Accuracy] 88.4673622701788\n",
       "\\end{description*}\n"
      ],
      "text/markdown": [
       "Sensitivity\n",
       ":   86.3201094391245Specificity\n",
       ":   90.6146151012332Pos Pred Value\n",
       ":   11.3216349086733Neg Pred Value\n",
       ":   99.7908746042302Precision\n",
       ":   11.3216349086733Recall\n",
       ":   86.3201094391245F1\n",
       ":   20.0177653702176Prevalence\n",
       ":   1.36912922632025Detection Rate\n",
       ":   1.18183384652267Detection Prevalence\n",
       ":   10.4387206976378Balanced Accuracy\n",
       ":   88.4673622701788\n",
       "\n"
      ],
      "text/plain": [
       "         Sensitivity          Specificity       Pos Pred Value \n",
       "           86.320109            90.614615            11.321635 \n",
       "      Neg Pred Value            Precision               Recall \n",
       "           99.790875            11.321635            86.320109 \n",
       "                  F1           Prevalence       Detection Rate \n",
       "           20.017765             1.369129             1.181834 \n",
       "Detection Prevalence    Balanced Accuracy \n",
       "           10.438721            88.467362 "
      ]
     },
     "metadata": {},
     "output_type": "display_data"
    },
    {
     "name": "stdout",
     "output_type": "stream",
     "text": [
      "[1] \"AUC\"\n"
     ]
    },
    {
     "data": {
      "text/html": [
       "0.954075371431164"
      ],
      "text/latex": [
       "0.954075371431164"
      ],
      "text/markdown": [
       "0.954075371431164"
      ],
      "text/plain": [
       "Area under the curve: 0.9541"
      ]
     },
     "metadata": {},
     "output_type": "display_data"
    },
    {
     "data": {
      "image/png": "[encoded data removed]",
      "text/plain": [
       "plot without title"
      ]
     },
     "metadata": {},
     "output_type": "display_data"
    }
   ],
   "source": [
    "# Coefficients\n",
    "coef(SMOTE.EN.fit, s='lambda.1se')\n",
    "\n",
    "# Confusion matrix\n",
    "SMOTE.EN.preds <- predict(SMOTE.EN.fit, s='lambda.1se', model.matrix(Class ~., test.data), type='class')\n",
    "SMOTE.EN.CM <- confusionMatrix(as.factor(SMOTE.EN.preds), test.data[, 1], positive=c('1'))\n",
    "SMOTE.EN.CM\n",
    "SMOTE.EN.CM$byClass*100\n",
    "\n",
    "# ROC curve\n",
    "SMOTE.EN.probs <- predict(SMOTE.EN.fit, s='lambda.1se', model.matrix(Class ~., test.data), type='response')\n",
    "SMOTE.EN.roc <- roc(test.data[, 1], as.numeric(SMOTE.EN.probs))\n",
    "\n",
    "print('AUC')\n",
    "SMOTE.EN.roc$auc\n",
    "\n",
    "# CV curve\n",
    "plot(SMOTE.EN.fit)\n"
   ]
  },
  {
   "cell_type": "markdown",
   "metadata": {},
   "source": [
    "### Decision Tree (SMOTE)\n"
   ]
  },
  {
   "cell_type": "code",
   "execution_count": 19,
   "metadata": {},
   "outputs": [
    {
     "data": {
      "text/plain": [
       "Time difference of 1.807312 secs"
      ]
     },
     "metadata": {},
     "output_type": "display_data"
    }
   ],
   "source": [
    "t0 <- Sys.time()\n",
    "SMOTE.cart.fit <- rpart(Class ~.,\n",
    "                    data=SMOTE.data[, 1:29])\n",
    "t1 <- Sys.time() - t0\n",
    "t1\n"
   ]
  },
  {
   "cell_type": "code",
   "execution_count": 20,
   "metadata": {},
   "outputs": [
    {
     "data": {
      "text/plain": [
       "Confusion Matrix and Statistics\n",
       "\n",
       "          Reference\n",
       "Prediction      0      1\n",
       "         0 238231    641\n",
       "         1  25072   3014\n",
       "                                          \n",
       "               Accuracy : 0.9037          \n",
       "                 95% CI : (0.9026, 0.9048)\n",
       "    No Information Rate : 0.9863          \n",
       "    P-Value [Acc > NIR] : 1               \n",
       "                                          \n",
       "                  Kappa : 0.1698          \n",
       " Mcnemar's Test P-Value : <2e-16          \n",
       "                                          \n",
       "            Sensitivity : 0.82462         \n",
       "            Specificity : 0.90478         \n",
       "         Pos Pred Value : 0.10731         \n",
       "         Neg Pred Value : 0.99732         \n",
       "             Prevalence : 0.01369         \n",
       "         Detection Rate : 0.01129         \n",
       "   Detection Prevalence : 0.10521         \n",
       "      Balanced Accuracy : 0.86470         \n",
       "                                          \n",
       "       'Positive' Class : 1               \n",
       "                                          "
      ]
     },
     "metadata": {},
     "output_type": "display_data"
    },
    {
     "data": {
      "text/html": [
       "<dl class=dl-horizontal>\n",
       "\t<dt>Sensitivity</dt>\n",
       "\t\t<dd>82.4623803009576</dd>\n",
       "\t<dt>Specificity</dt>\n",
       "\t\t<dd>90.4778904911832</dd>\n",
       "\t<dt>Pos Pred Value</dt>\n",
       "\t\t<dd>10.7313252154098</dd>\n",
       "\t<dt>Neg Pred Value</dt>\n",
       "\t\t<dd>99.7316554472688</dd>\n",
       "\t<dt>Precision</dt>\n",
       "\t\t<dd>10.7313252154098</dd>\n",
       "\t<dt>Recall</dt>\n",
       "\t\t<dd>82.4623803009576</dd>\n",
       "\t<dt>F1</dt>\n",
       "\t\t<dd>18.9912101068019</dd>\n",
       "\t<dt>Prevalence</dt>\n",
       "\t\t<dd>1.36912922632025</dd>\n",
       "\t<dt>Detection Rate</dt>\n",
       "\t\t<dd>1.12901654941976</dd>\n",
       "\t<dt>Detection Prevalence</dt>\n",
       "\t\t<dd>10.5207560739892</dd>\n",
       "\t<dt>Balanced Accuracy</dt>\n",
       "\t\t<dd>86.4701353960704</dd>\n",
       "</dl>\n"
      ],
      "text/latex": [
       "\\begin{description*}\n",
       "\\item[Sensitivity] 82.4623803009576\n",
       "\\item[Specificity] 90.4778904911832\n",
       "\\item[Pos Pred Value] 10.7313252154098\n",
       "\\item[Neg Pred Value] 99.7316554472688\n",
       "\\item[Precision] 10.7313252154098\n",
       "\\item[Recall] 82.4623803009576\n",
       "\\item[F1] 18.9912101068019\n",
       "\\item[Prevalence] 1.36912922632025\n",
       "\\item[Detection Rate] 1.12901654941976\n",
       "\\item[Detection Prevalence] 10.5207560739892\n",
       "\\item[Balanced Accuracy] 86.4701353960704\n",
       "\\end{description*}\n"
      ],
      "text/markdown": [
       "Sensitivity\n",
       ":   82.4623803009576Specificity\n",
       ":   90.4778904911832Pos Pred Value\n",
       ":   10.7313252154098Neg Pred Value\n",
       ":   99.7316554472688Precision\n",
       ":   10.7313252154098Recall\n",
       ":   82.4623803009576F1\n",
       ":   18.9912101068019Prevalence\n",
       ":   1.36912922632025Detection Rate\n",
       ":   1.12901654941976Detection Prevalence\n",
       ":   10.5207560739892Balanced Accuracy\n",
       ":   86.4701353960704\n",
       "\n"
      ],
      "text/plain": [
       "         Sensitivity          Specificity       Pos Pred Value \n",
       "           82.462380            90.477890            10.731325 \n",
       "      Neg Pred Value            Precision               Recall \n",
       "           99.731655            10.731325            82.462380 \n",
       "                  F1           Prevalence       Detection Rate \n",
       "           18.991210             1.369129             1.129017 \n",
       "Detection Prevalence    Balanced Accuracy \n",
       "           10.520756            86.470135 "
      ]
     },
     "metadata": {},
     "output_type": "display_data"
    },
    {
     "name": "stdout",
     "output_type": "stream",
     "text": [
      "[1] \"AUC\"\n"
     ]
    },
    {
     "data": {
      "text/html": [
       "0.892144708753695"
      ],
      "text/latex": [
       "0.892144708753695"
      ],
      "text/markdown": [
       "0.892144708753695"
      ],
      "text/plain": [
       "Area under the curve: 0.8921"
      ]
     },
     "metadata": {},
     "output_type": "display_data"
    },
    {
     "name": "stderr",
     "output_type": "stream",
     "text": [
      "Warning message:\n",
      "“Bad 'data' field in model 'call' (expected a data.frame or a matrix).\n",
      "To silence this warning:\n",
      "    Call rpart.plot with roundint=FALSE,\n",
      "    or rebuild the rpart model with model=TRUE.”"
     ]
    },
    {
     "data": {
      "image/png": "[encoded data removed]",
      "text/plain": [
       "plot without title"
      ]
     },
     "metadata": {},
     "output_type": "display_data"
    }
   ],
   "source": [
    "# Confusion Matrix\n",
    "SMOTE.cart.preds <- predict(SMOTE.cart.fit, newdata=test.data[, -1], type='class')\n",
    "SMOTE.cart.CM <- confusionMatrix(SMOTE.cart.preds, test.data[, 1], positive=\"1\")\n",
    "SMOTE.cart.CM\n",
    "SMOTE.cart.CM$byClass*100\n",
    "\n",
    "# ROC curve\n",
    "SMOTE.cart.oos.probs <- predict(SMOTE.cart.fit, newdata=test.data[, -1])[, 2]\n",
    "SMOTE.cart.roc <- roc(test.data[, 1], SMOTE.cart.oos.probs)\n",
    "print(\"AUC\")\n",
    "SMOTE.cart.roc$auc\n",
    "\n",
    "# Plot tree\n",
    "rpart.plot(SMOTE.cart.fit,\n",
    "           cex=1,\n",
    "           fallen.leaves=T)\n"
   ]
  },
  {
   "cell_type": "markdown",
   "metadata": {},
   "source": [
    "## Random Forest (SMOTE)\n",
    "\n",
    "Now let's train a random forest on the SMOTE sample. Use an ensemble of 200 trees.\n",
    "\n"
   ]
  },
  {
   "cell_type": "code",
   "execution_count": 21,
   "metadata": {
    "scrolled": true
   },
   "outputs": [
    {
     "data": {
      "text/plain": [
       "Time difference of 55.77164 secs"
      ]
     },
     "metadata": {},
     "output_type": "display_data"
    }
   ],
   "source": [
    "t0 <- Sys.time()\n",
    "set.seed(2718)\n",
    "rf.fit <- randomForest(x=X,\n",
    "                       y=y,\n",
    "                       ntree = 200)\n",
    "Sys.time() - t0\n"
   ]
  },
  {
   "cell_type": "code",
   "execution_count": 22,
   "metadata": {},
   "outputs": [
    {
     "data": {
      "text/html": [
       "<strong>png:</strong> 2"
      ],
      "text/latex": [
       "\\textbf{png:} 2"
      ],
      "text/markdown": [
       "**png:** 2"
      ],
      "text/plain": [
       "png \n",
       "  2 "
      ]
     },
     "metadata": {},
     "output_type": "display_data"
    },
    {
     "data": {
      "image/png": "[encoded data removed]",
      "text/plain": [
       "Plot with title “”"
      ]
     },
     "metadata": {},
     "output_type": "display_data"
    }
   ],
   "source": [
    "# Plot variable importance\n",
    "setEPS()\n",
    "postscript(\"RF_varimp_Num_G5.eps\", fonts=c('serif'))\n",
    "varImpPlot(rf.fit, type=2, main=\"\")\n",
    "dev.off()\n",
    "\n",
    "varImpPlot(rf.fit, type=2, main=\"\")"
   ]
  },
  {
   "cell_type": "code",
   "execution_count": 23,
   "metadata": {},
   "outputs": [
    {
     "data": {
      "text/plain": [
       "Confusion Matrix and Statistics\n",
       "\n",
       "          Reference\n",
       "Prediction      0      1\n",
       "         0 243352    616\n",
       "         1  19951   3039\n",
       "                                         \n",
       "               Accuracy : 0.923          \n",
       "                 95% CI : (0.9219, 0.924)\n",
       "    No Information Rate : 0.9863         \n",
       "    P-Value [Acc > NIR] : 1              \n",
       "                                         \n",
       "                  Kappa : 0.2094         \n",
       " Mcnemar's Test P-Value : <2e-16         \n",
       "                                         \n",
       "            Sensitivity : 0.83146        \n",
       "            Specificity : 0.92423        \n",
       "         Pos Pred Value : 0.13219        \n",
       "         Neg Pred Value : 0.99748        \n",
       "             Prevalence : 0.01369        \n",
       "         Detection Rate : 0.01138        \n",
       "   Detection Prevalence : 0.08612        \n",
       "      Balanced Accuracy : 0.87785        \n",
       "                                         \n",
       "       'Positive' Class : 1              \n",
       "                                         "
      ]
     },
     "metadata": {},
     "output_type": "display_data"
    },
    {
     "data": {
      "text/html": [
       "<dl class=dl-horizontal>\n",
       "\t<dt>Sensitivity</dt>\n",
       "\t\t<dd>83.1463748290014</dd>\n",
       "\t<dt>Specificity</dt>\n",
       "\t\t<dd>92.4227980691447</dd>\n",
       "\t<dt>Pos Pred Value</dt>\n",
       "\t\t<dd>13.2187907785994</dd>\n",
       "\t<dt>Neg Pred Value</dt>\n",
       "\t\t<dd>99.7475078698846</dd>\n",
       "\t<dt>Precision</dt>\n",
       "\t\t<dd>13.2187907785994</dd>\n",
       "\t<dt>Recall</dt>\n",
       "\t\t<dd>83.1463748290014</dd>\n",
       "\t<dt>F1</dt>\n",
       "\t\t<dd>22.8110339650966</dd>\n",
       "\t<dt>Prevalence</dt>\n",
       "\t\t<dd>1.36912922632025</dd>\n",
       "\t<dt>Detection Rate</dt>\n",
       "\t\t<dd>1.13838131840964</dd>\n",
       "\t<dt>Detection Prevalence</dt>\n",
       "\t\t<dd>8.61184156309232</dd>\n",
       "\t<dt>Balanced Accuracy</dt>\n",
       "\t\t<dd>87.784586449073</dd>\n",
       "</dl>\n"
      ],
      "text/latex": [
       "\\begin{description*}\n",
       "\\item[Sensitivity] 83.1463748290014\n",
       "\\item[Specificity] 92.4227980691447\n",
       "\\item[Pos Pred Value] 13.2187907785994\n",
       "\\item[Neg Pred Value] 99.7475078698846\n",
       "\\item[Precision] 13.2187907785994\n",
       "\\item[Recall] 83.1463748290014\n",
       "\\item[F1] 22.8110339650966\n",
       "\\item[Prevalence] 1.36912922632025\n",
       "\\item[Detection Rate] 1.13838131840964\n",
       "\\item[Detection Prevalence] 8.61184156309232\n",
       "\\item[Balanced Accuracy] 87.784586449073\n",
       "\\end{description*}\n"
      ],
      "text/markdown": [
       "Sensitivity\n",
       ":   83.1463748290014Specificity\n",
       ":   92.4227980691447Pos Pred Value\n",
       ":   13.2187907785994Neg Pred Value\n",
       ":   99.7475078698846Precision\n",
       ":   13.2187907785994Recall\n",
       ":   83.1463748290014F1\n",
       ":   22.8110339650966Prevalence\n",
       ":   1.36912922632025Detection Rate\n",
       ":   1.13838131840964Detection Prevalence\n",
       ":   8.61184156309232Balanced Accuracy\n",
       ":   87.784586449073\n",
       "\n"
      ],
      "text/plain": [
       "         Sensitivity          Specificity       Pos Pred Value \n",
       "           83.146375            92.422798            13.218791 \n",
       "      Neg Pred Value            Precision               Recall \n",
       "           99.747508            13.218791            83.146375 \n",
       "                  F1           Prevalence       Detection Rate \n",
       "           22.811034             1.369129             1.138381 \n",
       "Detection Prevalence    Balanced Accuracy \n",
       "            8.611842            87.784586 "
      ]
     },
     "metadata": {},
     "output_type": "display_data"
    },
    {
     "name": "stdout",
     "output_type": "stream",
     "text": [
      "[1] \"AUC\"\n"
     ]
    },
    {
     "data": {
      "text/html": [
       "0.954853738983482"
      ],
      "text/latex": [
       "0.954853738983482"
      ],
      "text/markdown": [
       "0.954853738983482"
      ],
      "text/plain": [
       "Area under the curve: 0.9549"
      ]
     },
     "metadata": {},
     "output_type": "display_data"
    },
    {
     "data": {
      "image/png": "[encoded data removed]",
      "text/plain": [
       "Plot with title “rf.fit”"
      ]
     },
     "metadata": {},
     "output_type": "display_data"
    }
   ],
   "source": [
    "# Confusion matrix\n",
    "rf.preds <- predict(rf.fit, newdata=model.matrix(Class ~., test.data), type='class')\n",
    "rf.CM <- confusionMatrix(rf.preds, test.data[, 1], positive=\"1\")\n",
    "rf.CM\n",
    "rf.CM$byClass*100\n",
    "\n",
    "# ROC curve\n",
    "SMOTE.rf.oos.probs <- predict(rf.fit, newdata=model.matrix(Class ~., test.data), type='prob')[, 2]\n",
    "SMOTE.rf.roc <- roc(test.data[, 1], SMOTE.rf.oos.probs)\n",
    "print(\"AUC\")\n",
    "SMOTE.rf.roc$auc\n",
    "\n",
    "# Plot the random forest training curves\n",
    "plot(rf.fit)\n"
   ]
  },
  {
   "cell_type": "markdown",
   "metadata": {},
   "source": [
    "## ROC Curves\n",
    "\n",
    "We've saved the individual ROC curves for each of the 5 classifiers. Let's plot them all together on the one graph. First get all the data together in a data frame for ggplot2."
   ]
  },
  {
   "cell_type": "code",
   "execution_count": 24,
   "metadata": {
    "collapsed": true
   },
   "outputs": [],
   "source": [
    "weight.EN.roc.df <- data.frame(Sens=weight.EN.roc$sensitivities, Spec=weight.EN.roc$specificities, Classifier='Weighted EN')\n",
    "weight.roc.df <- data.frame(Sens=weight.roc$sensitivities, Spec=weight.roc$specificities, Classifier='Weighted Tree')\n",
    "SMOTE.EN.roc.df <- data.frame(Sens=SMOTE.EN.roc$sensitivities, Spec=SMOTE.EN.roc$specificities, Classifier='SMOTE EN')\n",
    "SMOTE.cart.roc.df <- data.frame(Sens=SMOTE.cart.roc$sensitivities, Spec=SMOTE.cart.roc$specificities, Classifier='SMOTE Tree')\n",
    "SMOTE.rf.roc.df <- data.frame(Sens=SMOTE.rf.roc$sensitivities, Spec=SMOTE.rf.roc$specificities, Classifier='SMOTE RF')\n",
    "\n",
    "\n",
    "# For some reason the Elastic Net ROC curves have a huge number of data points.\n",
    "# Down sample them in order to plot the ROC curve\n",
    "ix <- sample(nrow(weight.EN.roc.df), 50, replace = F)\n",
    "weight.EN.roc.df <- weight.EN.roc.df[ix, ]\n",
    "ix <- sample(nrow(SMOTE.EN.roc.df), 50, replace = F)\n",
    "SMOTE.EN.roc.df <- SMOTE.EN.roc.df[ix, ]\n",
    "\n",
    "all.rocs <- rbind(weight.EN.roc.df,\n",
    "                  weight.roc.df,\n",
    "                  SMOTE.EN.roc.df,\n",
    "                  SMOTE.cart.roc.df,\n",
    "                  SMOTE.rf.roc.df)\n",
    "\n"
   ]
  },
  {
   "cell_type": "markdown",
   "metadata": {},
   "source": [
    "Now plot the curves."
   ]
  },
  {
   "cell_type": "code",
   "execution_count": 25,
   "metadata": {},
   "outputs": [
    {
     "data": {},
     "metadata": {},
     "output_type": "display_data"
    },
    {
     "data": {
      "image/png": "[encoded data removed]",
      "text/plain": [
       "plot without title"
      ]
     },
     "metadata": {},
     "output_type": "display_data"
    }
   ],
   "source": [
    "ROC2 <- ggplot(data=all.rocs, aes(x=Spec, y=Sens, color=Classifier)) +  \n",
    "      geom_line(stat='identity', cex=1)+\n",
    "      scale_x_reverse() + \n",
    "      geom_rangeframe(color='black', cex=1) + \n",
    "      theme_tufte() + \n",
    "      xlab('Specificity') + \n",
    "      ylab('Sensitivity') + \n",
    "      geom_segment(aes(x = 1, xend = 0, y = 0, yend =1), linetype='dashed', color='grey', size=0.5)+\n",
    "      theme (axis.text.x = element_text(size=14),\n",
    "         axis.text.y = element_text(size=14),\n",
    "         axis.title = element_text(size=14),\n",
    "         legend.text = element_text(size=14),\n",
    "         legend.position = c(.9, .5))+\n",
    "      geom_point(aes(x=naive.CM$byClass[1], y=naive.CM$byClass[2]), color='black', cex=4)\n",
    "ROC2"
   ]
  },
  {
   "cell_type": "markdown",
   "metadata": {},
   "source": [
    "## Cleaning Up\n",
    "\n",
    "Let's put the relevant outputs into a clean form so that they can be copied into the paper. \n",
    "\n",
    "Start by saving our decision trees and ROC curve to disk in postscript format.\n"
   ]
  },
  {
   "cell_type": "code",
   "execution_count": 26,
   "metadata": {},
   "outputs": [
    {
     "data": {
      "text/html": [
       "<strong>png:</strong> 2"
      ],
      "text/latex": [
       "\\textbf{png:} 2"
      ],
      "text/markdown": [
       "**png:** 2"
      ],
      "text/plain": [
       "png \n",
       "  2 "
      ]
     },
     "metadata": {},
     "output_type": "display_data"
    },
    {
     "name": "stderr",
     "output_type": "stream",
     "text": [
      "Warning message:\n",
      "“Bad 'data' field in model 'call' (expected a data.frame or a matrix).\n",
      "To silence this warning:\n",
      "    Call rpart.plot with roundint=FALSE,\n",
      "    or rebuild the rpart model with model=TRUE.”"
     ]
    },
    {
     "data": {
      "text/html": [
       "<strong>png:</strong> 2"
      ],
      "text/latex": [
       "\\textbf{png:} 2"
      ],
      "text/markdown": [
       "**png:** 2"
      ],
      "text/plain": [
       "png \n",
       "  2 "
      ]
     },
     "metadata": {},
     "output_type": "display_data"
    },
    {
     "data": {},
     "metadata": {},
     "output_type": "display_data"
    },
    {
     "data": {
      "text/html": [
       "<strong>png:</strong> 2"
      ],
      "text/latex": [
       "\\textbf{png:} 2"
      ],
      "text/markdown": [
       "**png:** 2"
      ],
      "text/plain": [
       "png \n",
       "  2 "
      ]
     },
     "metadata": {},
     "output_type": "display_data"
    }
   ],
   "source": [
    "# Weighted tree\n",
    "setEPS()\n",
    "postscript(\"Num_Weighted_Tree.eps\", width=23, height=10, pointsize=12)\n",
    "rpart.plot(weight.cart.fit,\n",
    "           cex=1.5,\n",
    "           fallen.leaves=T)\n",
    "dev.off()\n",
    "\n",
    "# Smote tree\n",
    "setEPS()\n",
    "postscript(\"Num_Smote_Tree.eps\", width=23, height=10, pointsize=12)\n",
    "rpart.plot(SMOTE.cart.fit,\n",
    "           cex=1.5,\n",
    "           fallen.leaves=T)\n",
    "dev.off()\n",
    "\n",
    "setEPS()\n",
    "postscript(\"ROC_Num.eps\", fonts=c('serif'))\n",
    "ROC2\n",
    "dev.off()"
   ]
  },
  {
   "cell_type": "markdown",
   "metadata": {},
   "source": [
    "Make a LaTeX table with our elastic net coefficients."
   ]
  },
  {
   "cell_type": "code",
   "execution_count": 27,
   "metadata": {
    "scrolled": true
   },
   "outputs": [
    {
     "name": "stdout",
     "output_type": "stream",
     "text": [
      "% latex table generated in R 3.4.0 by xtable 1.8-2 package\n",
      "% Thu Aug 30 14:28:42 2018\n",
      "\\begin{table}[ht]\n",
      "\\centering\n",
      "\\begin{tabular}{l|cccc}\n",
      "  \\hline\n",
      "Variable & Weighted & SMOTE & Weighted & SMOTE \\\\ \n",
      "  \\hline\n",
      "(Intercept) & 1.44 & -2.45 & 2.56 & -2.68 \\\\ \n",
      "  priv1 & -0.15 & 0.06 & -0.14 & 0.15 \\\\ \n",
      "  grade7 & 5.32 & 4.60 & 5.99 & 5.14 \\\\ \n",
      "  grade9 & 6.55 & 4.96 & 7.58 & 5.61 \\\\ \n",
      "  age & 0.88 & 1.22 & 0.83 & 1.23 \\\\ \n",
      "  indig1 & 0.17 & 1.41 & 0.26 & 1.51 \\\\ \n",
      "  mumschool2 & 0.00 & -0.03 & 0.02 & 0.00 \\\\ \n",
      "  mumschool3 & -0.01 & 0.00 & 0.00 & -0.02 \\\\ \n",
      "  mumschool4 & -0.15 & -0.25 & -0.08 & -0.24 \\\\ \n",
      "  mumhighed6 & 0.06 & 0.00 & 0.00 & -0.01 \\\\ \n",
      "  mumhighed7 & -0.15 & -0.12 & -0.16 & 0.00 \\\\ \n",
      "  mumhighed8 & 0.00 & 0.00 & 0.04 & 0.03 \\\\ \n",
      "  mumoccup2 & 0.00 & 0.00 & 0.00 & 0.00 \\\\ \n",
      "  mumoccup3 & -0.04 & -0.09 & -0.03 & -0.14 \\\\ \n",
      "  mumoccup4 & 0.00 & 0.00 & 0.00 & -0.02 \\\\ \n",
      "  mumoccup8 & 0.02 & 0.02 & 0.06 & 0.04 \\\\ \n",
      "  dadschool2 & 0.00 & -0.07 & 0.01 & -0.10 \\\\ \n",
      "  dadschool3 & 0.00 & -0.02 & -0.16 & -0.19 \\\\ \n",
      "  dadschool4 & -0.14 & -0.26 & -0.12 & -0.26 \\\\ \n",
      "  dadhighed6 & -0.18 & 0.01 & -0.02 & 0.09 \\\\ \n",
      "  dadhighed7 & -0.27 & -0.03 & -0.22 & -0.17 \\\\ \n",
      "  dadhighed8 & 0.00 & 0.08 & 0.06 & 0.08 \\\\ \n",
      "  dadoccup2 & -0.02 & -0.04 & -0.11 & -0.17 \\\\ \n",
      "  dadoccup3 & 0.00 & 0.00 & 0.00 & 0.00 \\\\ \n",
      "  dadoccup4 & 0.04 & 0.04 & 0.03 & 0.04 \\\\ \n",
      "  dadoccup8 & 0.09 & 0.23 & 0.09 & 0.36 \\\\ \n",
      "  sameschool1 & -0.27 & -0.27 & -0.33 & -0.30 \\\\ \n",
      "  readprev & -0.02 & -0.02 & -0.01 & -0.01 \\\\ \n",
      "  mathprev & -0.01 & -0.01 & -0.03 & -0.03 \\\\ \n",
      "  girl1 & -0.51 & -0.17 & 0.22 & 0.13 \\\\ \n",
      "  met1 & 0.00 & -0.35 & 0.00 & -0.42 \\\\ \n",
      "  provincial1 & 0.05 & 0.24 & -0.01 & 0.20 \\\\ \n",
      "  remote1 & 0.00 & 0.92 & 0.19 & 0.89 \\\\ \n",
      "  lbote1 & -0.12 & 0.48 & -0.01 & 0.54 \\\\ \n",
      "  SA1 & 0.00 & -0.09 & -0.28 & -0.25 \\\\ \n",
      "  NSW1 & -0.01 & -0.01 & 0.00 & -0.00 \\\\ \n",
      "  TAS1 & 0.00 & -0.14 & -0.08 & 0.00 \\\\ \n",
      "  VIC1 & 0.00 & -0.18 & -0.01 & -0.11 \\\\ \n",
      "  QLD1 & 0.36 & 0.40 & 0.20 & 0.37 \\\\ \n",
      "  WA1 & 0.03 & 0.09 & 0.01 & 0.24 \\\\ \n",
      "  ACT1 & 0.26 & 0.00 & 0.00 & -0.10 \\\\ \n",
      "  nstudent & 0.00 & 0.00 & 0.00 & 0.00 \\\\ \n",
      "  meanreadscore & -0.01 & -0.01 & 0.00 & 0.01 \\\\ \n",
      "  meanmathscore & 0.00 & 0.00 & -0.01 & -0.01 \\\\ \n",
      "   \\hline\n",
      "\\end{tabular}\n",
      "\\caption{Estimated coefficients for elastic net classifiers.} \n",
      "\\label{tab:CoefsEN}\n",
      "\\end{table}\n",
      "% latex table generated in R 3.4.0 by xtable 1.8-2 package\n",
      "% Thu Aug 30 14:28:42 2018\n",
      "\\begin{table}[ht]\n",
      "\\centering\n",
      "\\begin{tabular}{l|cccc}\n",
      "  \\hline\n",
      "Variable & Weighted & SMOTE & Weighted & SMOTE \\\\ \n",
      "  \\hline\n",
      "(Intercept) & 1.44 & -2.45 & 2.56 & -2.68 \\\\ \n",
      "  priv1 & -0.15 & 0.06 & -0.14 & 0.15 \\\\ \n",
      "  grade7 & 5.32 & 4.60 & 5.99 & 5.14 \\\\ \n",
      "  grade9 & 6.55 & 4.96 & 7.58 & 5.61 \\\\ \n",
      "  age & 0.88 & 1.22 & 0.83 & 1.23 \\\\ \n",
      "  indig1 & 0.17 & 1.41 & 0.26 & 1.51 \\\\ \n",
      "  mumschool2 & 0.00 & -0.03 & 0.02 & 0.00 \\\\ \n",
      "  mumschool3 & -0.01 & 0.00 & 0.00 & -0.02 \\\\ \n",
      "  mumschool4 & -0.15 & -0.25 & -0.08 & -0.24 \\\\ \n",
      "  mumhighed6 & 0.06 & 0.00 & 0.00 & -0.01 \\\\ \n",
      "  mumhighed7 & -0.15 & -0.12 & -0.16 & 0.00 \\\\ \n",
      "  mumhighed8 & 0.00 & 0.00 & 0.04 & 0.03 \\\\ \n",
      "  mumoccup2 & 0.00 & 0.00 & 0.00 & 0.00 \\\\ \n",
      "  mumoccup3 & -0.04 & -0.09 & -0.03 & -0.14 \\\\ \n",
      "  mumoccup4 & 0.00 & 0.00 & 0.00 & -0.02 \\\\ \n",
      "  mumoccup8 & 0.02 & 0.02 & 0.06 & 0.04 \\\\ \n",
      "  dadschool2 & 0.00 & -0.07 & 0.01 & -0.10 \\\\ \n",
      "  dadschool3 & 0.00 & -0.02 & -0.16 & -0.19 \\\\ \n",
      "  dadschool4 & -0.14 & -0.26 & -0.12 & -0.26 \\\\ \n",
      "  dadhighed6 & -0.18 & 0.01 & -0.02 & 0.09 \\\\ \n",
      "  dadhighed7 & -0.27 & -0.03 & -0.22 & -0.17 \\\\ \n",
      "  dadhighed8 & 0.00 & 0.08 & 0.06 & 0.08 \\\\ \n",
      "  dadoccup2 & -0.02 & -0.04 & -0.11 & -0.17 \\\\ \n",
      "  dadoccup3 & 0.00 & 0.00 & 0.00 & 0.00 \\\\ \n",
      "  dadoccup4 & 0.04 & 0.04 & 0.03 & 0.04 \\\\ \n",
      "  dadoccup8 & 0.09 & 0.23 & 0.09 & 0.36 \\\\ \n",
      "  sameschool1 & -0.27 & -0.27 & -0.33 & -0.30 \\\\ \n",
      "  readprev & -0.02 & -0.02 & -0.01 & -0.01 \\\\ \n",
      "  mathprev & -0.01 & -0.01 & -0.03 & -0.03 \\\\ \n",
      "  girl1 & -0.51 & -0.17 & 0.22 & 0.13 \\\\ \n",
      "  met1 & 0.00 & -0.35 & 0.00 & -0.42 \\\\ \n",
      "  provincial1 & 0.05 & 0.24 & -0.01 & 0.20 \\\\ \n",
      "  remote1 & 0.00 & 0.92 & 0.19 & 0.89 \\\\ \n",
      "  lbote1 & -0.12 & 0.48 & -0.01 & 0.54 \\\\ \n",
      "  SA1 & 0.00 & -0.09 & -0.28 & -0.25 \\\\ \n",
      "  NSW1 & -0.01 & -0.01 & 0.00 & -0.00 \\\\ \n",
      "  TAS1 & 0.00 & -0.14 & -0.08 & 0.00 \\\\ \n",
      "  VIC1 & 0.00 & -0.18 & -0.01 & -0.11 \\\\ \n",
      "  QLD1 & 0.36 & 0.40 & 0.20 & 0.37 \\\\ \n",
      "  WA1 & 0.03 & 0.09 & 0.01 & 0.24 \\\\ \n",
      "  ACT1 & 0.26 & 0.00 & 0.00 & -0.10 \\\\ \n",
      "  nstudent & 0.00 & 0.00 & 0.00 & 0.00 \\\\ \n",
      "  meanreadscore & -0.01 & -0.01 & 0.00 & 0.01 \\\\ \n",
      "  meanmathscore & 0.00 & 0.00 & -0.01 & -0.01 \\\\ \n",
      "   \\hline\n",
      "\\end{tabular}\n",
      "\\caption{Estimated coefficients for elastic net classifiers.} \n",
      "\\label{tab:CoefsEN}\n",
      "\\end{table}\n"
     ]
    }
   ],
   "source": [
    "library(xtable) # LaTeX tables\n",
    "\n",
    "# Weighted EN\n",
    "Cw <- coef(weight.EN.fit)\n",
    "\n",
    "# Round the coefficients to 2SF.\n",
    "Cw <- round(Cw[, 1], 2)\n",
    "\n",
    "# SMOTE EN\n",
    "Cs <- coef(SMOTE.EN.fit)\n",
    "Cs <- round(Cs[, 1], 2)\n",
    "\n",
    "temp <- data.frame(Weighted=Cw, SMOTE=Cs)\n",
    "\n",
    "# Note that there are two instances of 'intercept'. \n",
    "# Remove the second.\n",
    "temp <- temp[-2, ]\n",
    "\n",
    "# Now load the coefficients for literacy (EN)\n",
    "load('ElasticNetCoefs.Rda')\n",
    "\n",
    "# Bind them together\n",
    "EN <- cbind(EN, temp)\n",
    "\n",
    "tab1 <- xtable(EN,\n",
    "              align='ll|cccc',\n",
    "              caption='Estimated coefficients for elastic net classifiers.',\n",
    "              label='tab:CoefsEN')\n",
    "\n",
    "# Export to .tex file\n",
    "print(tab1, include.rownames=F)\n",
    "write.table(print(tab1, include.rownames=F), 'CoefsEN.tex')\n",
    "\n"
   ]
  },
  {
   "cell_type": "markdown",
   "metadata": {},
   "source": [
    "Finally, save the workspace, and we're all done."
   ]
  },
  {
   "cell_type": "code",
   "execution_count": 28,
   "metadata": {},
   "outputs": [
    {
     "name": "stdout",
     "output_type": "stream",
     "text": [
      "[1] \"Finished.\"\n"
     ]
    },
    {
     "data": {
      "text/plain": [
       "Time difference of 11.95759 mins"
      ]
     },
     "metadata": {},
     "output_type": "display_data"
    }
   ],
   "source": [
    "save.image('numeracy_workspace.RData')\n",
    "print('Finished.') \n",
    "Sys.time() - start.time"
   ]
  }
 ],
 "metadata": {
  "kernelspec": {
   "display_name": "R 3.4.0",
   "language": "R",
   "name": "ir-3.4.0"
  },
  "language_info": {
   "codemirror_mode": "r",
   "file_extension": ".r",
   "mimetype": "text/x-r-source",
   "name": "R",
   "pygments_lexer": "r",
   "version": "3.4.0"
  },
  "latex_envs": {
   "LaTeX_envs_menu_present": true,
   "autoclose": false,
   "autocomplete": true,
   "bibliofile": "biblio.bib",
   "cite_by": "apalike",
   "current_citInitial": 1,
   "eqLabelWithNumbers": true,
   "eqNumInitial": 1,
   "hotkeys": {
    "equation": "Ctrl-E",
    "itemize": "Ctrl-I"
   },
   "labels_anchors": false,
   "latex_user_defs": false,
   "report_style_numbering": false,
   "user_envs_cfg": false
  }
 },
 "nbformat": 4,
 "nbformat_minor": 2
}
