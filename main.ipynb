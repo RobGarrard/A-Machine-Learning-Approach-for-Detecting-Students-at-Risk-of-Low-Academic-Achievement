{
 "cells": [
  {
   "cell_type": "markdown",
   "metadata": {},
   "source": [
    "## Machine Learning Classifiers Do Not Improve the Prediction of Academic Risk: Evidence from Australia\n",
    "\n",
    "Sarah Cornell-Farrow and Robert Garrard (2019)\n",
    "\n",
    "\n",
    "This R notebook contains codes for replicating the results in our paper. For instructions on how to obtain a copy of the raw data used in this study, as well as the R code used to clean the data set for use in this notebook, please consult the README file.\n",
    "\n",
    "\n",
    "This notebook was run on a computer with 12 cores and a gpu. We train our neural nets with Keras using a tensorflow-gpu backend.\n",
    "\n"
   ]
  },
  {
   "cell_type": "markdown",
   "metadata": {},
   "source": [
    "# Sections\n",
    "\n",
    "[Load and Preproccess Data](#sec:preprocessing)\n",
    "\n",
    "[Sample Splitting](#sec:samplesplitting)\n",
    "\n",
    "\n",
    "[Logistic Regression](#sec:logistic)\n",
    " \n",
    "  * [Grade 3](#subsec:logisticGrade3)\n",
    "  * [Grade 5+](#subsec:logisticGrade5plus)\n",
    "\n",
    "[Elastic Net](#sec:elasticnet)\n",
    "\n",
    "  * [Grade 3](#subsec:ENgrade3)\n",
    "  * [Grade 5+](#subsec:ENgrade5plus)\n",
    "\n",
    "[Decision Trees](#sec:decisiontrees)\n",
    "\n",
    "  * [Grade 3](#subsec:DTgrade3)\n",
    "  * [Grade 5+](#subsec:DTgrade5plus)\n",
    "  \n",
    "[Random Forest](#sec:randomforest)\n",
    "  * [Grade3](#subsec:randomforest_grade3)\n",
    "  * [Grade 5+](#subsec:randomforest_grade5plus)\n",
    "\n",
    "[Neural Net](#sec:neural_net)\n",
    "  * [Grade3](#subsec:randomforest_grade3)\n",
    "  * [Grade 5+](#subsec:randomforest_grade5plus)\n",
    "\n",
    "\n",
    "[ROC Curves](#sec:roc_weight)\n",
    " |\n",
    "   "
   ]
  },
  {
   "cell_type": "markdown",
   "metadata": {},
   "source": [
    " "
   ]
  },
  {
   "cell_type": "code",
   "execution_count": 1,
   "metadata": {},
   "outputs": [
    {
     "name": "stderr",
     "output_type": "stream",
     "text": [
      "Loading required package: lattice\n",
      "Loading required package: grid\n",
      "Type 'citation(\"pROC\")' for a citation.\n",
      "\n",
      "Attaching package: ‘pROC’\n",
      "\n",
      "The following objects are masked from ‘package:stats’:\n",
      "\n",
      "    cov, smooth, var\n",
      "\n",
      "Loading required package: Matrix\n",
      "Loading required package: foreach\n",
      "Loaded glmnet 2.0-16\n",
      "\n",
      "\n",
      "Attaching package: ‘glmnet’\n",
      "\n",
      "The following object is masked from ‘package:pROC’:\n",
      "\n",
      "    auc\n",
      "\n",
      "Loading required package: iterators\n",
      "Loading required package: parallel\n",
      "\n",
      "Attaching package: ‘cowplot’\n",
      "\n",
      "The following object is masked from ‘package:ggthemes’:\n",
      "\n",
      "    theme_map\n",
      "\n",
      "The following object is masked from ‘package:ggplot2’:\n",
      "\n",
      "    ggsave\n",
      "\n"
     ]
    }
   ],
   "source": [
    "# Libraries\n",
    "library(ggplot2)      # Plotting\n",
    "library(ggthemes)     # Themes for ggplot2\n",
    "library(caret)        # Create training/test sets\n",
    "library(rpart)        # Recursive partitioning decision tree classifier\n",
    "library(rpart.plot)   # Plot the tree\n",
    "library(DMwR)         # Constructing SMOTE sample\n",
    "library(pROC)         # Bulding ROC curves\n",
    "library(glmnet)       # Elastic net classifier\n",
    "library(doMC)         # Run elastic net in parallel\n",
    "library(e1071)        # Confusion matrices\n",
    "library(RColorBrewer) # Color palette\n",
    "library(ranger)       # Random Forest \n",
    "library(cowplot)      # 4x4 plots\n",
    "library(keras)        # Neural net\n",
    "\n",
    "\n",
    "\n",
    "start.time <- Sys.time()\n",
    "set.seed(2718)"
   ]
  },
  {
   "cell_type": "markdown",
   "metadata": {},
   "source": [
    "Elastic net can do cross-validation in parallel, so let's see how many cores we've got."
   ]
  },
  {
   "cell_type": "code",
   "execution_count": 2,
   "metadata": {},
   "outputs": [
    {
     "name": "stdout",
     "output_type": "stream",
     "text": [
      "[1] \"Using 11 cores.\"\n"
     ]
    }
   ],
   "source": [
    "# Parallel backend\n",
    "registerDoMC(detectCores() - 1)\n",
    "print(paste(\"Using\", getDoParWorkers(), \"cores.\"))\n"
   ]
  },
  {
   "cell_type": "markdown",
   "metadata": {},
   "source": [
    "<a id='sec:preprocessing'></a>\n",
    "## Load and Preprocess Data\n",
    "\n",
    "Import the data set.\n",
    "\n",
    "The raw data gets cleaned up by the script <i>clean_data.R</i>. That script outputs two clean data sets, one for regression and one for classification: <i>NAPLAN_data_reg.Rda</i>, in which the dependent variables are the raw NAPLAN scores; and <i>NAPLAN_data_clas.Rda</i>, in which the raw scores have been thresholded into 'At Standard' and 'Below Standard'. We want the classification one."
   ]
  },
  {
   "cell_type": "code",
   "execution_count": 3,
   "metadata": {},
   "outputs": [
    {
     "data": {
      "text/plain": [
       "           readrisk                 numrisk        grade      private    \n",
       " At Standard   :1874321   At Standard   :1849378   3:577865   0:1434717  \n",
       " Below Standard: 364733   Below Standard: 389676   5:558406   1: 804337  \n",
       "                                                   7:537806              \n",
       "                                                   9:564977              \n",
       "                                                                         \n",
       "                                                                         \n",
       "                                                                         \n",
       "      age        female      indigenous   LBOTE             state       \n",
       " Min.   : 7.00   0:1149664   0:2123079   0   :1679593   NSW    :716594  \n",
       " 1st Qu.: 9.30   1:1089390   1: 115975   1   : 485032   VIC    :543907  \n",
       " Median :11.30                           NA's:  74429   QLD    :462894  \n",
       " Mean   :11.53                                          WA     :244938  \n",
       " 3rd Qu.:13.60                                          SA     :155798  \n",
       " Max.   :17.50                                          TAS    : 50506  \n",
       "                                                        (Other): 64417  \n",
       " sameschool    mumschool      mumhighed     mumoccup      dadschool    \n",
       " 0   :588982   1   : 112241   5   :489468   1   :311855   1   :107872  \n",
       " 1   :931351   2   : 383876   6   :292681   2   :343684   2   :393104  \n",
       " NA's:718721   3   : 233788   7   :544018   3   :407224   3   :197593  \n",
       "               4   :1228563   8   :470328   4   :282039   4   :995746  \n",
       "               NA's: 280586   NA's:442559   8   :498120   NA's:544739  \n",
       "                                            NA's:396132                \n",
       "                                                                       \n",
       " dadhighed     dadoccup              prevreadrisk             prevnumrisk     \n",
       " 5   :563428   1   :372112   At Standard   :1413155   At Standard   :1416730  \n",
       " 6   :213302   2   :415692   Below Standard: 248034   Below Standard: 244459  \n",
       " 7   :463983   3   :415483   NA's          : 577865   NA's          : 577865  \n",
       " 8   :332712   4   :333550                                                    \n",
       " NA's:665629   8   :111807                                                    \n",
       "               NA's:590410                                                    \n",
       "                                                                              "
      ]
     },
     "metadata": {},
     "output_type": "display_data"
    }
   ],
   "source": [
    "load('NAPLAN_data_clas.Rda')\n",
    "\n",
    "summary(data)"
   ]
  },
  {
   "cell_type": "markdown",
   "metadata": {},
   "source": [
    "Now let's take a look at how many students are performing below standard."
   ]
  },
  {
   "cell_type": "code",
   "execution_count": 4,
   "metadata": {},
   "outputs": [
    {
     "name": "stdout",
     "output_type": "stream",
     "text": [
      "[1] \"Performance on reading:\"\n",
      "[1] \"total\"\n"
     ]
    },
    {
     "data": {
      "text/plain": [
       "\n",
       "   At Standard Below Standard \n",
       "       1874321         364733 "
      ]
     },
     "metadata": {},
     "output_type": "display_data"
    },
    {
     "name": "stdout",
     "output_type": "stream",
     "text": [
      "[1] \"pertcent\"\n"
     ]
    },
    {
     "data": {
      "text/plain": [
       "\n",
       "   At Standard Below Standard \n",
       "       83.7104        16.2896 "
      ]
     },
     "metadata": {},
     "output_type": "display_data"
    },
    {
     "name": "stdout",
     "output_type": "stream",
     "text": [
      "[1] \"Performancy on math:\"\n",
      "[1] \"total\"\n"
     ]
    },
    {
     "data": {
      "text/plain": [
       "\n",
       "   At Standard Below Standard \n",
       "       1849378         389676 "
      ]
     },
     "metadata": {},
     "output_type": "display_data"
    },
    {
     "name": "stdout",
     "output_type": "stream",
     "text": [
      "[1] \"percent\"\n"
     ]
    },
    {
     "data": {
      "text/plain": [
       "\n",
       "   At Standard Below Standard \n",
       "       82.5964        17.4036 "
      ]
     },
     "metadata": {},
     "output_type": "display_data"
    },
    {
     "name": "stdout",
     "output_type": "stream",
     "text": [
      "[1] \"Transitions between performance states:\"\n",
      "[1] \"Reading\"\n"
     ]
    },
    {
     "data": {
      "text/plain": [
       "                \n",
       "                 At Standard Below Standard\n",
       "  At Standard      76.128363       6.558977\n",
       "  Below Standard    8.940524       8.372136"
      ]
     },
     "metadata": {},
     "output_type": "display_data"
    },
    {
     "name": "stdout",
     "output_type": "stream",
     "text": [
      "[1] \"Math\"\n"
     ]
    },
    {
     "data": {
      "text/plain": [
       "                \n",
       "                 At Standard Below Standard\n",
       "  At Standard      75.208841       5.779475\n",
       "  Below Standard   10.075253       8.936430"
      ]
     },
     "metadata": {},
     "output_type": "display_data"
    }
   ],
   "source": [
    "print(\"Performance on reading:\")\n",
    "print(\"total\")\n",
    "table(data$readrisk)\n",
    "print(\"pertcent\")\n",
    "prop.table(table(data$readrisk))*100\n",
    "\n",
    "print(\"Performancy on math:\")\n",
    "print(\"total\")\n",
    "table(data$numrisk)\n",
    "print(\"percent\")\n",
    "prop.table(table(data$numrisk))*100\n",
    "\n",
    "print(\"Transitions between performance states:\")\n",
    "print(\"Reading\")\n",
    "prop.table(table(data$readrisk, data$prevreadrisk))*100\n",
    "\n",
    "print(\"Math\")\n",
    "prop.table(table(data$numrisk, data$prevnumrisk))*100\n"
   ]
  },
  {
   "cell_type": "markdown",
   "metadata": {},
   "source": [
    "The variables <i>prevreadrisk</i> and <i>prevnumrisk</i> are only available for students in grade 5 and above, since grade 3 is the first time NAPLAN is sat. Since we want to exploit this predictor, split the data set into students in grade 3 and students in grades 5+"
   ]
  },
  {
   "cell_type": "code",
   "execution_count": 5,
   "metadata": {},
   "outputs": [],
   "source": [
    "ix <- which(data$grade==3)         # In grade 3\n",
    "iy <- setdiff(1:dim(data)[1], ix)  # In grade 5+\n",
    "\n",
    "data.grade3 <- data[ix, ]\n",
    "data.grade5plus <- data[iy, ]"
   ]
  },
  {
   "cell_type": "markdown",
   "metadata": {},
   "source": [
    "For grade 3 data, the variables <i>grade</i>, <i>sameschool</i>, <i>prevreadrisk</i>, and <i>prevnumrisk</i> contain no variation, so we remove them. Further, remove observations which contain missing data (NAs). \n"
   ]
  },
  {
   "cell_type": "code",
   "execution_count": 6,
   "metadata": {},
   "outputs": [
    {
     "data": {
      "text/plain": [
       "           readrisk                numrisk       private         age        \n",
       " At Standard   :311807   At Standard   :313618   0:220407   Min.   : 7.000  \n",
       " Below Standard: 34010   Below Standard: 32199   1:125410   1st Qu.: 8.300  \n",
       "                                                            Median : 8.600  \n",
       "                                                            Mean   : 8.592  \n",
       "                                                            3rd Qu.: 8.800  \n",
       "                                                            Max.   :10.600  \n",
       "                                                                            \n",
       " female     indigenous LBOTE          state        mumschool  mumhighed \n",
       " 0:177366   0:337160   0:266217   NSW    :110167   1: 11977   5: 83849  \n",
       " 1:168451   1:  8657   1: 79600   VIC    :107934   2: 45362   6: 54637  \n",
       "                                  QLD    : 67870   3: 31140   7:129956  \n",
       "                                  WA     : 23640   4:257338   8: 77375  \n",
       "                                  SA     : 19969                        \n",
       "                                  TAS    :  7569                        \n",
       "                                  (Other):  8668                        \n",
       " mumoccup  dadschool  dadhighed  dadoccup \n",
       " 1:70760   1: 16690   5:119172   1:87486  \n",
       " 2:66951   2: 66586   6: 45362   2:88883  \n",
       " 3:69265   3: 36413   7:111949   3:85327  \n",
       " 4:40165   4:226128   8: 69334   4:62415  \n",
       " 8:98676                         8:21706  \n",
       "                                          \n",
       "                                          "
      ]
     },
     "metadata": {},
     "output_type": "display_data"
    },
    {
     "name": "stdout",
     "output_type": "stream",
     "text": [
      "[1] \"Data dimension\"\n"
     ]
    },
    {
     "data": {
      "text/html": [
       "<ol class=list-inline>\n",
       "\t<li>345817</li>\n",
       "\t<li>14</li>\n",
       "</ol>\n"
      ],
      "text/latex": [
       "\\begin{enumerate*}\n",
       "\\item 345817\n",
       "\\item 14\n",
       "\\end{enumerate*}\n"
      ],
      "text/markdown": [
       "1. 345817\n",
       "2. 14\n",
       "\n",
       "\n"
      ],
      "text/plain": [
       "[1] 345817     14"
      ]
     },
     "metadata": {},
     "output_type": "display_data"
    }
   ],
   "source": [
    "data.grade3 <- data.grade3[, -c(3, 10, 17, 18)]\n",
    "data.grade3 <- data.grade3[complete.cases(data.grade3), ]\n",
    "summary(data.grade3)\n",
    "print(\"Data dimension\")\n",
    "dim(data.grade3)"
   ]
  },
  {
   "cell_type": "markdown",
   "metadata": {},
   "source": [
    "For grades 5+, there are no longer any grade 3 observations for the <i>grade</i> variable. So drop that level. Also retain only complete cases."
   ]
  },
  {
   "cell_type": "code",
   "execution_count": 7,
   "metadata": {},
   "outputs": [
    {
     "data": {
      "text/plain": [
       "           readrisk                numrisk       grade      private   \n",
       " At Standard   :769606   At Standard   :758296   5:306954   0:481689  \n",
       " Below Standard:116786   Below Standard:128096   7:291292   1:404703  \n",
       "                                                 9:288146             \n",
       "                                                                      \n",
       "                                                                      \n",
       "                                                                      \n",
       "                                                                      \n",
       "      age        female     indigenous LBOTE          state        sameschool\n",
       " Min.   : 9.00   0:454850   0:865842   0:695474   NSW    :286765   0:318878  \n",
       " 1st Qu.:10.80   1:431542   1: 20550   1:190918   VIC    :277539   1:567514  \n",
       " Median :12.50                                    QLD    :170811             \n",
       " Mean   :12.52                                    WA     : 75128             \n",
       " 3rd Qu.:14.20                                    SA     : 39575             \n",
       " Max.   :17.50                                    TAS    : 22358             \n",
       "                                                  (Other): 14216             \n",
       " mumschool  mumhighed  mumoccup   dadschool  dadhighed  dadoccup  \n",
       " 1: 38476   5:227132   1:171416   1: 52171   5:310338   1:212400  \n",
       " 2:154042   6:147517   2:182487   2:201600   6:120628   2:232321  \n",
       " 3: 99762   7:282308   3:205728   3:104672   7:258553   3:221843  \n",
       " 4:594112   8:229435   4:128192   4:527949   8:196873   4:164904  \n",
       "                       8:198569                         8: 54924  \n",
       "                                                                  \n",
       "                                                                  \n",
       "         prevreadrisk            prevnumrisk    \n",
       " At Standard   :774871   At Standard   :777761  \n",
       " Below Standard:111521   Below Standard:108631  \n",
       "                                                \n",
       "                                                \n",
       "                                                \n",
       "                                                \n",
       "                                                "
      ]
     },
     "metadata": {},
     "output_type": "display_data"
    },
    {
     "name": "stdout",
     "output_type": "stream",
     "text": [
      "[1] \"Data dimension\"\n"
     ]
    },
    {
     "data": {
      "text/html": [
       "<ol class=list-inline>\n",
       "\t<li>886392</li>\n",
       "\t<li>18</li>\n",
       "</ol>\n"
      ],
      "text/latex": [
       "\\begin{enumerate*}\n",
       "\\item 886392\n",
       "\\item 18\n",
       "\\end{enumerate*}\n"
      ],
      "text/markdown": [
       "1. 886392\n",
       "2. 18\n",
       "\n",
       "\n"
      ],
      "text/plain": [
       "[1] 886392     18"
      ]
     },
     "metadata": {},
     "output_type": "display_data"
    }
   ],
   "source": [
    "data.grade5plus <- data.grade5plus[complete.cases(data.grade5plus), ]\n",
    "data.grade5plus$grade <- factor(data.grade5plus$grade)\n",
    "summary(data.grade5plus)\n",
    "print(\"Data dimension\")\n",
    "dim(data.grade5plus)"
   ]
  },
  {
   "cell_type": "markdown",
   "metadata": {},
   "source": [
    "So far we have readrisk and numrisk together at the front of the data set. We want to predict these separately, so create subsets."
   ]
  },
  {
   "cell_type": "code",
   "execution_count": 8,
   "metadata": {},
   "outputs": [],
   "source": [
    "data.grade3.read <- data.grade3[, -2]\n",
    "data.grade3.num <- data.grade3[, -1]\n",
    "\n",
    "data.grade5plus.read <- data.grade5plus[, -2]\n",
    "data.grade5plus.num <- data.grade5plus[, -1]"
   ]
  },
  {
   "cell_type": "markdown",
   "metadata": {},
   "source": [
    "<a id='sec:samplesplitting'></a>\n",
    "## Sample Splitting\n",
    "\n",
    "2/3-1/3 split for each data set into training and test sets. \n",
    "\n",
    "Automatically the sampling will be stratified such that the training and test sets will have approximately the same class frequencies in the dependent variable; so there's no worry that the training/test set will be composed entirely of At Standard observations."
   ]
  },
  {
   "cell_type": "code",
   "execution_count": 9,
   "metadata": {},
   "outputs": [
    {
     "name": "stdout",
     "output_type": "stream",
     "text": [
      "[1] \"Sample sizes:\"\n",
      "[1] \"Grade 3 read\"\n",
      "[1] 230546     13\n",
      "[1] \"Grade 5+ read\"\n",
      "[1] 590929     17\n",
      "[1] \"Test set sizes\"\n",
      "[1] \"Grade 3\"\n",
      "[1] 115271     13\n",
      "[1] \"Grade 5+\"\n",
      "[1] 295463     17\n"
     ]
    }
   ],
   "source": [
    "# Grade 3\n",
    "\n",
    "# Reading\n",
    "inTrain.grade3.read <- createDataPartition(y=data.grade3.read$readrisk, p=2/3, list=FALSE)\n",
    "train.grade3.read <- data.grade3.read[inTrain.grade3.read, ]\n",
    "test.grade3.read <- data.grade3.read[-inTrain.grade3.read, ]\n",
    "\n",
    "# Numeracy\n",
    "inTrain.grade3.num <- createDataPartition(y=data.grade3.num$numrisk, p=2/3, list=FALSE)\n",
    "train.grade3.num <- data.grade3.num[inTrain.grade3.num, ]\n",
    "test.grade3.num <- data.grade3.num[-inTrain.grade3.num, ]\n",
    "\n",
    "# Grades 5+\n",
    "\n",
    "# Reading\n",
    "inTrain.grade5plus.read <- createDataPartition(y=data.grade5plus.read$readrisk, p=2/3, list=FALSE)\n",
    "train.grade5plus.read <- data.grade5plus.read[inTrain.grade5plus.read, ]\n",
    "test.grade5plus.read <- data.grade5plus.read[-inTrain.grade5plus.read, ]\n",
    "\n",
    "# Numeracy\n",
    "inTrain.grade5plus.num <- createDataPartition(y=data.grade5plus.num$numrisk, p=2/3, list=FALSE)\n",
    "train.grade5plus.num <- data.grade5plus.num[inTrain.grade5plus.num, ]\n",
    "test.grade5plus.num <- data.grade5plus.num[-inTrain.grade5plus.num, ]\n",
    "\n",
    "print(\"Sample sizes:\")\n",
    "print(\"Grade 3 read\")\n",
    "print(dim(train.grade3.read))\n",
    "\n",
    "print(\"Grade 5+ read\")\n",
    "print(dim(train.grade5plus.read))\n",
    "\n",
    "print(\"Test set sizes\")\n",
    "print(\"Grade 3\")\n",
    "print(dim(test.grade3.read))\n",
    "print(\"Grade 5+\")\n",
    "print(dim(test.grade5plus.read))"
   ]
  },
  {
   "cell_type": "markdown",
   "metadata": {},
   "source": [
    "Age is the only numeric variable. Standardize it in each set so that it has mean zero and variance one."
   ]
  },
  {
   "cell_type": "code",
   "execution_count": 10,
   "metadata": {},
   "outputs": [],
   "source": [
    "train.grade3.read$age <- scale(train.grade3.read$age)\n",
    "train.grade3.num$age <- scale(train.grade3.num$age)\n",
    "test.grade3.read$age <- scale(test.grade3.read$age)\n",
    "test.grade3.num$age <- scale(test.grade3.num$age)\n",
    "\n",
    "train.grade5plus.read$age <- scale(train.grade5plus.read$age)\n",
    "train.grade5plus.num$age <- scale(train.grade5plus.num$age)\n",
    "test.grade5plus.read$age <- scale(test.grade5plus.read$age)\n",
    "test.grade5plus.num$age <- scale(test.grade5plus.num$age)\n",
    "\n",
    "# There's definitely an easier way to do this, but I'm no good at R."
   ]
  },
  {
   "cell_type": "markdown",
   "metadata": {},
   "source": [
    "Data is now preprocessed, split into grade 3 students and grade 5+ students, and split into training and test sets. We begin the analysis by weighting observations to overcome the class imbalance problem. Later, we perform the same analysis on a SMOTE sample of the data."
   ]
  },
  {
   "cell_type": "markdown",
   "metadata": {},
   "source": [
    "<a id='sec:weightedobservations'></a>\n",
    "## Observation weights\n",
    "\n",
    "Weight each observation according to class frequency. Since the Below Standard class is about 1/6 as frequent, we want to avoid the classifier just classifying everyone as At Standard. We use weights such that the loss function to be minimized is\n",
    "\n",
    "\\begin{equation}\n",
    "l(\\mathbf{y}, \\mathbf{\\hat{y}}) = - \\frac{1}{n} \\sum_{i} w_{i} \\{ y_{i} \\log(\\hat{y}_{i} + (1 - y_{i}) \\log (1- \\hat{y}_{i}) \\}\n",
    "\\end{equation}\n",
    "\n",
    "which is the standard binary cross-entropy loss function, but with misclassifications of one class weighted more heavily than the other."
   ]
  },
  {
   "cell_type": "code",
   "execution_count": 11,
   "metadata": {},
   "outputs": [],
   "source": [
    "weights.grade3.read <- ifelse(train.grade3.read$readrisk == \"At Standard\",\n",
    "                             (1/table(train.grade3.read$readrisk)[1]*0.5),\n",
    "                             (1/table(train.grade3.read$readrisk)[2]*0.5))\n",
    "\n",
    "weights.grade3.num <- ifelse(train.grade3.num$numrisk == \"At Standard\",\n",
    "                            (1/table(train.grade3.num$numrisk)[1]*0.5),\n",
    "                            (1/table(train.grade3.num$numrisk)[2]*0.5))\n",
    "\n",
    "weights.grade5plus.read <- ifelse(train.grade5plus.read$readrisk == \"At Standard\",\n",
    "                             (1/table(train.grade5plus.read$readrisk)[1]*0.5),\n",
    "                             (1/table(train.grade5plus.read$readrisk)[2]*0.5))\n",
    "\n",
    "weights.grade5plus.num <- ifelse(train.grade5plus.num$numrisk == \"At Standard\",\n",
    "                            (1/table(train.grade5plus.num$numrisk)[1]*0.5),\n",
    "                            (1/table(train.grade5plus.num$numrisk)[2]*0.5))\n"
   ]
  },
  {
   "cell_type": "markdown",
   "metadata": {},
   "source": [
    "<a id='sec:logistic'></a>\n",
    "## Logistic Regression\n",
    "\n",
    "Begin with a simple logistic estimator."
   ]
  },
  {
   "cell_type": "markdown",
   "metadata": {},
   "source": [
    "<a id='subsec:logisticGrade3'></a>\n",
    "### Grade 3"
   ]
  },
  {
   "cell_type": "code",
   "execution_count": 12,
   "metadata": {},
   "outputs": [
    {
     "data": {
      "text/plain": [
       "\n",
       "Call:\n",
       "glm(formula = readrisk ~ ., family = \"binomial\", data = train.grade3.read, \n",
       "    weights = weights.grade3.read)\n",
       "\n",
       "Deviance Residuals: \n",
       "      Min         1Q     Median         3Q        Max  \n",
       "-0.003921  -0.001976  -0.001538  -0.001103   0.009959  \n",
       "\n",
       "Coefficients:\n",
       "             Estimate Std. Error z value Pr(>|z|)\n",
       "(Intercept)  0.984508  24.347328   0.040    0.968\n",
       "private1    -0.082886   4.726230  -0.018    0.986\n",
       "age         -0.074398   2.279775  -0.033    0.974\n",
       "female1     -0.474802   4.381630  -0.108    0.914\n",
       "indigenous1  0.727007  12.154218   0.060    0.952\n",
       "LBOTE1       0.036505   5.717966   0.006    0.995\n",
       "stateNSW    -0.170050  18.507868  -0.009    0.993\n",
       "stateNT      0.663226  27.675475   0.024    0.981\n",
       "stateQLD     0.125154  18.721945   0.007    0.995\n",
       "stateSA      0.131324  20.087465   0.007    0.995\n",
       "stateTAS     0.096570  22.698507   0.004    0.997\n",
       "stateVIC    -0.293544  18.577495  -0.016    0.987\n",
       "stateWA      0.174487  19.800050   0.009    0.993\n",
       "mumschool2  -0.229450  11.928540  -0.019    0.985\n",
       "mumschool3  -0.285579  12.581564  -0.023    0.982\n",
       "mumschool4  -0.512741  11.474781  -0.045    0.964\n",
       "mumhighed6  -0.144173   6.972419  -0.021    0.984\n",
       "mumhighed7  -0.623515   7.553969  -0.083    0.934\n",
       "mumhighed8   0.023008   6.194222   0.004    0.997\n",
       "mumoccup2    0.024798   8.463696   0.003    0.998\n",
       "mumoccup3   -0.010365   8.837949  -0.001    0.999\n",
       "mumoccup4    0.090027   9.732394   0.009    0.993\n",
       "mumoccup8    0.095199   8.471948   0.011    0.991\n",
       "dadschool2  -0.077033  10.182046  -0.008    0.994\n",
       "dadschool3  -0.224866  11.150185  -0.020    0.984\n",
       "dadschool4  -0.371634  10.083018  -0.037    0.971\n",
       "dadhighed6  -0.162726   7.509274  -0.022    0.983\n",
       "dadhighed7  -0.563415   8.012636  -0.070    0.944\n",
       "dadhighed8  -0.006466   6.195247  -0.001    0.999\n",
       "dadoccup2    0.102188   7.835476   0.013    0.990\n",
       "dadoccup3    0.261421   8.410999   0.031    0.975\n",
       "dadoccup4    0.461144   8.873324   0.052    0.959\n",
       "dadoccup8    0.553423  11.074255   0.050    0.960\n",
       "\n",
       "(Dispersion parameter for binomial family taken to be 1)\n",
       "\n",
       "    Null deviance: 1.3863  on 230545  degrees of freedom\n",
       "Residual deviance: 1.2328  on 230513  degrees of freedom\n",
       "AIC: 66\n",
       "\n",
       "Number of Fisher Scoring iterations: 4\n"
      ]
     },
     "metadata": {},
     "output_type": "display_data"
    },
    {
     "data": {
      "text/plain": [
       "\n",
       "Call:\n",
       "glm(formula = numrisk ~ ., family = \"binomial\", data = train.grade3.num, \n",
       "    weights = weights.grade3.num)\n",
       "\n",
       "Deviance Residuals: \n",
       "      Min         1Q     Median         3Q        Max  \n",
       "-0.003775  -0.001983  -0.001556  -0.001131   0.009823  \n",
       "\n",
       "Coefficients:\n",
       "             Estimate Std. Error z value Pr(>|z|)\n",
       "(Intercept)  0.654666  24.169023   0.027    0.978\n",
       "private1     0.006240   4.689025   0.001    0.999\n",
       "age         -0.089803   2.260348  -0.040    0.968\n",
       "female1     -0.006618   4.320531  -0.002    0.999\n",
       "indigenous1  0.707352  12.190879   0.058    0.954\n",
       "LBOTE1       0.181930   5.585571   0.033    0.974\n",
       "stateNSW    -0.172554  18.427438  -0.009    0.993\n",
       "stateNT      0.425013  27.892474   0.015    0.988\n",
       "stateQLD     0.046064  18.650312   0.002    0.998\n",
       "stateSA      0.205655  19.914164   0.010    0.992\n",
       "stateTAS    -0.016372  22.727435  -0.001    0.999\n",
       "stateVIC    -0.308627  18.491956  -0.017    0.987\n",
       "stateWA      0.055790  19.755318   0.003    0.998\n",
       "mumschool2  -0.207745  11.814672  -0.018    0.986\n",
       "mumschool3  -0.256544  12.461626  -0.021    0.984\n",
       "mumschool4  -0.474470  11.359941  -0.042    0.967\n",
       "mumhighed6  -0.119460   6.945438  -0.017    0.986\n",
       "mumhighed7  -0.627574   7.503279  -0.084    0.933\n",
       "mumhighed8   0.009945   6.182242   0.002    0.999\n",
       "mumoccup2    0.004200   8.432547   0.000    1.000\n",
       "mumoccup3   -0.004181   8.764320   0.000    1.000\n",
       "mumoccup4    0.118131   9.637082   0.012    0.990\n",
       "mumoccup8    0.118072   8.393476   0.014    0.989\n",
       "dadschool2  -0.127124  10.081644  -0.013    0.990\n",
       "dadschool3  -0.240626  11.044085  -0.022    0.983\n",
       "dadschool4  -0.397578   9.986126  -0.040    0.968\n",
       "dadhighed6  -0.124265   7.482315  -0.017    0.987\n",
       "dadhighed7  -0.488100   7.951504  -0.061    0.951\n",
       "dadhighed8   0.009415   6.185319   0.002    0.999\n",
       "dadoccup2    0.112766   7.817070   0.014    0.988\n",
       "dadoccup3    0.327964   8.358461   0.039    0.969\n",
       "dadoccup4    0.567355   8.784189   0.065    0.949\n",
       "dadoccup8    0.645930  10.929775   0.059    0.953\n",
       "\n",
       "(Dispersion parameter for binomial family taken to be 1)\n",
       "\n",
       "    Null deviance: 1.3863  on 230544  degrees of freedom\n",
       "Residual deviance: 1.2445  on 230512  degrees of freedom\n",
       "AIC: 66\n",
       "\n",
       "Number of Fisher Scoring iterations: 4\n"
      ]
     },
     "metadata": {},
     "output_type": "display_data"
    }
   ],
   "source": [
    "# Literacy\n",
    "logistic_model.grade3.read <- glm(readrisk ~.,\n",
    "                                  family='binomial',\n",
    "                                  data=train.grade3.read,\n",
    "                                  weights=weights.grade3.read)\n",
    "summary(logistic_model.grade3.read)\n",
    "\n",
    "# Numeracy\n",
    "logistic_model.grade3.num <- glm(numrisk ~.,\n",
    "                                 family='binomial',\n",
    "                                 data=train.grade3.num,\n",
    "                                 weights=weights.grade3.num)\n",
    "summary(logistic_model.grade3.num)"
   ]
  },
  {
   "cell_type": "markdown",
   "metadata": {},
   "source": [
    "Get the predicted classes on the test sets."
   ]
  },
  {
   "cell_type": "code",
   "execution_count": 13,
   "metadata": {},
   "outputs": [],
   "source": [
    "# Predicted probabilities\n",
    "logistic_preds.grade3.read <- predict(logistic_model.grade3.read, newdata=test.grade3.read[, -1], type='response')\n",
    "logistic_preds.grade3.num <- predict(logistic_model.grade3.num, newdata=test.grade3.num[, -1], type='response')\n",
    "\n",
    "# Predicted classes\n",
    "pred_classes.grade3.read <- factor(logistic_preds.grade3.read>=0.5)\n",
    "levels(pred_classes.grade3.read) <- c(\"At Standard\", \"Below Standard\")\n",
    "\n",
    "pred_classes.grade3.num <- factor(logistic_preds.grade3.num>=0.5)\n",
    "levels(pred_classes.grade3.num) <- c(\"At Standard\", \"Below Standard\")"
   ]
  },
  {
   "cell_type": "markdown",
   "metadata": {},
   "source": [
    "Confusion matrices"
   ]
  },
  {
   "cell_type": "code",
   "execution_count": 14,
   "metadata": {
    "scrolled": true
   },
   "outputs": [
    {
     "data": {
      "text/plain": [
       "Confusion Matrix and Statistics\n",
       "\n",
       "                Reference\n",
       "Prediction       At Standard Below Standard\n",
       "  At Standard          65548           3458\n",
       "  Below Standard       38387           7878\n",
       "                                          \n",
       "               Accuracy : 0.637           \n",
       "                 95% CI : (0.6342, 0.6398)\n",
       "    No Information Rate : 0.9017          \n",
       "    P-Value [Acc > NIR] : 1               \n",
       "                                          \n",
       "                  Kappa : 0.1372          \n",
       " Mcnemar's Test P-Value : <2e-16          \n",
       "                                          \n",
       "            Sensitivity : 0.69495         \n",
       "            Specificity : 0.63066         \n",
       "         Pos Pred Value : 0.17028         \n",
       "         Neg Pred Value : 0.94989         \n",
       "             Prevalence : 0.09834         \n",
       "         Detection Rate : 0.06834         \n",
       "   Detection Prevalence : 0.40136         \n",
       "      Balanced Accuracy : 0.66281         \n",
       "                                          \n",
       "       'Positive' Class : Below Standard  \n",
       "                                          "
      ]
     },
     "metadata": {},
     "output_type": "display_data"
    },
    {
     "data": {
      "text/plain": [
       "Confusion Matrix and Statistics\n",
       "\n",
       "                Reference\n",
       "Prediction       At Standard Below Standard\n",
       "  At Standard          63833           3296\n",
       "  Below Standard       40706           7437\n",
       "                                          \n",
       "               Accuracy : 0.6183          \n",
       "                 95% CI : (0.6155, 0.6211)\n",
       "    No Information Rate : 0.9069          \n",
       "    P-Value [Acc > NIR] : 1               \n",
       "                                          \n",
       "                  Kappa : 0.1184          \n",
       " Mcnemar's Test P-Value : <2e-16          \n",
       "                                          \n",
       "            Sensitivity : 0.69291         \n",
       "            Specificity : 0.61061         \n",
       "         Pos Pred Value : 0.15448         \n",
       "         Neg Pred Value : 0.95090         \n",
       "             Prevalence : 0.09311         \n",
       "         Detection Rate : 0.06452         \n",
       "   Detection Prevalence : 0.41765         \n",
       "      Balanced Accuracy : 0.65176         \n",
       "                                          \n",
       "       'Positive' Class : Below Standard  \n",
       "                                          "
      ]
     },
     "metadata": {},
     "output_type": "display_data"
    }
   ],
   "source": [
    "confusionMatrix(pred_classes.grade3.read,\n",
    "                test.grade3.read[, 1],\n",
    "                positive='Below Standard')\n",
    "confusionMatrix(pred_classes.grade3.num,\n",
    "                test.grade3.num[, 1],\n",
    "                positive='Below Standard')"
   ]
  },
  {
   "cell_type": "markdown",
   "metadata": {},
   "source": [
    "ROC curves and estimate of area under the ROC curve. Later, ROC curves for each grade will be plotted on a single plot."
   ]
  },
  {
   "cell_type": "code",
   "execution_count": 15,
   "metadata": {},
   "outputs": [],
   "source": [
    "roc.logistic.grade3.read <- roc(test.grade3.read[, 1], logistic_preds.grade3.read)\n",
    "roc.logistic.grade3.num <- roc(test.grade3.num[, 1], logistic_preds.grade3.num)\n",
    "\n",
    "auc.logistic.grade3.read <- pROC::auc(roc.logistic.grade3.read)\n",
    "auc.logistic.grade3.num <- pROC::auc(roc.logistic.grade3.num)"
   ]
  },
  {
   "cell_type": "markdown",
   "metadata": {},
   "source": [
    "Confidence interval for AUC. The package <b>pROC</b> has the function 'var' to estimate the variance of AUC. We square root it, and add +/- 2 SEs to our AUC point estimate."
   ]
  },
  {
   "cell_type": "code",
   "execution_count": 16,
   "metadata": {},
   "outputs": [
    {
     "name": "stdout",
     "output_type": "stream",
     "text": [
      "[1] \"Logistic regression, grade 3\"\n",
      "\n",
      "[1] \"Reading\"\n",
      "[1] \"AUC =  0.72150110299788\"\n",
      "[1] \"95% confidence interval:\"\n",
      "[1] \"(0.716724032103049, 0.726278173892711)\"\n",
      "\n",
      "[1] \"Numeracy\"\n",
      "[1] \"AUC =  0.706939688076248\"\n",
      "[1] \"95% confidence interval:\"\n",
      "[1] \"(0.701960399640764, 0.711918976511732)\"\n"
     ]
    }
   ],
   "source": [
    "logistic.grade3.read.auc_se <- sqrt(var(roc.logistic.grade3.read))\n",
    "logistic.grade3.num.auc_se <- sqrt(var(roc.logistic.grade3.num))\n",
    "\n",
    "\n",
    "print(\"Logistic regression, grade 3\")\n",
    "cat('\\n')\n",
    "print(\"Reading\")\n",
    "print(paste(\"AUC = \", auc.logistic.grade3.read))\n",
    "print(\"95% confidence interval:\")\n",
    "print(paste0(\"(\", auc.logistic.grade3.read - 1.96*logistic.grade3.read.auc_se,\n",
    "             \", \",\n",
    "             auc.logistic.grade3.read + 1.96*logistic.grade3.read.auc_se,\n",
    "             \")\"))\n",
    "cat('\\n')\n",
    "print(\"Numeracy\")\n",
    "print(paste(\"AUC = \", auc.logistic.grade3.num))\n",
    "print(\"95% confidence interval:\")\n",
    "print(paste0(\"(\", auc.logistic.grade3.num - 1.96*logistic.grade3.num.auc_se,\n",
    "             \", \",\n",
    "             auc.logistic.grade3.num + 1.96*logistic.grade3.num.auc_se,\n",
    "             \")\"))"
   ]
  },
  {
   "cell_type": "markdown",
   "metadata": {},
   "source": [
    "<a id='subsec:logisticGrade5plus'></a>\n",
    "### Grades 5+\n",
    "\n",
    "Grade 5+ proceeds identically to grade 3."
   ]
  },
  {
   "cell_type": "code",
   "execution_count": 17,
   "metadata": {
    "scrolled": false
   },
   "outputs": [
    {
     "data": {
      "text/plain": [
       "\n",
       "Call:\n",
       "glm(formula = readrisk ~ ., family = \"binomial\", data = train.grade5plus.read, \n",
       "    weights = weights.grade5plus.read)\n",
       "\n",
       "Deviance Residuals: \n",
       "       Min          1Q      Median          3Q         Max  \n",
       "-0.0030319  -0.0009687  -0.0007446  -0.0005291   0.0059589  \n",
       "\n",
       "Coefficients:\n",
       "                            Estimate Std. Error z value Pr(>|z|)\n",
       "(Intercept)                -0.004280  30.836944   0.000    1.000\n",
       "grade7                     -0.331457  14.849681  -0.022    0.982\n",
       "grade9                     -0.066402  26.860513  -0.002    0.998\n",
       "private1                   -0.123970   5.312400  -0.023    0.981\n",
       "age                         0.210367  11.070935   0.019    0.985\n",
       "female1                    -0.393952   5.029786  -0.078    0.938\n",
       "indigenous1                 0.399201  14.915446   0.027    0.979\n",
       "LBOTE1                      0.141504   6.594187   0.021    0.983\n",
       "stateNSW                   -0.055548  22.122359  -0.003    0.998\n",
       "stateQLD                    0.128702  22.564544   0.006    0.995\n",
       "stateSA                     0.093301  24.681374   0.004    0.997\n",
       "stateTAS                   -0.012629  26.441137   0.000    1.000\n",
       "stateVIC                   -0.006474  22.160074   0.000    1.000\n",
       "stateWA                     0.057582  23.350475   0.002    0.998\n",
       "sameschool1                -0.227583   5.842840  -0.039    0.969\n",
       "mumschool2                 -0.075042  12.564438  -0.006    0.995\n",
       "mumschool3                 -0.125932  13.287858  -0.009    0.992\n",
       "mumschool4                 -0.291514  12.271584  -0.024    0.981\n",
       "mumhighed6                 -0.114082   7.969681  -0.014    0.989\n",
       "mumhighed7                 -0.444352   9.088629  -0.049    0.961\n",
       "mumhighed8                  0.014965   6.826804   0.002    0.998\n",
       "mumoccup2                   0.046157   9.851017   0.005    0.996\n",
       "mumoccup3                   0.049279  10.187759   0.005    0.996\n",
       "mumoccup4                   0.118266  11.054047   0.011    0.991\n",
       "mumoccup8                   0.130761  10.372888   0.013    0.990\n",
       "dadschool2                 -0.103613  10.912549  -0.009    0.992\n",
       "dadschool3                 -0.151833  11.994719  -0.013    0.990\n",
       "dadschool4                 -0.280715  10.969195  -0.026    0.980\n",
       "dadhighed6                 -0.154942   8.550028  -0.018    0.986\n",
       "dadhighed7                 -0.493211   9.425535  -0.052    0.958\n",
       "dadhighed8                  0.022308   6.890140   0.003    0.997\n",
       "dadoccup2                   0.107288   9.065719   0.012    0.991\n",
       "dadoccup3                   0.219210   9.709722   0.023    0.982\n",
       "dadoccup4                   0.348776  10.271530   0.034    0.973\n",
       "dadoccup8                   0.364393  12.891745   0.028    0.977\n",
       "prevreadriskBelow Standard  2.048295   6.841185   0.299    0.765\n",
       "prevnumriskBelow Standard   1.388125   6.922741   0.201    0.841\n",
       "\n",
       "(Dispersion parameter for binomial family taken to be 1)\n",
       "\n",
       "    Null deviance: 1.3863  on 590928  degrees of freedom\n",
       "Residual deviance: 0.9901  on 590892  degrees of freedom\n",
       "AIC: 74\n",
       "\n",
       "Number of Fisher Scoring iterations: 5\n"
      ]
     },
     "metadata": {},
     "output_type": "display_data"
    },
    {
     "data": {
      "text/plain": [
       "\n",
       "Call:\n",
       "glm(formula = numrisk ~ ., family = \"binomial\", data = train.grade5plus.num, \n",
       "    weights = weights.grade5plus.num)\n",
       "\n",
       "Deviance Residuals: \n",
       "       Min          1Q      Median          3Q         Max  \n",
       "-0.0030118  -0.0009975  -0.0007629  -0.0005379   0.0057354  \n",
       "\n",
       "Coefficients:\n",
       "                            Estimate Std. Error z value Pr(>|z|)\n",
       "(Intercept)                 0.331935  29.858461   0.011    0.991\n",
       "grade7                     -0.832208  14.805759  -0.056    0.955\n",
       "grade9                     -0.731518  26.775277  -0.027    0.978\n",
       "private1                   -0.076772   5.233785  -0.015    0.988\n",
       "age                         0.223596  11.020751   0.020    0.984\n",
       "female1                     0.307236   4.957434   0.062    0.951\n",
       "indigenous1                 0.465215  14.770765   0.031    0.975\n",
       "LBOTE1                      0.015160   6.546640   0.002    0.998\n",
       "stateNSW                   -0.275739  20.691674  -0.013    0.989\n",
       "stateQLD                   -0.290158  21.192916  -0.014    0.989\n",
       "stateSA                    -0.065988  23.258184  -0.003    0.998\n",
       "stateTAS                   -0.142129  24.997154  -0.006    0.995\n",
       "stateVIC                   -0.197360  20.720619  -0.010    0.992\n",
       "stateWA                    -0.240465  22.015554  -0.011    0.991\n",
       "sameschool1                -0.294011   5.891369  -0.050    0.960\n",
       "mumschool2                 -0.009288  12.570501  -0.001    0.999\n",
       "mumschool3                 -0.075286  13.261891  -0.006    0.995\n",
       "mumschool4                 -0.253737  12.274736  -0.021    0.984\n",
       "mumhighed6                 -0.081339   7.838160  -0.010    0.992\n",
       "mumhighed7                 -0.479299   8.969848  -0.053    0.957\n",
       "mumhighed8                 -0.019735   6.760520  -0.003    0.998\n",
       "mumoccup2                   0.010686   9.712431   0.001    0.999\n",
       "mumoccup3                   0.033403  10.031329   0.003    0.997\n",
       "mumoccup4                   0.105695  10.899409   0.010    0.992\n",
       "mumoccup8                   0.114627  10.183148   0.011    0.991\n",
       "dadschool2                 -0.042335  10.863902  -0.004    0.997\n",
       "dadschool3                 -0.129274  11.924983  -0.011    0.991\n",
       "dadschool4                 -0.255279  10.925263  -0.023    0.981\n",
       "dadhighed6                 -0.144281   8.441142  -0.017    0.986\n",
       "dadhighed7                 -0.487242   9.282183  -0.052    0.958\n",
       "dadhighed8                  0.026172   6.809788   0.004    0.997\n",
       "dadoccup2                   0.078607   8.951254   0.009    0.993\n",
       "dadoccup3                   0.222632   9.575758   0.023    0.981\n",
       "dadoccup4                   0.392205  10.118026   0.039    0.969\n",
       "dadoccup8                   0.438961  12.689626   0.035    0.972\n",
       "prevreadriskBelow Standard  1.236306   6.972611   0.177    0.859\n",
       "prevnumriskBelow Standard   2.215792   7.100933   0.312    0.755\n",
       "\n",
       "(Dispersion parameter for binomial family taken to be 1)\n",
       "\n",
       "    Null deviance: 1.3863  on 590928  degrees of freedom\n",
       "Residual deviance: 1.0074  on 590892  degrees of freedom\n",
       "AIC: 74\n",
       "\n",
       "Number of Fisher Scoring iterations: 5\n"
      ]
     },
     "metadata": {},
     "output_type": "display_data"
    }
   ],
   "source": [
    "# Literacy\n",
    "logistic_model.grade5plus.read <- glm(readrisk ~.,\n",
    "                                      family='binomial',\n",
    "                                      data=train.grade5plus.read,\n",
    "                                      weights=weights.grade5plus.read)\n",
    "summary(logistic_model.grade5plus.read)\n",
    "\n",
    "# Numeracy\n",
    "logistic_model.grade5plus.num <- glm(numrisk ~.,\n",
    "                                     family='binomial',\n",
    "                                     data=train.grade5plus.num,\n",
    "                                     weights=weights.grade5plus.num)\n",
    "summary(logistic_model.grade5plus.num)"
   ]
  },
  {
   "cell_type": "code",
   "execution_count": 18,
   "metadata": {},
   "outputs": [],
   "source": [
    "# Predicted probabilities\n",
    "logistic_preds.grade5plus.read <- predict(logistic_model.grade5plus.read,\n",
    "                                          newdata=test.grade5plus.read[, -1], type='response')\n",
    "logistic_preds.grade5plus.num <- predict(logistic_model.grade5plus.num,\n",
    "                                         newdata=test.grade5plus.num[, -1], type='response')\n",
    "\n",
    "# Predicted classes\n",
    "pred_classes.grade5plus.read <- factor(logistic_preds.grade5plus.read>=0.5)\n",
    "levels(pred_classes.grade5plus.read) <- c(\"At Standard\", \"Below Standard\")\n",
    "\n",
    "pred_classes.grade5plus.num <- factor(logistic_preds.grade5plus.num>=0.5)\n",
    "levels(pred_classes.grade5plus.num) <- c(\"At Standard\", \"Below Standard\")"
   ]
  },
  {
   "cell_type": "code",
   "execution_count": 19,
   "metadata": {},
   "outputs": [
    {
     "data": {
      "text/plain": [
       "Confusion Matrix and Statistics\n",
       "\n",
       "                Reference\n",
       "Prediction       At Standard Below Standard\n",
       "  At Standard         218946          12605\n",
       "  Below Standard       37589          26323\n",
       "                                          \n",
       "               Accuracy : 0.8301          \n",
       "                 95% CI : (0.8288, 0.8315)\n",
       "    No Information Rate : 0.8682          \n",
       "    P-Value [Acc > NIR] : 1               \n",
       "                                          \n",
       "                  Kappa : 0.4163          \n",
       " Mcnemar's Test P-Value : <2e-16          \n",
       "                                          \n",
       "            Sensitivity : 0.67620         \n",
       "            Specificity : 0.85347         \n",
       "         Pos Pred Value : 0.41186         \n",
       "         Neg Pred Value : 0.94556         \n",
       "             Prevalence : 0.13175         \n",
       "         Detection Rate : 0.08909         \n",
       "   Detection Prevalence : 0.21631         \n",
       "      Balanced Accuracy : 0.76484         \n",
       "                                          \n",
       "       'Positive' Class : Below Standard  \n",
       "                                          "
      ]
     },
     "metadata": {},
     "output_type": "display_data"
    },
    {
     "data": {
      "text/plain": [
       "Confusion Matrix and Statistics\n",
       "\n",
       "                Reference\n",
       "Prediction       At Standard Below Standard\n",
       "  At Standard         215819          14367\n",
       "  Below Standard       36946          28331\n",
       "                                         \n",
       "               Accuracy : 0.8263         \n",
       "                 95% CI : (0.825, 0.8277)\n",
       "    No Information Rate : 0.8555         \n",
       "    P-Value [Acc > NIR] : 1              \n",
       "                                         \n",
       "                  Kappa : 0.4242         \n",
       " Mcnemar's Test P-Value : <2e-16         \n",
       "                                         \n",
       "            Sensitivity : 0.66352        \n",
       "            Specificity : 0.85383        \n",
       "         Pos Pred Value : 0.43401        \n",
       "         Neg Pred Value : 0.93759        \n",
       "             Prevalence : 0.14451        \n",
       "         Detection Rate : 0.09589        \n",
       "   Detection Prevalence : 0.22093        \n",
       "      Balanced Accuracy : 0.75868        \n",
       "                                         \n",
       "       'Positive' Class : Below Standard \n",
       "                                         "
      ]
     },
     "metadata": {},
     "output_type": "display_data"
    }
   ],
   "source": [
    "confusionMatrix(pred_classes.grade5plus.read,\n",
    "                test.grade5plus.read[, 1],\n",
    "                positive='Below Standard')\n",
    "confusionMatrix(pred_classes.grade5plus.num,\n",
    "                test.grade5plus.num[, 1],\n",
    "                positive='Below Standard')"
   ]
  },
  {
   "cell_type": "code",
   "execution_count": 20,
   "metadata": {},
   "outputs": [],
   "source": [
    "roc.logistic.grade5plus.read <- roc(test.grade5plus.read[, 1], logistic_preds.grade5plus.read)\n",
    "roc.logistic.grade5plus.num <- roc(test.grade5plus.num[, 1], logistic_preds.grade5plus.num)\n",
    "\n",
    "auc.logistic.grade5plus.read <- pROC::auc(roc.logistic.grade5plus.read)\n",
    "auc.logistic.grade5plus.num <- pROC::auc(roc.logistic.grade5plus.num)"
   ]
  },
  {
   "cell_type": "code",
   "execution_count": 21,
   "metadata": {},
   "outputs": [
    {
     "name": "stdout",
     "output_type": "stream",
     "text": [
      "[1] \"Logistic regression, grade 5+\"\n",
      "\n",
      "[1] \"Reading\"\n",
      "[1] \"AUC =  0.838780264015767\"\n",
      "[1] \"95% confidence interval:\"\n",
      "[1] \"(0.836552279979341, 0.841008248052193)\"\n",
      "\n",
      "[1] \"Numeracy\"\n",
      "[1] \"AUC =  0.832521795892323\"\n",
      "[1] \"95% confidence interval:\"\n",
      "[1] \"(0.830345833191683, 0.834697758592964)\"\n"
     ]
    }
   ],
   "source": [
    "logistic.grade5plus.read.auc_se <- sqrt(var(roc.logistic.grade5plus.read))\n",
    "logistic.grade5plus.num.auc_se <- sqrt(var(roc.logistic.grade5plus.num))\n",
    "\n",
    "\n",
    "print(\"Logistic regression, grade 5+\")\n",
    "cat('\\n')\n",
    "print(\"Reading\")\n",
    "print(paste(\"AUC = \", auc.logistic.grade5plus.read))\n",
    "print(\"95% confidence interval:\")\n",
    "print(paste0(\"(\", auc.logistic.grade5plus.read - 1.96*logistic.grade5plus.read.auc_se,\n",
    "             \", \",\n",
    "             auc.logistic.grade5plus.read + 1.96*logistic.grade5plus.read.auc_se,\n",
    "             \")\"))\n",
    "cat('\\n')\n",
    "print(\"Numeracy\")\n",
    "print(paste(\"AUC = \", auc.logistic.grade5plus.num))\n",
    "print(\"95% confidence interval:\")\n",
    "print(paste0(\"(\", auc.logistic.grade5plus.num - 1.96*logistic.grade5plus.num.auc_se,\n",
    "             \", \",\n",
    "             auc.logistic.grade5plus.num + 1.96*logistic.grade5plus.num.auc_se,\n",
    "             \")\"))"
   ]
  },
  {
   "cell_type": "markdown",
   "metadata": {},
   "source": [
    "<a id='sec:elasticnet'></a>\n",
    "## Elastic Net\n"
   ]
  },
  {
   "cell_type": "markdown",
   "metadata": {},
   "source": [
    "The <b>glmnet</b> package requires a model matrix as input, rather than a data frame."
   ]
  },
  {
   "cell_type": "code",
   "execution_count": 22,
   "metadata": {},
   "outputs": [],
   "source": [
    "X.grade3.read <- model.matrix(readrisk ~., train.grade3.read)\n",
    "X.grade3.num <- model.matrix(numrisk ~.,  train.grade3.num)\n",
    "\n",
    "X.grade5plus.read <- model.matrix(readrisk ~., train.grade5plus.read)\n",
    "X.grade5plus.num <- model.matrix(numrisk ~.,  train.grade5plus.num)\n",
    "\n",
    "X.test.grade3.read <- model.matrix(readrisk~., test.grade3.read)\n",
    "X.test.grade3.num <- model.matrix(numrisk~., test.grade3.num)\n",
    "\n",
    "\n",
    "X.test.grade5plus.read <- model.matrix(readrisk~., test.grade5plus.read)\n",
    "X.test.grade5plus.num <- model.matrix(numrisk~., test.grade5plus.num)"
   ]
  },
  {
   "cell_type": "markdown",
   "metadata": {},
   "source": [
    "<a id='subsec:ENgrade3'></a>\n",
    "### Grade 3\n",
    "\n",
    "We set the elastic net mixing parameter, $\\alpha$, to half so that the lasso and ridge penalties have the same weight. This parameter could be tuned, but the package doesn't offer that out-of-the-box so we'd have to do it manually. We've run it with .1 and .9 with no change to the result, so we don't think it's worth tuning it.\n",
    "\n",
    "We run glmnet with the \"type.measure='class'\" option. This enforces binary cross-entropy loss, rather than the usual least squares loss."
   ]
  },
  {
   "cell_type": "code",
   "execution_count": 23,
   "metadata": {},
   "outputs": [
    {
     "data": {
      "text/plain": [
       "Time difference of 38.60734 secs"
      ]
     },
     "metadata": {},
     "output_type": "display_data"
    },
    {
     "data": {
      "text/plain": [
       "Time difference of 35.55214 secs"
      ]
     },
     "metadata": {},
     "output_type": "display_data"
    }
   ],
   "source": [
    "# Elastic net parameter. Controlls relative strength of lasso and ridge penalties\n",
    "alpha <- 0.5\n",
    "\n",
    "t0 <- Sys.time()\n",
    "EN_model.grade3.read <- cv.glmnet(x=X.grade3.read,\n",
    "                                  y=train.grade3.read[, 1], #y.grade3.read,\n",
    "                                  family=\"binomial\",\n",
    "                                  alpha=alpha,\n",
    "                                  type.measure=\"class\",\n",
    "                                  weights=weights.grade3.read,\n",
    "                                  parallel=T)\n",
    "Sys.time() - t0\n",
    "\n",
    "t0 <- Sys.time()\n",
    "EN_model.grade3.num <- cv.glmnet(x=X.grade3.num,\n",
    "                                 y=train.grade3.num[, 1], #y.grade3.num,\n",
    "                                 family=\"binomial\",\n",
    "                                 alpha=alpha,\n",
    "                                 type.measure=\"class\",\n",
    "                                 weights=weights.grade3.num,\n",
    "                                 parallel=T)\n",
    "Sys.time() - t0\n",
    "\n"
   ]
  },
  {
   "cell_type": "code",
   "execution_count": 24,
   "metadata": {},
   "outputs": [
    {
     "data": {
      "text/plain": [
       "34 x 1 sparse Matrix of class \"dgCMatrix\"\n",
       "                      1\n",
       "(Intercept)  0.95072722\n",
       "(Intercept)  .         \n",
       "private1    -0.07996263\n",
       "age         -0.07279326\n",
       "female1     -0.46696209\n",
       "indigenous1  0.71740256\n",
       "LBOTE1       0.03718366\n",
       "stateNSW    -0.20698850\n",
       "stateNT      0.59089586\n",
       "stateQLD     0.07783417\n",
       "stateSA      0.07602293\n",
       "stateTAS     0.03511108\n",
       "stateVIC    -0.32849662\n",
       "stateWA      0.12038788\n",
       "mumschool2  -0.16027825\n",
       "mumschool3  -0.21495915\n",
       "mumschool4  -0.45118216\n",
       "mumhighed6  -0.13540301\n",
       "mumhighed7  -0.61794384\n",
       "mumhighed8   0.03040987\n",
       "mumoccup2    0.01270433\n",
       "mumoccup3   -0.01036519\n",
       "mumoccup4    0.08174857\n",
       "mumoccup8    0.09044337\n",
       "dadschool2  -0.02968991\n",
       "dadschool3  -0.17547776\n",
       "dadschool4  -0.33047350\n",
       "dadhighed6  -0.16000414\n",
       "dadhighed7  -0.57548513\n",
       "dadhighed8   .         \n",
       "dadoccup2    0.06532472\n",
       "dadoccup3    0.22233210\n",
       "dadoccup4    0.42520783\n",
       "dadoccup8    0.52374030"
      ]
     },
     "metadata": {},
     "output_type": "display_data"
    },
    {
     "data": {
      "text/plain": [
       "34 x 1 sparse Matrix of class \"dgCMatrix\"\n",
       "                      1\n",
       "(Intercept)  0.53837487\n",
       "(Intercept)  .         \n",
       "private1     .         \n",
       "age         -0.08788445\n",
       "female1      .         \n",
       "indigenous1  0.69247281\n",
       "LBOTE1       0.18239149\n",
       "stateNSW    -0.15503526\n",
       "stateNT      0.39302947\n",
       "stateQLD     0.04817390\n",
       "stateSA      0.19523598\n",
       "stateTAS     .         \n",
       "stateVIC    -0.28784475\n",
       "stateWA      0.04799469\n",
       "mumschool2  -0.10849122\n",
       "mumschool3  -0.15536677\n",
       "mumschool4  -0.38649305\n",
       "mumhighed6  -0.10658212\n",
       "mumhighed7  -0.61645476\n",
       "mumhighed8   0.02154531\n",
       "mumoccup2    .         \n",
       "mumoccup3    .         \n",
       "mumoccup4    0.11090708\n",
       "mumoccup8    0.11513391\n",
       "dadschool2  -0.05390869\n",
       "dadschool3  -0.16364269\n",
       "dadschool4  -0.33245094\n",
       "dadhighed6  -0.12060706\n",
       "dadhighed7  -0.50852715\n",
       "dadhighed8   0.01807174\n",
       "dadoccup2    0.05069448\n",
       "dadoccup3    0.26329978\n",
       "dadoccup4    0.50665953\n",
       "dadoccup8    0.59429513"
      ]
     },
     "metadata": {},
     "output_type": "display_data"
    }
   ],
   "source": [
    "coef(EN_model.grade3.read, s='lambda.min')\n",
    "coef(EN_model.grade3.num, s='lambda.min')"
   ]
  },
  {
   "cell_type": "code",
   "execution_count": 25,
   "metadata": {},
   "outputs": [],
   "source": [
    "# Predicted probabilities\n",
    "EN_preds.grade3.read <- predict(EN_model.grade3.read,\n",
    "                                s='lambda.min',\n",
    "                                newx=X.test.grade3.read,\n",
    "                                type='response')\n",
    "EN_preds.grade3.num <- predict(EN_model.grade3.num,\n",
    "                               s='lambda.min',\n",
    "                               newx=X.test.grade3.num,\n",
    "                               type='response')\n",
    "\n",
    "# Predicted classes\n",
    "pred_classes.grade3.read <- factor(EN_preds.grade3.read>=0.5)\n",
    "levels(pred_classes.grade3.read) <- c(\"At Standard\", \"Below Standard\")\n",
    "\n",
    "pred_classes.grade3.num <- factor(EN_preds.grade3.num>=0.5)\n",
    "levels(pred_classes.grade3.num) <- c(\"At Standard\", \"Below Standard\")"
   ]
  },
  {
   "cell_type": "code",
   "execution_count": 26,
   "metadata": {},
   "outputs": [
    {
     "data": {
      "text/plain": [
       "Confusion Matrix and Statistics\n",
       "\n",
       "                Reference\n",
       "Prediction       At Standard Below Standard\n",
       "  At Standard          65388           3446\n",
       "  Below Standard       38547           7890\n",
       "                                          \n",
       "               Accuracy : 0.6357          \n",
       "                 95% CI : (0.6329, 0.6385)\n",
       "    No Information Rate : 0.9017          \n",
       "    P-Value [Acc > NIR] : 1               \n",
       "                                          \n",
       "                  Kappa : 0.1366          \n",
       " Mcnemar's Test P-Value : <2e-16          \n",
       "                                          \n",
       "            Sensitivity : 0.69601         \n",
       "            Specificity : 0.62912         \n",
       "         Pos Pred Value : 0.16991         \n",
       "         Neg Pred Value : 0.94994         \n",
       "             Prevalence : 0.09834         \n",
       "         Detection Rate : 0.06845         \n",
       "   Detection Prevalence : 0.40285         \n",
       "      Balanced Accuracy : 0.66257         \n",
       "                                          \n",
       "       'Positive' Class : Below Standard  \n",
       "                                          "
      ]
     },
     "metadata": {},
     "output_type": "display_data"
    },
    {
     "data": {
      "text/plain": [
       "Confusion Matrix and Statistics\n",
       "\n",
       "                Reference\n",
       "Prediction       At Standard Below Standard\n",
       "  At Standard          63689           3278\n",
       "  Below Standard       40850           7455\n",
       "                                        \n",
       "               Accuracy : 0.6172        \n",
       "                 95% CI : (0.6144, 0.62)\n",
       "    No Information Rate : 0.9069        \n",
       "    P-Value [Acc > NIR] : 1             \n",
       "                                        \n",
       "                  Kappa : 0.1182        \n",
       " Mcnemar's Test P-Value : <2e-16        \n",
       "                                        \n",
       "            Sensitivity : 0.69459       \n",
       "            Specificity : 0.60924       \n",
       "         Pos Pred Value : 0.15433       \n",
       "         Neg Pred Value : 0.95105       \n",
       "             Prevalence : 0.09311       \n",
       "         Detection Rate : 0.06467       \n",
       "   Detection Prevalence : 0.41905       \n",
       "      Balanced Accuracy : 0.65191       \n",
       "                                        \n",
       "       'Positive' Class : Below Standard\n",
       "                                        "
      ]
     },
     "metadata": {},
     "output_type": "display_data"
    }
   ],
   "source": [
    "confusionMatrix(pred_classes.grade3.read,\n",
    "                test.grade3.read[, 1],\n",
    "                positive='Below Standard')\n",
    "confusionMatrix(pred_classes.grade3.num,\n",
    "                test.grade3.num[, 1],\n",
    "                positive='Below Standard')"
   ]
  },
  {
   "cell_type": "code",
   "execution_count": 27,
   "metadata": {},
   "outputs": [],
   "source": [
    "roc.EN.grade3.read <- roc(test.grade3.read[, 1], as.numeric(EN_preds.grade3.read))\n",
    "roc.EN.grade3.num <- roc(test.grade3.num[, 1], as.numeric(EN_preds.grade3.num))\n",
    "\n",
    "auc.EN.grade3.read <- pROC::auc(roc.EN.grade3.read)\n",
    "auc.EN.grade3.num <- pROC::auc(roc.EN.grade3.num)"
   ]
  },
  {
   "cell_type": "code",
   "execution_count": 28,
   "metadata": {},
   "outputs": [
    {
     "name": "stdout",
     "output_type": "stream",
     "text": [
      "[1] \"Elastic Net regression, grade 3\"\n",
      "\n",
      "[1] \"Reading\"\n",
      "[1] \"AUC =  0.721329931911125\"\n",
      "[1] \"95% confidence interval:\"\n",
      "[1] \"(0.716551200644492, 0.726108663177758)\"\n",
      "\n",
      "[1] \"Numeracy\"\n",
      "[1] \"AUC =  0.706776822463845\"\n",
      "[1] \"95% confidence interval:\"\n",
      "[1] \"(0.701797428748262, 0.711756216179429)\"\n"
     ]
    }
   ],
   "source": [
    "EN.grade3.read.auc_se <- sqrt(var(roc.EN.grade3.read))\n",
    "EN.grade3.num.auc_se <- sqrt(var(roc.EN.grade3.num))\n",
    "\n",
    "\n",
    "print(\"Elastic Net regression, grade 3\")\n",
    "cat('\\n')\n",
    "print(\"Reading\")\n",
    "print(paste(\"AUC = \", auc.EN.grade3.read))\n",
    "print(\"95% confidence interval:\")\n",
    "print(paste0(\"(\", auc.EN.grade3.read - 1.96*EN.grade3.read.auc_se,\n",
    "             \", \",\n",
    "             auc.EN.grade3.read + 1.96*EN.grade3.read.auc_se,\n",
    "             \")\"))\n",
    "cat('\\n')\n",
    "print(\"Numeracy\")\n",
    "print(paste(\"AUC = \", auc.EN.grade3.num))\n",
    "print(\"95% confidence interval:\")\n",
    "print(paste0(\"(\", auc.EN.grade3.num - 1.96*EN.grade3.num.auc_se,\n",
    "             \", \",\n",
    "             auc.EN.grade3.num + 1.96*EN.grade3.num.auc_se,\n",
    "             \")\"))"
   ]
  },
  {
   "cell_type": "markdown",
   "metadata": {},
   "source": [
    "<a id='subsec:ENgrade5plus'></a>\n",
    "### Grade 5"
   ]
  },
  {
   "cell_type": "code",
   "execution_count": 29,
   "metadata": {},
   "outputs": [
    {
     "data": {
      "text/plain": [
       "Time difference of 2.239846 mins"
      ]
     },
     "metadata": {},
     "output_type": "display_data"
    },
    {
     "data": {
      "text/plain": [
       "Time difference of 3.214388 mins"
      ]
     },
     "metadata": {},
     "output_type": "display_data"
    }
   ],
   "source": [
    "t0 <- Sys.time()\n",
    "EN_model.grade5plus.read <- cv.glmnet(x=X.grade5plus.read,\n",
    "                                      y=train.grade5plus.read[, 1], #y.grade5plus.read,\n",
    "                                      family=\"binomial\",\n",
    "                                      alpha=alpha,\n",
    "                                      type.measure=\"class\",\n",
    "                                      weights=weights.grade5plus.read,\n",
    "                                      parallel=T)\n",
    "Sys.time() - t0\n",
    "\n",
    "t0 <- Sys.time()\n",
    "EN_model.grade5plus.num <- cv.glmnet(x=X.grade5plus.num,\n",
    "                                 y=train.grade5plus.num[, 1], #y.grade5plus.num,\n",
    "                                 family=\"binomial\",\n",
    "                                 alpha=alpha,\n",
    "                                 type.measure=\"class\",\n",
    "                                 weights=weights.grade5plus.num,\n",
    "                                 parallel=T)\n",
    "Sys.time() - t0\n",
    "\n"
   ]
  },
  {
   "cell_type": "code",
   "execution_count": 30,
   "metadata": {},
   "outputs": [
    {
     "data": {
      "text/plain": [
       "39 x 1 sparse Matrix of class \"dgCMatrix\"\n",
       "                                     1\n",
       "(Intercept)                -0.08688305\n",
       "(Intercept)                 .         \n",
       "grade7                     -0.26095441\n",
       "grade9                      0.05096113\n",
       "private1                   -0.12297276\n",
       "age                         0.16013991\n",
       "female1                    -0.38959576\n",
       "indigenous1                 0.38881633\n",
       "LBOTE1                      0.13982003\n",
       "stateNSW                   -0.05404376\n",
       "stateNT                     .         \n",
       "stateQLD                    0.10862916\n",
       "stateSA                     0.07360182\n",
       "stateTAS                    .         \n",
       "stateVIC                    .         \n",
       "stateWA                     0.03810633\n",
       "sameschool1                -0.21735937\n",
       "mumschool2                 -0.02446997\n",
       "mumschool3                 -0.07429947\n",
       "mumschool4                 -0.24726836\n",
       "mumhighed6                 -0.10981198\n",
       "mumhighed7                 -0.45459045\n",
       "mumhighed8                  0.01939618\n",
       "mumoccup2                   0.01139395\n",
       "mumoccup3                   0.01285195\n",
       "mumoccup4                   0.08315044\n",
       "mumoccup8                   0.09870274\n",
       "dadschool2                 -0.06886490\n",
       "dadschool3                 -0.11604176\n",
       "dadschool4                 -0.25158855\n",
       "dadhighed6                 -0.15189178\n",
       "dadhighed7                 -0.50102224\n",
       "dadhighed8                  0.02600520\n",
       "dadoccup2                   0.07957261\n",
       "dadoccup3                   0.19063524\n",
       "dadoccup4                   0.32242985\n",
       "dadoccup8                   0.34315946\n",
       "prevreadriskBelow Standard  2.03586881\n",
       "prevnumriskBelow Standard   1.37990377"
      ]
     },
     "metadata": {},
     "output_type": "display_data"
    },
    {
     "data": {
      "text/plain": [
       "39 x 1 sparse Matrix of class \"dgCMatrix\"\n",
       "                                      1\n",
       "(Intercept)                -0.033899233\n",
       "(Intercept)                 .          \n",
       "grade7                     -0.636428093\n",
       "grade9                     -0.371656159\n",
       "private1                   -0.076924025\n",
       "age                         0.078175749\n",
       "female1                     0.294170092\n",
       "indigenous1                 0.454005547\n",
       "LBOTE1                      0.005147201\n",
       "stateNSW                   -0.090686164\n",
       "stateNT                     .          \n",
       "stateQLD                   -0.139731336\n",
       "stateSA                     0.094104651\n",
       "stateTAS                    0.046929848\n",
       "stateVIC                    .          \n",
       "stateWA                    -0.074252731\n",
       "sameschool1                -0.276966138\n",
       "mumschool2                  .          \n",
       "mumschool3                 -0.058856857\n",
       "mumschool4                 -0.243538698\n",
       "mumhighed6                 -0.072177243\n",
       "mumhighed7                 -0.476566139\n",
       "mumhighed8                 -0.003133080\n",
       "mumoccup2                   .          \n",
       "mumoccup3                   0.014359193\n",
       "mumoccup4                   0.085324115\n",
       "mumoccup8                   0.094653772\n",
       "dadschool2                 -0.002266449\n",
       "dadschool3                 -0.089109588\n",
       "dadschool4                 -0.220593103\n",
       "dadhighed6                 -0.141223467\n",
       "dadhighed7                 -0.494479080\n",
       "dadhighed8                  0.025557034\n",
       "dadoccup2                   0.047747478\n",
       "dadoccup3                   0.192202913\n",
       "dadoccup4                   0.363583477\n",
       "dadoccup8                   0.416154234\n",
       "prevreadriskBelow Standard  1.226307669\n",
       "prevnumriskBelow Standard   2.200938248"
      ]
     },
     "metadata": {},
     "output_type": "display_data"
    }
   ],
   "source": [
    "coef(EN_model.grade5plus.read, s='lambda.min')\n",
    "coef(EN_model.grade5plus.num, s='lambda.min')"
   ]
  },
  {
   "cell_type": "code",
   "execution_count": 31,
   "metadata": {},
   "outputs": [],
   "source": [
    "# Predicted probabilities\n",
    "EN_preds.grade5plus.read <- predict(EN_model.grade5plus.read,\n",
    "                                    s='lambda.min',\n",
    "                                    newx=X.test.grade5plus.read,\n",
    "                                    type='response')\n",
    "EN_preds.grade5plus.num <- predict(EN_model.grade5plus.num,\n",
    "                                   s='lambda.min',\n",
    "                                   newx=X.test.grade5plus.num,\n",
    "                                   type='response')\n",
    "\n",
    "# Predicted classes\n",
    "pred_classes.grade5plus.read <- factor(EN_preds.grade5plus.read>=0.5)\n",
    "levels(pred_classes.grade5plus.read) <- c(\"At Standard\", \"Below Standard\")\n",
    "\n",
    "pred_classes.grade5plus.num <- factor(EN_preds.grade5plus.num>=0.5)\n",
    "levels(pred_classes.grade5plus.num) <- c(\"At Standard\", \"Below Standard\")"
   ]
  },
  {
   "cell_type": "code",
   "execution_count": 32,
   "metadata": {},
   "outputs": [
    {
     "data": {
      "text/plain": [
       "Confusion Matrix and Statistics\n",
       "\n",
       "                Reference\n",
       "Prediction       At Standard Below Standard\n",
       "  At Standard         219228          12659\n",
       "  Below Standard       37307          26269\n",
       "                                          \n",
       "               Accuracy : 0.8309          \n",
       "                 95% CI : (0.8295, 0.8322)\n",
       "    No Information Rate : 0.8682          \n",
       "    P-Value [Acc > NIR] : 1               \n",
       "                                          \n",
       "                  Kappa : 0.4173          \n",
       " Mcnemar's Test P-Value : <2e-16          \n",
       "                                          \n",
       "            Sensitivity : 0.67481         \n",
       "            Specificity : 0.85457         \n",
       "         Pos Pred Value : 0.41319         \n",
       "         Neg Pred Value : 0.94541         \n",
       "             Prevalence : 0.13175         \n",
       "         Detection Rate : 0.08891         \n",
       "   Detection Prevalence : 0.21517         \n",
       "      Balanced Accuracy : 0.76469         \n",
       "                                          \n",
       "       'Positive' Class : Below Standard  \n",
       "                                          "
      ]
     },
     "metadata": {},
     "output_type": "display_data"
    },
    {
     "data": {
      "text/plain": [
       "Confusion Matrix and Statistics\n",
       "\n",
       "                Reference\n",
       "Prediction       At Standard Below Standard\n",
       "  At Standard         216237          14468\n",
       "  Below Standard       36528          28230\n",
       "                                         \n",
       "               Accuracy : 0.8274         \n",
       "                 95% CI : (0.826, 0.8288)\n",
       "    No Information Rate : 0.8555         \n",
       "    P-Value [Acc > NIR] : 1              \n",
       "                                         \n",
       "                  Kappa : 0.4253         \n",
       " Mcnemar's Test P-Value : <2e-16         \n",
       "                                         \n",
       "            Sensitivity : 0.66116        \n",
       "            Specificity : 0.85549        \n",
       "         Pos Pred Value : 0.43593        \n",
       "         Neg Pred Value : 0.93729        \n",
       "             Prevalence : 0.14451        \n",
       "         Detection Rate : 0.09554        \n",
       "   Detection Prevalence : 0.21917        \n",
       "      Balanced Accuracy : 0.75832        \n",
       "                                         \n",
       "       'Positive' Class : Below Standard \n",
       "                                         "
      ]
     },
     "metadata": {},
     "output_type": "display_data"
    }
   ],
   "source": [
    "confusionMatrix(pred_classes.grade5plus.read,\n",
    "                test.grade5plus.read[, 1],\n",
    "                positive='Below Standard')\n",
    "confusionMatrix(pred_classes.grade5plus.num,\n",
    "                test.grade5plus.num[, 1],\n",
    "                positive='Below Standard')"
   ]
  },
  {
   "cell_type": "code",
   "execution_count": 33,
   "metadata": {},
   "outputs": [],
   "source": [
    "roc.EN.grade5plus.read <- roc(test.grade5plus.read[, 1], as.numeric(EN_preds.grade5plus.read))\n",
    "roc.EN.grade5plus.num <- roc(test.grade5plus.num[, 1], as.numeric(EN_preds.grade5plus.num))\n",
    "\n",
    "auc.EN.grade5plus.read <- pROC::auc(roc.EN.grade5plus.read)\n",
    "auc.EN.grade5plus.num <- pROC::auc(roc.EN.grade5plus.num)"
   ]
  },
  {
   "cell_type": "code",
   "execution_count": 34,
   "metadata": {},
   "outputs": [
    {
     "name": "stdout",
     "output_type": "stream",
     "text": [
      "[1] \"Elastic Net regression, grade 5+\"\n",
      "\n",
      "[1] \"Reading\"\n",
      "[1] \"AUC =  0.838807213431849\"\n",
      "[1] \"95% confidence interval:\"\n",
      "[1] \"(0.836579028310337, 0.841035398553362)\"\n",
      "\n",
      "[1] \"Numeracy\"\n",
      "[1] \"AUC =  0.832370128585906\"\n",
      "[1] \"95% confidence interval:\"\n",
      "[1] \"(0.830192336240765, 0.834547920931047)\"\n"
     ]
    }
   ],
   "source": [
    "EN.grade5plus.read.auc_se <- sqrt(var(roc.EN.grade5plus.read))\n",
    "EN.grade5plus.num.auc_se <- sqrt(var(roc.EN.grade5plus.num))\n",
    "\n",
    "\n",
    "print(\"Elastic Net regression, grade 5+\")\n",
    "cat('\\n')\n",
    "print(\"Reading\")\n",
    "print(paste(\"AUC = \", auc.EN.grade5plus.read))\n",
    "print(\"95% confidence interval:\")\n",
    "print(paste0(\"(\", auc.EN.grade5plus.read - 1.96*EN.grade5plus.read.auc_se,\n",
    "             \", \",\n",
    "             auc.EN.grade5plus.read + 1.96*EN.grade5plus.read.auc_se,\n",
    "             \")\"))\n",
    "cat('\\n')\n",
    "print(\"Numeracy\")\n",
    "print(paste(\"AUC = \", auc.EN.grade5plus.num))\n",
    "print(\"95% confidence interval:\")\n",
    "print(paste0(\"(\", auc.EN.grade5plus.num - 1.96*EN.grade5plus.num.auc_se,\n",
    "             \", \",\n",
    "             auc.EN.grade5plus.num + 1.96*EN.grade5plus.num.auc_se,\n",
    "             \")\"))"
   ]
  },
  {
   "cell_type": "markdown",
   "metadata": {},
   "source": [
    "<a id='sec:decisiontrees'></a>\n",
    "## Decision Trees"
   ]
  },
  {
   "cell_type": "markdown",
   "metadata": {},
   "source": [
    "<a id='subsec:DTgrade3'></a>\n",
    "### Grade 3"
   ]
  },
  {
   "cell_type": "code",
   "execution_count": 35,
   "metadata": {},
   "outputs": [],
   "source": [
    "cart_model.grade3.read <- rpart(readrisk ~.,\n",
    "                                data=train.grade3.read,\n",
    "                                weights=weights.grade3.read)\n",
    "\n",
    "cart_model.grade3.num <- rpart(numrisk ~.,\n",
    "                               data=train.grade3.num,\n",
    "                               weights=weights.grade3.num)"
   ]
  },
  {
   "cell_type": "code",
   "execution_count": 36,
   "metadata": {},
   "outputs": [
    {
     "data": {
      "image/png": "[encoded data removed]",
      "text/plain": [
       "plot without title"
      ]
     },
     "metadata": {},
     "output_type": "display_data"
    },
    {
     "data": {
      "text/html": [
       "<strong>png:</strong> 2"
      ],
      "text/latex": [
       "\\textbf{png:} 2"
      ],
      "text/markdown": [
       "**png:** 2"
      ],
      "text/plain": [
       "png \n",
       "  2 "
      ]
     },
     "metadata": {},
     "output_type": "display_data"
    },
    {
     "data": {
      "text/html": [
       "<strong>png:</strong> 2"
      ],
      "text/latex": [
       "\\textbf{png:} 2"
      ],
      "text/markdown": [
       "**png:** 2"
      ],
      "text/plain": [
       "png \n",
       "  2 "
      ]
     },
     "metadata": {},
     "output_type": "display_data"
    },
    {
     "data": {
      "image/png": "[encoded data removed]",
      "text/plain": [
       "plot without title"
      ]
     },
     "metadata": {},
     "output_type": "display_data"
    }
   ],
   "source": [
    "options(repr.plot.width=7, repr.plot.height=7)\n",
    "\n",
    "# Plot the tree\n",
    "\n",
    "prp(cart_model.grade3.read,\n",
    "    fallen.leaves=T,\n",
    "    yesno=2,\n",
    "    varlen=0)\n",
    "prp(cart_model.grade3.num,\n",
    "    fallen.leaves=T,\n",
    "    yesno=2,\n",
    "    varlen=0)\n",
    "\n",
    "\n",
    "pdf('cart_grade3_read.pdf')\n",
    "prp(cart_model.grade3.read,\n",
    "    fallen.leaves=T,\n",
    "    yesno=2,\n",
    "    varlen=0)\n",
    "dev.off()\n",
    "pdf('cart_grade3_num.pdf')\n",
    "prp(cart_model.grade3.num,\n",
    "    fallen.leaves=T,\n",
    "    yesno=2,\n",
    "    varlen=0)\n",
    "dev.off()"
   ]
  },
  {
   "cell_type": "code",
   "execution_count": 37,
   "metadata": {},
   "outputs": [],
   "source": [
    "# Predicted probabilities\n",
    "cart_preds.grade3.read <- predict(cart_model.grade3.read,\n",
    "                                  newdata=test.grade3.read[, -1], type='prob')[, 2]\n",
    "cart_preds.grade3.num <- predict(cart_model.grade3.num,\n",
    "                                 newdata=test.grade3.num[, -1], type='prob')[, 2]\n",
    "\n",
    "# Predicted classes\n",
    "pred_classes.grade3.read <- predict(cart_model.grade3.read, newdata=test.grade3.read[, -1], type='class')\n",
    "pred_classes.grade3.num <- predict(cart_model.grade3.num, newdata=test.grade3.num[, -1], type='class')"
   ]
  },
  {
   "cell_type": "code",
   "execution_count": 38,
   "metadata": {},
   "outputs": [
    {
     "data": {
      "text/plain": [
       "Confusion Matrix and Statistics\n",
       "\n",
       "                Reference\n",
       "Prediction       At Standard Below Standard\n",
       "  At Standard          60687           3379\n",
       "  Below Standard       43248           7957\n",
       "                                          \n",
       "               Accuracy : 0.5955          \n",
       "                 95% CI : (0.5927, 0.5983)\n",
       "    No Information Rate : 0.9017          \n",
       "    P-Value [Acc > NIR] : 1               \n",
       "                                          \n",
       "                  Kappa : 0.1114          \n",
       " Mcnemar's Test P-Value : <2e-16          \n",
       "                                          \n",
       "            Sensitivity : 0.70192         \n",
       "            Specificity : 0.58389         \n",
       "         Pos Pred Value : 0.15539         \n",
       "         Neg Pred Value : 0.94726         \n",
       "             Prevalence : 0.09834         \n",
       "         Detection Rate : 0.06903         \n",
       "   Detection Prevalence : 0.44421         \n",
       "      Balanced Accuracy : 0.64291         \n",
       "                                          \n",
       "       'Positive' Class : Below Standard  \n",
       "                                          "
      ]
     },
     "metadata": {},
     "output_type": "display_data"
    },
    {
     "data": {
      "text/plain": [
       "Confusion Matrix and Statistics\n",
       "\n",
       "                Reference\n",
       "Prediction       At Standard Below Standard\n",
       "  At Standard          58063           3028\n",
       "  Below Standard       46476           7705\n",
       "                                          \n",
       "               Accuracy : 0.5705          \n",
       "                 95% CI : (0.5677, 0.5734)\n",
       "    No Information Rate : 0.9069          \n",
       "    P-Value [Acc > NIR] : 1               \n",
       "                                          \n",
       "                  Kappa : 0.097           \n",
       " Mcnemar's Test P-Value : <2e-16          \n",
       "                                          \n",
       "            Sensitivity : 0.71788         \n",
       "            Specificity : 0.55542         \n",
       "         Pos Pred Value : 0.14221         \n",
       "         Neg Pred Value : 0.95043         \n",
       "             Prevalence : 0.09311         \n",
       "         Detection Rate : 0.06684         \n",
       "   Detection Prevalence : 0.47003         \n",
       "      Balanced Accuracy : 0.63665         \n",
       "                                          \n",
       "       'Positive' Class : Below Standard  \n",
       "                                          "
      ]
     },
     "metadata": {},
     "output_type": "display_data"
    }
   ],
   "source": [
    "confusionMatrix(pred_classes.grade3.read,\n",
    "                test.grade3.read[, 1],\n",
    "                positive='Below Standard')\n",
    "confusionMatrix(pred_classes.grade3.num,\n",
    "                test.grade3.num[, 1],\n",
    "                positive='Below Standard')"
   ]
  },
  {
   "cell_type": "code",
   "execution_count": 39,
   "metadata": {},
   "outputs": [],
   "source": [
    "roc.cart.grade3.read <- roc(factor(test.grade3.read[, 1]), cart_preds.grade3.read)\n",
    "roc.cart.grade3.num <- roc(factor(test.grade3.num[, 1]), cart_preds.grade3.num)\n",
    "\n",
    "auc.cart.grade3.read <- pROC::auc(roc.cart.grade3.read)\n",
    "auc.cart.grade3.num <- pROC::auc(roc.cart.grade3.num)"
   ]
  },
  {
   "cell_type": "code",
   "execution_count": 40,
   "metadata": {},
   "outputs": [
    {
     "name": "stdout",
     "output_type": "stream",
     "text": [
      "[1] \"Decision Tree, grade 3\"\n",
      "\n",
      "[1] \"Reading\"\n",
      "[1] \"AUC =  0.655152873116133\"\n",
      "[1] \"95% confidence interval:\"\n",
      "[1] \"(0.650724809407479, 0.659580936824788)\"\n",
      "\n",
      "[1] \"Numeracy\"\n",
      "[1] \"AUC =  0.667791233022461\"\n",
      "[1] \"95% confidence interval:\"\n",
      "[1] \"(0.662763628268862, 0.67281883777606)\"\n"
     ]
    }
   ],
   "source": [
    "cart.grade3.read.auc_se <- sqrt(var(roc.cart.grade3.read))\n",
    "cart.grade3.num.auc_se <- sqrt(var(roc.cart.grade3.num))\n",
    "\n",
    "\n",
    "print(\"Decision Tree, grade 3\")\n",
    "cat('\\n')\n",
    "print(\"Reading\")\n",
    "print(paste(\"AUC = \", auc.cart.grade3.read))\n",
    "print(\"95% confidence interval:\")\n",
    "print(paste0(\"(\", auc.cart.grade3.read - 1.96*cart.grade3.read.auc_se,\n",
    "             \", \",\n",
    "             auc.cart.grade3.read + 1.96*cart.grade3.read.auc_se,\n",
    "             \")\"))\n",
    "cat('\\n')\n",
    "print(\"Numeracy\")\n",
    "print(paste(\"AUC = \", auc.cart.grade3.num))\n",
    "print(\"95% confidence interval:\")\n",
    "print(paste0(\"(\", auc.cart.grade3.num - 1.96*cart.grade3.num.auc_se,\n",
    "             \", \",\n",
    "             auc.cart.grade3.num + 1.96*cart.grade3.num.auc_se,\n",
    "             \")\"))"
   ]
  },
  {
   "cell_type": "markdown",
   "metadata": {},
   "source": [
    "<a id='subsec:DTgrade5plus'></a>\n",
    "### Grade 5+"
   ]
  },
  {
   "cell_type": "code",
   "execution_count": 41,
   "metadata": {},
   "outputs": [],
   "source": [
    "cart_model.grade5plus.read <- rpart(readrisk ~.,\n",
    "                                    data=train.grade5plus.read,\n",
    "                                    weights=weights.grade5plus.read)\n",
    "\n",
    "cart_model.grade5plus.num <- rpart(numrisk ~.,\n",
    "                                   data=train.grade5plus.num,\n",
    "                                   weights=weights.grade5plus.num)"
   ]
  },
  {
   "cell_type": "code",
   "execution_count": 42,
   "metadata": {},
   "outputs": [
    {
     "data": {
      "image/png": "[encoded data removed]",
      "text/plain": [
       "plot without title"
      ]
     },
     "metadata": {},
     "output_type": "display_data"
    },
    {
     "data": {
      "text/html": [
       "<strong>png:</strong> 2"
      ],
      "text/latex": [
       "\\textbf{png:} 2"
      ],
      "text/markdown": [
       "**png:** 2"
      ],
      "text/plain": [
       "png \n",
       "  2 "
      ]
     },
     "metadata": {},
     "output_type": "display_data"
    },
    {
     "data": {
      "text/html": [
       "<strong>png:</strong> 2"
      ],
      "text/latex": [
       "\\textbf{png:} 2"
      ],
      "text/markdown": [
       "**png:** 2"
      ],
      "text/plain": [
       "png \n",
       "  2 "
      ]
     },
     "metadata": {},
     "output_type": "display_data"
    },
    {
     "data": {
      "image/png": "[encoded data removed]",
      "text/plain": [
       "plot without title"
      ]
     },
     "metadata": {},
     "output_type": "display_data"
    }
   ],
   "source": [
    "# Plot the tree\n",
    "prp(cart_model.grade5plus.read,\n",
    "    fallen.leaves=T,\n",
    "    yesno=2,\n",
    "    varlen=0,\n",
    "    faclen=0)\n",
    "prp(cart_model.grade5plus.num,\n",
    "    fallen.leaves=T,\n",
    "    yesno=2,\n",
    "    varlen=0,\n",
    "    faclen=0)\n",
    "\n",
    "pdf('cart_grade5plus_read.pdf')\n",
    "prp(cart_model.grade5plus.read,\n",
    "    fallen.leaves=T,\n",
    "    yesno=2,\n",
    "    varlen=0,\n",
    "    faclen=0)\n",
    "dev.off()\n",
    "pdf('cart_grade5plus_num.pdf')\n",
    "prp(cart_model.grade5plus.num,\n",
    "    fallen.leaves=T,\n",
    "    yesno=2,\n",
    "    varlen=0,\n",
    "    faclen=0)\n",
    "dev.off()"
   ]
  },
  {
   "cell_type": "code",
   "execution_count": 43,
   "metadata": {},
   "outputs": [],
   "source": [
    "# Predicted probabilities\n",
    "cart_preds.grade5plus.read <- predict(cart_model.grade5plus.read,\n",
    "                                      newdata=test.grade5plus.read[, -1],\n",
    "                                      type='prob')[, 2]\n",
    "cart_preds.grade5plus.num <- predict(cart_model.grade5plus.num,\n",
    "                                     newdata=test.grade5plus.num[, -1],\n",
    "                                     type='prob')[, 2]\n",
    "\n",
    "# Predicted classes\n",
    "pred_classes.grade5plus.read <- predict(cart_model.grade5plus.read,\n",
    "                                        newdata=test.grade5plus.read[, -1],\n",
    "                                        type='class')\n",
    "pred_classes.grade5plus.num <- predict(cart_model.grade5plus.num,\n",
    "                                       newdata=test.grade5plus.num[, -1],\n",
    "                                       type='class')"
   ]
  },
  {
   "cell_type": "code",
   "execution_count": 44,
   "metadata": {},
   "outputs": [
    {
     "data": {
      "text/plain": [
       "Confusion Matrix and Statistics\n",
       "\n",
       "                Reference\n",
       "Prediction       At Standard Below Standard\n",
       "  At Standard         227042          14276\n",
       "  Below Standard       29493          24652\n",
       "                                          \n",
       "               Accuracy : 0.8519          \n",
       "                 95% CI : (0.8506, 0.8531)\n",
       "    No Information Rate : 0.8682          \n",
       "    P-Value [Acc > NIR] : 1               \n",
       "                                          \n",
       "                  Kappa : 0.4446          \n",
       " Mcnemar's Test P-Value : <2e-16          \n",
       "                                          \n",
       "            Sensitivity : 0.8850          \n",
       "            Specificity : 0.6333          \n",
       "         Pos Pred Value : 0.9408          \n",
       "         Neg Pred Value : 0.4553          \n",
       "             Prevalence : 0.8682          \n",
       "         Detection Rate : 0.7684          \n",
       "   Detection Prevalence : 0.8167          \n",
       "      Balanced Accuracy : 0.7592          \n",
       "                                          \n",
       "       'Positive' Class : At Standard     \n",
       "                                          "
      ]
     },
     "metadata": {},
     "output_type": "display_data"
    },
    {
     "data": {
      "text/plain": [
       "Confusion Matrix and Statistics\n",
       "\n",
       "                Reference\n",
       "Prediction       At Standard Below Standard\n",
       "  At Standard         224597          16466\n",
       "  Below Standard       28168          26232\n",
       "                                          \n",
       "               Accuracy : 0.8489          \n",
       "                 95% CI : (0.8476, 0.8502)\n",
       "    No Information Rate : 0.8555          \n",
       "    P-Value [Acc > NIR] : 1               \n",
       "                                          \n",
       "                  Kappa : 0.4515          \n",
       " Mcnemar's Test P-Value : <2e-16          \n",
       "                                          \n",
       "            Sensitivity : 0.8886          \n",
       "            Specificity : 0.6144          \n",
       "         Pos Pred Value : 0.9317          \n",
       "         Neg Pred Value : 0.4822          \n",
       "             Prevalence : 0.8555          \n",
       "         Detection Rate : 0.7602          \n",
       "   Detection Prevalence : 0.8159          \n",
       "      Balanced Accuracy : 0.7515          \n",
       "                                          \n",
       "       'Positive' Class : At Standard     \n",
       "                                          "
      ]
     },
     "metadata": {},
     "output_type": "display_data"
    }
   ],
   "source": [
    "confusionMatrix(pred_classes.grade5plus.read, test.grade5plus.read[, 1])\n",
    "confusionMatrix(pred_classes.grade5plus.num, test.grade5plus.num[, 1])"
   ]
  },
  {
   "cell_type": "code",
   "execution_count": 45,
   "metadata": {},
   "outputs": [],
   "source": [
    "roc.cart.grade5plus.read <- roc(test.grade5plus.read[, 1], cart_preds.grade5plus.read)\n",
    "roc.cart.grade5plus.num <- roc(test.grade5plus.num[, 1], cart_preds.grade5plus.num)\n",
    "\n",
    "auc.cart.grade5plus.read <- pROC::auc(roc.cart.grade5plus.read)\n",
    "auc.cart.grade5plus.num <- pROC::auc(roc.cart.grade5plus.num)"
   ]
  },
  {
   "cell_type": "code",
   "execution_count": 46,
   "metadata": {
    "scrolled": true
   },
   "outputs": [
    {
     "name": "stdout",
     "output_type": "stream",
     "text": [
      "[1] \"Decision Tree, grade 5+\"\n",
      "\n",
      "[1] \"Reading\"\n",
      "[1] \"AUC =  0.767313353417619\"\n",
      "[1] \"95% confidence interval:\"\n",
      "[1] \"(0.764786722637736, 0.769839984197502)\"\n",
      "\n",
      "[1] \"Numeracy\"\n",
      "[1] \"AUC =  0.760718491240406\"\n",
      "[1] \"95% confidence interval:\"\n",
      "[1] \"(0.75827241780646, 0.763164564674352)\"\n"
     ]
    }
   ],
   "source": [
    "cart.grade5plus.read.auc_se <- sqrt(var(roc.cart.grade5plus.read))\n",
    "cart.grade5plus.num.auc_se <- sqrt(var(roc.cart.grade5plus.num))\n",
    "\n",
    "\n",
    "print(\"Decision Tree, grade 5+\")\n",
    "cat('\\n')\n",
    "print(\"Reading\")\n",
    "print(paste(\"AUC = \", auc.cart.grade5plus.read))\n",
    "print(\"95% confidence interval:\")\n",
    "print(paste0(\"(\", auc.cart.grade5plus.read - 1.96*cart.grade5plus.read.auc_se,\n",
    "             \", \",\n",
    "             auc.cart.grade5plus.read + 1.96*cart.grade5plus.read.auc_se,\n",
    "             \")\"))\n",
    "cat('\\n')\n",
    "print(\"Numeracy\")\n",
    "print(paste(\"AUC = \", auc.cart.grade5plus.num))\n",
    "print(\"95% confidence interval:\")\n",
    "print(paste0(\"(\", auc.cart.grade5plus.num - 1.96*cart.grade5plus.num.auc_se,\n",
    "             \", \",\n",
    "             auc.cart.grade5plus.num + 1.96*cart.grade5plus.num.auc_se,\n",
    "             \")\"))"
   ]
  },
  {
   "cell_type": "markdown",
   "metadata": {},
   "source": [
    "<a id='sec:randomforest'></a>\n",
    "# Random Forest"
   ]
  },
  {
   "cell_type": "markdown",
   "metadata": {},
   "source": [
    "<a id='subsec:randomforest_grade3'></a>\n",
    "### Grade 3\n"
   ]
  },
  {
   "cell_type": "code",
   "execution_count": 47,
   "metadata": {},
   "outputs": [
    {
     "data": {
      "text/plain": [
       "Time difference of 30.36731 secs"
      ]
     },
     "metadata": {},
     "output_type": "display_data"
    },
    {
     "data": {
      "text/plain": [
       "Time difference of 59.72921 secs"
      ]
     },
     "metadata": {},
     "output_type": "display_data"
    }
   ],
   "source": [
    "n.trees <- 500\n",
    "\n",
    "t0 <- Sys.time()\n",
    "RF_model.grade3.read <- ranger(readrisk ~.,\n",
    "                               data=train.grade3.read,\n",
    "                               num.trees=n.trees,\n",
    "                               case.weights=weights.grade3.read,\n",
    "                               probability=TRUE)\n",
    "\n",
    "Sys.time() - t0\n",
    "RF_model.grade3.num <- ranger(numrisk ~.,\n",
    "                              data=train.grade3.num,\n",
    "                              num.trees=n.trees,\n",
    "                              case.weights=weights.grade3.num,\n",
    "                              probability=TRUE)\n",
    "Sys.time() - t0"
   ]
  },
  {
   "cell_type": "code",
   "execution_count": 48,
   "metadata": {},
   "outputs": [],
   "source": [
    "RF_preds.grade3.read <- predict(RF_model.grade3.read,\n",
    "                                data=test.grade3.read[, -1], type='response')$predictions[, 2]\n",
    "pred_classes.grade3.read <- factor(RF_preds.grade3.read>= 0.5)\n",
    "levels(pred_classes.grade3.read) <- c(\"At Standard\", \"Below Standard\")\n",
    "\n",
    "RF_preds.grade3.num <- predict(RF_model.grade3.num,\n",
    "                               data=test.grade3.num[, -1], type='response')$predictions[, 2]\n",
    "pred_classes.grade3.num <- factor(RF_preds.grade3.num>= 0.5)\n",
    "levels(pred_classes.grade3.num) <- c(\"At Standard\", \"Below Standard\")"
   ]
  },
  {
   "cell_type": "code",
   "execution_count": 49,
   "metadata": {},
   "outputs": [
    {
     "data": {
      "text/plain": [
       "Confusion Matrix and Statistics\n",
       "\n",
       "                Reference\n",
       "Prediction       At Standard Below Standard\n",
       "  At Standard          81828           6129\n",
       "  Below Standard       22107           5207\n",
       "                                          \n",
       "               Accuracy : 0.755           \n",
       "                 95% CI : (0.7526, 0.7575)\n",
       "    No Information Rate : 0.9017          \n",
       "    P-Value [Acc > NIR] : 1               \n",
       "                                          \n",
       "                  Kappa : 0.1515          \n",
       " Mcnemar's Test P-Value : <2e-16          \n",
       "                                          \n",
       "            Sensitivity : 0.45933         \n",
       "            Specificity : 0.78730         \n",
       "         Pos Pred Value : 0.19063         \n",
       "         Neg Pred Value : 0.93032         \n",
       "             Prevalence : 0.09834         \n",
       "         Detection Rate : 0.04517         \n",
       "   Detection Prevalence : 0.23695         \n",
       "      Balanced Accuracy : 0.62332         \n",
       "                                          \n",
       "       'Positive' Class : Below Standard  \n",
       "                                          "
      ]
     },
     "metadata": {},
     "output_type": "display_data"
    },
    {
     "data": {
      "text/plain": [
       "Confusion Matrix and Statistics\n",
       "\n",
       "                Reference\n",
       "Prediction       At Standard Below Standard\n",
       "  At Standard          83887           6349\n",
       "  Below Standard       20652           4384\n",
       "                                          \n",
       "               Accuracy : 0.7658          \n",
       "                 95% CI : (0.7633, 0.7682)\n",
       "    No Information Rate : 0.9069          \n",
       "    P-Value [Acc > NIR] : 1               \n",
       "                                          \n",
       "                  Kappa : 0.132           \n",
       " Mcnemar's Test P-Value : <2e-16          \n",
       "                                          \n",
       "            Sensitivity : 0.40846         \n",
       "            Specificity : 0.80245         \n",
       "         Pos Pred Value : 0.17511         \n",
       "         Neg Pred Value : 0.92964         \n",
       "             Prevalence : 0.09311         \n",
       "         Detection Rate : 0.03803         \n",
       "   Detection Prevalence : 0.21719         \n",
       "      Balanced Accuracy : 0.60545         \n",
       "                                          \n",
       "       'Positive' Class : Below Standard  \n",
       "                                          "
      ]
     },
     "metadata": {},
     "output_type": "display_data"
    }
   ],
   "source": [
    "confusionMatrix(pred_classes.grade3.read,\n",
    "                test.grade3.read[, 1],\n",
    "                positive='Below Standard')\n",
    "confusionMatrix(pred_classes.grade3.num,\n",
    "                test.grade3.num[, 1],\n",
    "                positive='Below Standard')"
   ]
  },
  {
   "cell_type": "code",
   "execution_count": 50,
   "metadata": {},
   "outputs": [],
   "source": [
    "roc.rf.grade3.read <- roc(factor(test.grade3.read[, 1]), RF_preds.grade3.read)\n",
    "roc.rf.grade3.num <- roc(factor(test.grade3.num[, 1]), RF_preds.grade3.num)\n",
    "\n",
    "auc.rf.grade3.read <- pROC::auc(roc.rf.grade3.read)\n",
    "auc.rf.grade3.num <- pROC::auc(roc.rf.grade3.num)"
   ]
  },
  {
   "cell_type": "code",
   "execution_count": 51,
   "metadata": {},
   "outputs": [
    {
     "name": "stdout",
     "output_type": "stream",
     "text": [
      "[1] \"Decision Tree, grade 3\"\n",
      "\n",
      "[1] \"Reading\"\n",
      "[1] \"AUC =  0.696772410125228\"\n",
      "[1] \"95% confidence interval:\"\n",
      "[1] \"(0.691853419398387, 0.701691400852069)\"\n",
      "\n",
      "[1] \"Numeracy\"\n",
      "[1] \"AUC =  0.681156613704939\"\n",
      "[1] \"95% confidence interval:\"\n",
      "[1] \"(0.676053257662628, 0.68625996974725)\"\n"
     ]
    }
   ],
   "source": [
    "rf.grade3.read.auc_se <- sqrt(var(roc.rf.grade3.read))\n",
    "rf.grade3.num.auc_se <- sqrt(var(roc.rf.grade3.num))\n",
    "\n",
    "\n",
    "print(\"Decision Tree, grade 3\")\n",
    "cat('\\n')\n",
    "print(\"Reading\")\n",
    "print(paste(\"AUC = \", auc.rf.grade3.read))\n",
    "print(\"95% confidence interval:\")\n",
    "print(paste0(\"(\", auc.rf.grade3.read - 1.96*rf.grade3.read.auc_se,\n",
    "             \", \",\n",
    "             auc.rf.grade3.read + 1.96*rf.grade3.read.auc_se,\n",
    "             \")\"))\n",
    "cat('\\n')\n",
    "print(\"Numeracy\")\n",
    "print(paste(\"AUC = \", auc.rf.grade3.num))\n",
    "print(\"95% confidence interval:\")\n",
    "print(paste0(\"(\", auc.rf.grade3.num - 1.96*rf.grade3.num.auc_se,\n",
    "             \", \",\n",
    "             auc.rf.grade3.num + 1.96*rf.grade3.num.auc_se,\n",
    "             \")\"))"
   ]
  },
  {
   "cell_type": "markdown",
   "metadata": {},
   "source": [
    "<a id='subsec:randomforest_grade5plus'></a>\n",
    "### Grade 5+"
   ]
  },
  {
   "cell_type": "code",
   "execution_count": 52,
   "metadata": {},
   "outputs": [
    {
     "name": "stdout",
     "output_type": "stream",
     "text": [
      "Growing trees.. Progress: 24%. Estimated remaining time: 1 minute, 38 seconds.\n",
      "Growing trees.. Progress: 48%. Estimated remaining time: 1 minute, 6 seconds.\n",
      "Growing trees.. Progress: 73%. Estimated remaining time: 34 seconds.\n",
      "Growing trees.. Progress: 99%. Estimated remaining time: 0 seconds.\n"
     ]
    },
    {
     "data": {
      "text/plain": [
       "Time difference of 2.435911 mins"
      ]
     },
     "metadata": {},
     "output_type": "display_data"
    }
   ],
   "source": [
    "t0 <- Sys.time()\n",
    "RF_model.grade5plus.read <- ranger(readrisk ~.,\n",
    "                               data=train.grade5plus.read,\n",
    "                               num.trees=n.trees,\n",
    "                               case.weights=weights.grade5plus.read,\n",
    "                               probability=TRUE)\n",
    "Sys.time() - t0"
   ]
  },
  {
   "cell_type": "code",
   "execution_count": 53,
   "metadata": {},
   "outputs": [
    {
     "name": "stdout",
     "output_type": "stream",
     "text": [
      "Growing trees.. Progress: 24%. Estimated remaining time: 1 minute, 40 seconds.\n",
      "Growing trees.. Progress: 50%. Estimated remaining time: 1 minute, 2 seconds.\n",
      "Growing trees.. Progress: 76%. Estimated remaining time: 29 seconds.\n"
     ]
    },
    {
     "data": {
      "text/plain": [
       "Time difference of 4.84364 mins"
      ]
     },
     "metadata": {},
     "output_type": "display_data"
    }
   ],
   "source": [
    "\n",
    "RF_model.grade5plus.num <- ranger(numrisk ~.,\n",
    "                              data=train.grade5plus.num,\n",
    "                              num.trees=n.trees,\n",
    "                              case.weights=weights.grade5plus.num,\n",
    "                              probability=TRUE)\n",
    "Sys.time() - t0"
   ]
  },
  {
   "cell_type": "code",
   "execution_count": 54,
   "metadata": {},
   "outputs": [],
   "source": [
    "RF_preds.grade5plus.read <- predict(RF_model.grade5plus.read,\n",
    "                                data=test.grade5plus.read[, -1], type='response')$predictions[, 2]\n",
    "pred_classes.grade5plus.read <- factor(RF_preds.grade5plus.read>= 0.5)\n",
    "levels(pred_classes.grade5plus.read) <- c(\"At Standard\", \"Below Standard\")\n",
    "\n",
    "RF_preds.grade5plus.num <- predict(RF_model.grade5plus.num,\n",
    "                               data=test.grade5plus.num[, -1], type='response')$predictions[, 2]\n",
    "pred_classes.grade5plus.num <- factor(RF_preds.grade5plus.num>= 0.5)\n",
    "levels(pred_classes.grade5plus.num) <- c(\"At Standard\", \"Below Standard\")"
   ]
  },
  {
   "cell_type": "code",
   "execution_count": 55,
   "metadata": {},
   "outputs": [
    {
     "data": {
      "text/plain": [
       "Confusion Matrix and Statistics\n",
       "\n",
       "                Reference\n",
       "Prediction       At Standard Below Standard\n",
       "  At Standard         223744          14275\n",
       "  Below Standard       32791          24653\n",
       "                                         \n",
       "               Accuracy : 0.8407         \n",
       "                 95% CI : (0.8394, 0.842)\n",
       "    No Information Rate : 0.8682         \n",
       "    P-Value [Acc > NIR] : 1              \n",
       "                                         \n",
       "                  Kappa : 0.4206         \n",
       " Mcnemar's Test P-Value : <2e-16         \n",
       "                                         \n",
       "            Sensitivity : 0.63330        \n",
       "            Specificity : 0.87218        \n",
       "         Pos Pred Value : 0.42917        \n",
       "         Neg Pred Value : 0.94003        \n",
       "             Prevalence : 0.13175        \n",
       "         Detection Rate : 0.08344        \n",
       "   Detection Prevalence : 0.19442        \n",
       "      Balanced Accuracy : 0.75274        \n",
       "                                         \n",
       "       'Positive' Class : Below Standard \n",
       "                                         "
      ]
     },
     "metadata": {},
     "output_type": "display_data"
    },
    {
     "data": {
      "text/plain": [
       "Confusion Matrix and Statistics\n",
       "\n",
       "                Reference\n",
       "Prediction       At Standard Below Standard\n",
       "  At Standard         220715          16027\n",
       "  Below Standard       32050          26671\n",
       "                                          \n",
       "               Accuracy : 0.8373          \n",
       "                 95% CI : (0.8359, 0.8386)\n",
       "    No Information Rate : 0.8555          \n",
       "    P-Value [Acc > NIR] : 1               \n",
       "                                          \n",
       "                  Kappa : 0.4307          \n",
       " Mcnemar's Test P-Value : <2e-16          \n",
       "                                          \n",
       "            Sensitivity : 0.62464         \n",
       "            Specificity : 0.87320         \n",
       "         Pos Pred Value : 0.45420         \n",
       "         Neg Pred Value : 0.93230         \n",
       "             Prevalence : 0.14451         \n",
       "         Detection Rate : 0.09027         \n",
       "   Detection Prevalence : 0.19874         \n",
       "      Balanced Accuracy : 0.74892         \n",
       "                                          \n",
       "       'Positive' Class : Below Standard  \n",
       "                                          "
      ]
     },
     "metadata": {},
     "output_type": "display_data"
    }
   ],
   "source": [
    "confusionMatrix(pred_classes.grade5plus.read,\n",
    "                test.grade5plus.read[, 1],\n",
    "                positive='Below Standard')\n",
    "confusionMatrix(pred_classes.grade5plus.num,\n",
    "                test.grade5plus.num[, 1],\n",
    "                positive='Below Standard')"
   ]
  },
  {
   "cell_type": "code",
   "execution_count": 56,
   "metadata": {},
   "outputs": [],
   "source": [
    "roc.rf.grade5plus.read <- roc(factor(test.grade5plus.read[, 1]), RF_preds.grade5plus.read)\n",
    "roc.rf.grade5plus.num <- roc(factor(test.grade5plus.num[, 1]), RF_preds.grade5plus.num)\n",
    "\n",
    "auc.rf.grade5plus.read <- pROC::auc(roc.rf.grade5plus.read)\n",
    "auc.rf.grade5plus.num <- pROC::auc(roc.rf.grade5plus.num)"
   ]
  },
  {
   "cell_type": "code",
   "execution_count": 57,
   "metadata": {},
   "outputs": [
    {
     "name": "stdout",
     "output_type": "stream",
     "text": [
      "[1] \"Decision Tree, grade 3\"\n",
      "\n",
      "[1] \"Reading\"\n",
      "[1] \"AUC =  0.828454843844703\"\n",
      "[1] \"95% confidence interval:\"\n",
      "[1] \"(0.82614412073274, 0.830765566956665)\"\n",
      "\n",
      "[1] \"Numeracy\"\n",
      "[1] \"AUC =  0.82252722228793\"\n",
      "[1] \"95% confidence interval:\"\n",
      "[1] \"(0.820276595012077, 0.824777849563782)\"\n"
     ]
    }
   ],
   "source": [
    "rf.grade5plus.read.auc_se <- sqrt(var(roc.rf.grade5plus.read))\n",
    "rf.grade5plus.num.auc_se <- sqrt(var(roc.rf.grade5plus.num))\n",
    "\n",
    "\n",
    "print(\"Decision Tree, grade 3\")\n",
    "cat('\\n')\n",
    "print(\"Reading\")\n",
    "print(paste(\"AUC = \", auc.rf.grade5plus.read))\n",
    "print(\"95% confidence interval:\")\n",
    "print(paste0(\"(\", auc.rf.grade5plus.read - 1.96*rf.grade5plus.read.auc_se,\n",
    "             \", \",\n",
    "             auc.rf.grade5plus.read + 1.96*rf.grade5plus.read.auc_se,\n",
    "             \")\"))\n",
    "cat('\\n')\n",
    "print(\"Numeracy\")\n",
    "print(paste(\"AUC = \", auc.rf.grade5plus.num))\n",
    "print(\"95% confidence interval:\")\n",
    "print(paste0(\"(\", auc.rf.grade5plus.num - 1.96*rf.grade5plus.num.auc_se,\n",
    "             \", \",\n",
    "             auc.rf.grade5plus.num + 1.96*rf.grade5plus.num.auc_se,\n",
    "             \")\"))"
   ]
  },
  {
   "cell_type": "markdown",
   "metadata": {},
   "source": [
    "<a id='sec:neural_net'></a>\n",
    "## Neural Net\n",
    "\n",
    "We're going to use the Keras package with a tensorflow-gpu backend to estimate a multilayer perceptron with 4 hidden layers. Hidden layers have 256, 128, 64, and 32 hidden units respectively, all with rectilinear unit activation functions. After each hidden layer is a dropout layer with 20% dropout. \n",
    "\n",
    "The output layer contains 2 neurons, for At Standard and Below Standard probabilities, and has softmax activation.\n",
    "\n",
    "Training goes for 100 epochs."
   ]
  },
  {
   "cell_type": "code",
   "execution_count": 58,
   "metadata": {},
   "outputs": [],
   "source": [
    "# Training sets\n",
    "X.grade3.read <- model.matrix(readrisk ~., data=train.grade3.read)\n",
    "X.grade3.num <- model.matrix(numrisk ~., data=train.grade3.num)\n",
    "\n",
    "y.grade3.read <- as.factor(as.integer(train.grade3.read$readrisk)-1)\n",
    "y.grade3.read <- to_categorical(y.grade3.read, 2)\n",
    "\n",
    "y.grade3.num <- as.factor(as.integer(train.grade3.num$numrisk)-1)\n",
    "y.grade3.num <- to_categorical(y.grade3.num, 2)\n",
    "\n",
    "\n",
    "# Test sets\n",
    "X.test.grade3.read <- model.matrix(readrisk ~., data=test.grade3.read)\n",
    "y.test.grade3.read <- as.factor(as.integer(test.grade3.read$readrisk)-1)\n",
    "y.test.grade3.read <- to_categorical(y.test.grade3.read, 2)\n",
    "\n",
    "X.test.grade3.num <- model.matrix(numrisk ~., data=test.grade3.num)\n",
    "y.test.grade3.num <- as.factor(as.integer(test.grade3.num$numrisk)-1)\n",
    "y.test.grade3.num <- to_categorical(y.test.grade3.num, 2)"
   ]
  },
  {
   "cell_type": "markdown",
   "metadata": {},
   "source": [
    "<a id='subsec:neural_net'></a>\n",
    "### Grade 3"
   ]
  },
  {
   "cell_type": "code",
   "execution_count": 59,
   "metadata": {},
   "outputs": [
    {
     "name": "stdout",
     "output_type": "stream",
     "text": [
      "________________________________________________________________________________\n",
      "Layer (type)                        Output Shape                    Param #     \n",
      "================================================================================\n",
      "dense_1 (Dense)                     (None, 256)                     8704        \n",
      "________________________________________________________________________________\n",
      "dropout_1 (Dropout)                 (None, 256)                     0           \n",
      "________________________________________________________________________________\n",
      "dense_2 (Dense)                     (None, 128)                     32896       \n",
      "________________________________________________________________________________\n",
      "dropout_2 (Dropout)                 (None, 128)                     0           \n",
      "________________________________________________________________________________\n",
      "dense_3 (Dense)                     (None, 64)                      8256        \n",
      "________________________________________________________________________________\n",
      "dropout_3 (Dropout)                 (None, 64)                      0           \n",
      "________________________________________________________________________________\n",
      "dense_4 (Dense)                     (None, 32)                      2080        \n",
      "________________________________________________________________________________\n",
      "dropout_4 (Dropout)                 (None, 32)                      0           \n",
      "________________________________________________________________________________\n",
      "dense_5 (Dense)                     (None, 2)                       66          \n",
      "================================================================================\n",
      "Total params: 52,002\n",
      "Trainable params: 52,002\n",
      "Non-trainable params: 0\n",
      "________________________________________________________________________________\n"
     ]
    }
   ],
   "source": [
    "# Define our keras model\n",
    "model.grade3.read <- keras_model_sequential()\n",
    "model.grade3.read %>%\n",
    "    layer_dense(units=256, activation='relu', kernel_initializer='normal', input_shape=c(dim(X.grade3.read)[2])) %>%\n",
    "    layer_dropout(0.2) %>%\n",
    "    layer_dense(units=128, activation='relu', kernel_initializer='normal') %>%\n",
    "    layer_dropout(0.2) %>%\n",
    "    layer_dense(units=64, activation='relu', kernel_initializer='normal') %>%\n",
    "    layer_dropout(0.2) %>%\n",
    "    layer_dense(units=32, activation='relu', kernel_initializer='normal') %>%\n",
    "    layer_dropout(0.2) %>%\n",
    "    layer_dense(units=2, activation='softmax')\n",
    "summary(model.grade3.read)\n",
    "\n",
    "model.grade3.read %>% compile(\n",
    "      loss = 'categorical_crossentropy',\n",
    "      optimizer = optimizer_rmsprop(),\n",
    "      metrics = c('accuracy')\n",
    ")\n",
    "\n",
    "\n",
    "model.grade3.num <- keras_model_sequential()\n",
    "model.grade3.num %>%\n",
    "    layer_dense(units=256, activation='relu', kernel_initializer='normal', input_shape=c(dim(X.grade3.num)[2])) %>%\n",
    "    layer_dropout(0.2) %>%\n",
    "    layer_dense(units=128, activation='relu', kernel_initializer='normal') %>%\n",
    "    layer_dropout(0.2) %>%\n",
    "    layer_dense(units=64, activation='relu', kernel_initializer='normal') %>%\n",
    "    layer_dropout(0.2) %>%\n",
    "    layer_dense(units=32, activation='relu', kernel_initializer='normal') %>%\n",
    "    layer_dropout(0.2) %>%\n",
    "    layer_dense(units=2, activation='softmax')\n",
    "\n",
    "model.grade3.num %>% compile(\n",
    "      loss = 'categorical_crossentropy',\n",
    "      optimizer = optimizer_rmsprop(),\n",
    "      metrics = c('accuracy')\n",
    ")\n",
    "\n"
   ]
  },
  {
   "cell_type": "code",
   "execution_count": 60,
   "metadata": {},
   "outputs": [
    {
     "data": {
      "text/plain": [
       "Time difference of 8.145054 mins"
      ]
     },
     "metadata": {},
     "output_type": "display_data"
    }
   ],
   "source": [
    "# Train the model\n",
    "class_weight <- list(\"0\"=1,\n",
    "                     \"1\"=6)\n",
    "t0 <- Sys.time()\n",
    "history.grade3.read <- model.grade3.read %>% fit(\n",
    "      X.grade3.read, y.grade3.read, \n",
    "      epochs = 100, batch_size = 256, \n",
    "      validation_split = 0,\n",
    "      class_weight=class_weight\n",
    ")\n",
    "Sys.time() - t0\n"
   ]
  },
  {
   "cell_type": "code",
   "execution_count": 62,
   "metadata": {},
   "outputs": [
    {
     "data": {
      "text/plain": [
       "Time difference of 6.055967 mins"
      ]
     },
     "metadata": {},
     "output_type": "display_data"
    }
   ],
   "source": [
    "t0 <- Sys.time()\n",
    "history.grade3.num <- model.grade3.num %>% fit(\n",
    "      X.grade3.num, y.grade3.num, \n",
    "      epochs = 100, batch_size = 256, \n",
    "      validation_split = 0,\n",
    "      class_weight=class_weight\n",
    ")\n",
    "Sys.time() - t0\n"
   ]
  },
  {
   "cell_type": "code",
   "execution_count": 63,
   "metadata": {},
   "outputs": [],
   "source": [
    "NN_preds.grade3.read <- model.grade3.read %>% predict_proba(X.test.grade3.read)\n",
    "NN_preds.grade3.read <- NN_preds.grade3.read[, 2]\n",
    "\n",
    "NN_preds.grade3.num <- model.grade3.num %>% predict_proba(X.test.grade3.num)\n",
    "NN_preds.grade3.num <- NN_preds.grade3.num[, 2]\n",
    "\n",
    "\n",
    "# Predicted classes\n",
    "NN_classes.grade3.read <- model.grade3.read %>% predict_classes(X.test.grade3.read)\n",
    "NN_classes.grade3.read <- as.factor(NN_classes.grade3.read)\n",
    "levels(NN_classes.grade3.read) <- c(\"At Standard\", \"Below Standard\")\n",
    "\n",
    "NN_classes.grade3.num <- model.grade3.num %>% predict_classes(X.test.grade3.num)\n",
    "NN_classes.grade3.num <- as.factor(NN_classes.grade3.num)\n",
    "levels(NN_classes.grade3.num) <- c(\"At Standard\", \"Below Standard\")"
   ]
  },
  {
   "cell_type": "code",
   "execution_count": 64,
   "metadata": {},
   "outputs": [
    {
     "data": {
      "text/plain": [
       "Confusion Matrix and Statistics\n",
       "\n",
       "                Reference\n",
       "Prediction       At Standard Below Standard\n",
       "  At Standard          90623           7331\n",
       "  Below Standard       13312           4005\n",
       "                                          \n",
       "               Accuracy : 0.8209          \n",
       "                 95% CI : (0.8187, 0.8231)\n",
       "    No Information Rate : 0.9017          \n",
       "    P-Value [Acc > NIR] : 1               \n",
       "                                          \n",
       "                  Kappa : 0.1824          \n",
       " Mcnemar's Test P-Value : <2e-16          \n",
       "                                          \n",
       "            Sensitivity : 0.35330         \n",
       "            Specificity : 0.87192         \n",
       "         Pos Pred Value : 0.23128         \n",
       "         Neg Pred Value : 0.92516         \n",
       "             Prevalence : 0.09834         \n",
       "         Detection Rate : 0.03474         \n",
       "   Detection Prevalence : 0.15023         \n",
       "      Balanced Accuracy : 0.61261         \n",
       "                                          \n",
       "       'Positive' Class : Below Standard  \n",
       "                                          "
      ]
     },
     "metadata": {},
     "output_type": "display_data"
    },
    {
     "data": {
      "text/plain": [
       "Confusion Matrix and Statistics\n",
       "\n",
       "                Reference\n",
       "Prediction       At Standard Below Standard\n",
       "  At Standard          93664           7664\n",
       "  Below Standard       10875           3069\n",
       "                                         \n",
       "               Accuracy : 0.8392         \n",
       "                 95% CI : (0.837, 0.8413)\n",
       "    No Information Rate : 0.9069         \n",
       "    P-Value [Acc > NIR] : 1              \n",
       "                                         \n",
       "                  Kappa : 0.1604         \n",
       " Mcnemar's Test P-Value : <2e-16         \n",
       "                                         \n",
       "            Sensitivity : 0.28594        \n",
       "            Specificity : 0.89597        \n",
       "         Pos Pred Value : 0.22009        \n",
       "         Neg Pred Value : 0.92436        \n",
       "             Prevalence : 0.09311        \n",
       "         Detection Rate : 0.02662        \n",
       "   Detection Prevalence : 0.12097        \n",
       "      Balanced Accuracy : 0.59096        \n",
       "                                         \n",
       "       'Positive' Class : Below Standard \n",
       "                                         "
      ]
     },
     "metadata": {},
     "output_type": "display_data"
    }
   ],
   "source": [
    "confusionMatrix(NN_classes.grade3.read,\n",
    "                test.grade3.read[, 1],\n",
    "                positive='Below Standard')\n",
    "confusionMatrix(NN_classes.grade3.num,\n",
    "                test.grade3.num[, 1],\n",
    "                positive='Below Standard')"
   ]
  },
  {
   "cell_type": "code",
   "execution_count": 65,
   "metadata": {},
   "outputs": [],
   "source": [
    "roc.NN.grade3.read <- roc(test.grade3.read[, 1], NN_preds.grade3.read)\n",
    "roc.NN.grade3.num <- roc(test.grade3.num[, 1], NN_preds.grade3.num)\n",
    "\n",
    "auc.NN.grade3.read <- pROC::auc(roc.NN.grade3.read)\n",
    "auc.NN.grade3.num <- pROC::auc(roc.NN.grade3.num)"
   ]
  },
  {
   "cell_type": "code",
   "execution_count": 66,
   "metadata": {},
   "outputs": [
    {
     "name": "stdout",
     "output_type": "stream",
     "text": [
      "[1] \"Neural Net, grade 3\"\n",
      "\n",
      "[1] \"Reading\"\n",
      "[1] \"AUC =  0.717587867145537\"\n",
      "[1] \"95% confidence interval:\"\n",
      "[1] \"(0.712782649529348, 0.722393084761725)\"\n",
      "\n",
      "[1] \"Numeracy\"\n",
      "[1] \"AUC =  0.6996824162447\"\n",
      "[1] \"95% confidence interval:\"\n",
      "[1] \"(0.694685333332024, 0.704679499157376)\"\n"
     ]
    }
   ],
   "source": [
    "NN.grade3.read.auc_se <- sqrt(var(roc.NN.grade3.read))\n",
    "NN.grade3.num.auc_se <- sqrt(var(roc.NN.grade3.num))\n",
    "\n",
    "\n",
    "print(\"Neural Net, grade 3\")\n",
    "cat('\\n')\n",
    "print(\"Reading\")\n",
    "print(paste(\"AUC = \", auc.NN.grade3.read))\n",
    "print(\"95% confidence interval:\")\n",
    "print(paste0(\"(\", auc.NN.grade3.read - 1.96*NN.grade3.read.auc_se,\n",
    "             \", \",\n",
    "             auc.NN.grade3.read + 1.96*NN.grade3.read.auc_se,\n",
    "             \")\"))\n",
    "cat('\\n')\n",
    "print(\"Numeracy\")\n",
    "print(paste(\"AUC = \", auc.NN.grade3.num))\n",
    "print(\"95% confidence interval:\")\n",
    "print(paste0(\"(\", auc.NN.grade3.num - 1.96*NN.grade3.num.auc_se,\n",
    "             \", \",\n",
    "             auc.NN.grade3.num + 1.96*NN.grade3.num.auc_se,\n",
    "             \")\"))"
   ]
  },
  {
   "cell_type": "markdown",
   "metadata": {},
   "source": [
    "### Grade 5+"
   ]
  },
  {
   "cell_type": "code",
   "execution_count": 67,
   "metadata": {},
   "outputs": [],
   "source": [
    "# Training sets\n",
    "X.grade5plus.read <- model.matrix(readrisk ~., data=train.grade5plus.read)\n",
    "X.grade5plus.num <- model.matrix(numrisk ~., data=train.grade5plus.num)\n",
    "\n",
    "y.grade5plus.read <- as.factor(as.integer(train.grade5plus.read$readrisk)-1)\n",
    "y.grade5plus.read <- to_categorical(y.grade5plus.read, 2)\n",
    "\n",
    "y.grade5plus.num <- as.factor(as.integer(train.grade5plus.num$numrisk)-1)\n",
    "y.grade5plus.num <- to_categorical(y.grade5plus.num, 2)\n",
    "\n",
    "\n",
    "# Test sets\n",
    "X.test.grade5plus.read <- model.matrix(readrisk ~., data=test.grade5plus.read)\n",
    "y.test.grade5plus.read <- as.factor(as.integer(test.grade5plus.read$readrisk)-1)\n",
    "y.test.grade5plus.read <- to_categorical(y.test.grade5plus.read, 2)\n",
    "\n",
    "X.test.grade5plus.num <- model.matrix(numrisk ~., data=test.grade5plus.num)\n",
    "y.test.grade5plus.num <- as.factor(as.integer(test.grade5plus.num$numrisk)-1)\n",
    "y.test.grade5plus.num <- to_categorical(y.test.grade5plus.num, 2)"
   ]
  },
  {
   "cell_type": "code",
   "execution_count": 68,
   "metadata": {},
   "outputs": [],
   "source": [
    "# Define our keras model\n",
    "model.grade5plus.read <- keras_model_sequential()\n",
    "model.grade5plus.read %>%\n",
    "    layer_dense(units=256, activation='relu', kernel_initializer='normal', input_shape=c(dim(X.grade5plus.read)[2])) %>%\n",
    "    layer_dropout(0.2) %>%\n",
    "    layer_dense(units=128, activation='relu', kernel_initializer='normal') %>%\n",
    "    layer_dropout(0.2) %>%\n",
    "    layer_dense(units=64, activation='relu', kernel_initializer='normal') %>%\n",
    "    layer_dropout(0.2) %>%\n",
    "    layer_dense(units=32, activation='relu', kernel_initializer='normal') %>%\n",
    "    layer_dropout(0.2) %>%\n",
    "    layer_dense(units=2, activation='softmax')\n",
    "\n",
    "model.grade5plus.read %>% compile(\n",
    "      loss = 'categorical_crossentropy',\n",
    "      optimizer = optimizer_rmsprop(),\n",
    "      metrics = c('accuracy')\n",
    ")\n",
    "\n",
    "\n",
    "model.grade5plus.num <- keras_model_sequential()\n",
    "model.grade5plus.num %>%\n",
    "    layer_dense(units=256, activation='relu', kernel_initializer='normal', input_shape=c(dim(X.grade5plus.num)[2])) %>%\n",
    "    layer_dropout(0.2) %>%\n",
    "    layer_dense(units=128, activation='relu', kernel_initializer='normal') %>%\n",
    "    layer_dropout(0.2) %>%\n",
    "    layer_dense(units=64, activation='relu', kernel_initializer='normal') %>%\n",
    "    layer_dropout(0.2) %>%\n",
    "    layer_dense(units=32, activation='relu', kernel_initializer='normal') %>%\n",
    "    layer_dropout(0.2) %>%\n",
    "    layer_dense(units=2, activation='softmax')\n",
    "\n",
    "model.grade5plus.num %>% compile(\n",
    "      loss = 'categorical_crossentropy',\n",
    "      optimizer = optimizer_rmsprop(),\n",
    "      metrics = c('accuracy')\n",
    ")\n",
    "\n"
   ]
  },
  {
   "cell_type": "code",
   "execution_count": 69,
   "metadata": {},
   "outputs": [
    {
     "data": {
      "text/plain": [
       "Time difference of 22.19741 mins"
      ]
     },
     "metadata": {},
     "output_type": "display_data"
    }
   ],
   "source": [
    "# Train the model\n",
    "class_weight <- list(\"0\"=1,\n",
    "                     \"1\"=6)\n",
    "t0 <- Sys.time()\n",
    "history.grade5plus.read <- model.grade5plus.read %>% fit(\n",
    "      X.grade5plus.read, y.grade5plus.read, \n",
    "      epochs = 100, batch_size = 256, \n",
    "      validation_split = 0,\n",
    "      class_weight=class_weight\n",
    ")\n",
    "Sys.time() - t0"
   ]
  },
  {
   "cell_type": "code",
   "execution_count": 70,
   "metadata": {},
   "outputs": [
    {
     "data": {
      "text/plain": [
       "Time difference of 20.16444 mins"
      ]
     },
     "metadata": {},
     "output_type": "display_data"
    }
   ],
   "source": [
    "t0 <- Sys.time()\n",
    "history.grade5plus.num <- model.grade5plus.num %>% fit(\n",
    "      X.grade5plus.num, y.grade5plus.num, \n",
    "      epochs = 100, batch_size = 256, \n",
    "      validation_split = 0,\n",
    "      class_weight=class_weight\n",
    ")\n",
    "Sys.time() - t0\n"
   ]
  },
  {
   "cell_type": "code",
   "execution_count": 71,
   "metadata": {},
   "outputs": [],
   "source": [
    "NN_preds.grade5plus.read <- model.grade5plus.read %>% predict_proba(X.test.grade5plus.read)\n",
    "NN_preds.grade5plus.read <- NN_preds.grade5plus.read[, 2]\n",
    "\n",
    "NN_preds.grade5plus.num <- model.grade5plus.num %>% predict_proba(X.test.grade5plus.num)\n",
    "NN_preds.grade5plus.num <- NN_preds.grade5plus.num[, 2]\n",
    "\n",
    "\n",
    "# Predicted classes\n",
    "NN_classes.grade5plus.read <- model.grade5plus.read %>% predict_classes(X.test.grade5plus.read)\n",
    "NN_classes.grade5plus.read <- as.factor(NN_classes.grade5plus.read)\n",
    "levels(NN_classes.grade5plus.read) <- c(\"At Standard\", \"Below Standard\")\n",
    "\n",
    "NN_classes.grade5plus.num <- model.grade5plus.num %>% predict_classes(X.test.grade5plus.num)\n",
    "NN_classes.grade5plus.num <- as.factor(NN_classes.grade5plus.num)\n",
    "levels(NN_classes.grade5plus.num) <- c(\"At Standard\", \"Below Standard\")"
   ]
  },
  {
   "cell_type": "code",
   "execution_count": 72,
   "metadata": {},
   "outputs": [
    {
     "data": {
      "text/plain": [
       "Confusion Matrix and Statistics\n",
       "\n",
       "                Reference\n",
       "Prediction       At Standard Below Standard\n",
       "  At Standard         230858          15556\n",
       "  Below Standard       25677          23372\n",
       "                                          \n",
       "               Accuracy : 0.8604          \n",
       "                 95% CI : (0.8592, 0.8617)\n",
       "    No Information Rate : 0.8682          \n",
       "    P-Value [Acc > NIR] : 1               \n",
       "                                          \n",
       "                  Kappa : 0.4506          \n",
       " Mcnemar's Test P-Value : <2e-16          \n",
       "                                          \n",
       "            Sensitivity : 0.6004          \n",
       "            Specificity : 0.8999          \n",
       "         Pos Pred Value : 0.4765          \n",
       "         Neg Pred Value : 0.9369          \n",
       "             Prevalence : 0.1318          \n",
       "         Detection Rate : 0.0791          \n",
       "   Detection Prevalence : 0.1660          \n",
       "      Balanced Accuracy : 0.7501          \n",
       "                                          \n",
       "       'Positive' Class : Below Standard  \n",
       "                                          "
      ]
     },
     "metadata": {},
     "output_type": "display_data"
    },
    {
     "data": {
      "text/plain": [
       "Confusion Matrix and Statistics\n",
       "\n",
       "                Reference\n",
       "Prediction       At Standard Below Standard\n",
       "  At Standard         222356          16054\n",
       "  Below Standard       30409          26644\n",
       "                                          \n",
       "               Accuracy : 0.8427          \n",
       "                 95% CI : (0.8414, 0.8441)\n",
       "    No Information Rate : 0.8555          \n",
       "    P-Value [Acc > NIR] : 1               \n",
       "                                          \n",
       "                  Kappa : 0.442           \n",
       " Mcnemar's Test P-Value : <2e-16          \n",
       "                                          \n",
       "            Sensitivity : 0.62401         \n",
       "            Specificity : 0.87969         \n",
       "         Pos Pred Value : 0.46700         \n",
       "         Neg Pred Value : 0.93266         \n",
       "             Prevalence : 0.14451         \n",
       "         Detection Rate : 0.09018         \n",
       "   Detection Prevalence : 0.19310         \n",
       "      Balanced Accuracy : 0.75185         \n",
       "                                          \n",
       "       'Positive' Class : Below Standard  \n",
       "                                          "
      ]
     },
     "metadata": {},
     "output_type": "display_data"
    }
   ],
   "source": [
    "confusionMatrix(NN_classes.grade5plus.read,\n",
    "                test.grade5plus.read[, 1],\n",
    "                positive='Below Standard')\n",
    "confusionMatrix(NN_classes.grade5plus.num,\n",
    "                test.grade5plus.num[, 1],\n",
    "                positive='Below Standard')"
   ]
  },
  {
   "cell_type": "code",
   "execution_count": 73,
   "metadata": {},
   "outputs": [],
   "source": [
    "roc.NN.grade5plus.read <- roc(test.grade5plus.read[, 1], NN_preds.grade5plus.read)\n",
    "roc.NN.grade5plus.num <- roc(test.grade5plus.num[, 1], NN_preds.grade5plus.num)\n",
    "\n",
    "auc.NN.grade5plus.read <- pROC::auc(roc.NN.grade5plus.read)\n",
    "auc.NN.grade5plus.num <- pROC::auc(roc.NN.grade5plus.num)"
   ]
  },
  {
   "cell_type": "code",
   "execution_count": 74,
   "metadata": {},
   "outputs": [
    {
     "name": "stdout",
     "output_type": "stream",
     "text": [
      "[1] \"Neural Net, grade 5+\"\n",
      "\n",
      "[1] \"Reading\"\n",
      "[1] \"AUC =  0.832995569237718\"\n",
      "[1] \"95% confidence interval:\"\n",
      "[1] \"(0.830709574897744, 0.835281563577691)\"\n",
      "\n",
      "[1] \"Numeracy\"\n",
      "[1] \"AUC =  0.827269388061598\"\n",
      "[1] \"95% confidence interval:\"\n",
      "[1] \"(0.825027157970932, 0.829511618152265)\"\n"
     ]
    }
   ],
   "source": [
    "NN.grade5plus.read.auc_se <- sqrt(var(roc.NN.grade5plus.read))\n",
    "NN.grade5plus.num.auc_se <- sqrt(var(roc.NN.grade5plus.num))\n",
    "\n",
    "\n",
    "print(\"Neural Net, grade 5+\")\n",
    "cat('\\n')\n",
    "print(\"Reading\")\n",
    "print(paste(\"AUC = \", auc.NN.grade5plus.read))\n",
    "print(\"95% confidence interval:\")\n",
    "print(paste0(\"(\", auc.NN.grade5plus.read - 1.96*NN.grade5plus.read.auc_se,\n",
    "             \", \",\n",
    "             auc.NN.grade5plus.read + 1.96*NN.grade5plus.read.auc_se,\n",
    "             \")\"))\n",
    "cat('\\n')\n",
    "print(\"Numeracy\")\n",
    "print(paste(\"AUC = \", auc.NN.grade5plus.num))\n",
    "print(\"95% confidence interval:\")\n",
    "print(paste0(\"(\", auc.NN.grade5plus.num - 1.96*NN.grade5plus.num.auc_se,\n",
    "             \", \",\n",
    "             auc.NN.grade5plus.num + 1.96*NN.grade5plus.num.auc_se,\n",
    "             \")\"))"
   ]
  },
  {
   "cell_type": "markdown",
   "metadata": {},
   "source": [
    "<a id='sec:roc_weight'></a>\n",
    "## ROC Curves\n",
    "\n",
    "Let's assemble all our ROC curve data together.\n",
    "\n",
    "Note that on some, like the logistic and elastic net curves, the curve has like 500 points. So for those we just take a random sample of 30 points for plotting."
   ]
  },
  {
   "cell_type": "code",
   "execution_count": 75,
   "metadata": {},
   "outputs": [],
   "source": [
    "# Grade 3\n",
    "# Literacy\n",
    "\n",
    "n.points <- 30\n",
    "ix <- sample(1:length(roc.logistic.grade3.read$sensitivities), n.points, replace=F)\n",
    "temp.roc.logistic.grade3.read <- data.frame(Sens=roc.logistic.grade3.read$sensitivities[ix],\n",
    "                                       Spec=roc.logistic.grade3.read$specificities[ix],\n",
    "                                       Classifier=\"Logistic\")\n",
    "\n",
    "ix <- sample(1:length(roc.EN.grade3.read$sensitivities), min(length(roc.EN.grade3.read$sensitivities), n.points), replace=F)\n",
    "temp.roc.EN.grade3.read <- data.frame(Sens=roc.EN.grade3.read$sensitivities[ix],\n",
    "                                       Spec=roc.EN.grade3.read$specificities[ix],\n",
    "                                       Classifier=\"Elastic Net\")\n",
    "\n",
    "temp.roc.cart.grade3.read <- data.frame(Sens=roc.cart.grade3.read$sensitivities,\n",
    "                                   Spec=roc.cart.grade3.read$specificities,\n",
    "                                   Classifier=\"Decision Tree\")\n",
    "\n",
    "ix <- sample(1:length(roc.rf.grade3.read$sensitivities), n.points, replace=F)\n",
    "temp.roc.rf.grade3.read <- data.frame(Sens=roc.rf.grade3.read$sensitivities[ix],\n",
    "                                   Spec=roc.rf.grade3.read$specificities[ix],\n",
    "                                   Classifier=\"Random Forest\")\n",
    "\n",
    "ix <- sample(1:length(roc.NN.grade3.read$sensitivities), n.points, replace=F)\n",
    "temp.roc.NN.grade3.read <- data.frame(Sens=roc.NN.grade3.read$sensitivities[ix],\n",
    "                                  Spec=roc.NN.grade3.read$specificities[ix],\n",
    "                                   Classifier=\"Neural Net\")\n",
    "\n",
    "\n",
    "\n",
    "all.rocs.grade3.read <- rbind(temp.roc.logistic.grade3.read,\n",
    "                              temp.roc.EN.grade3.read,\n",
    "                              temp.roc.cart.grade3.read,\n",
    "                              temp.roc.rf.grade3.read,\n",
    "                              temp.roc.NN.grade3.read)"
   ]
  },
  {
   "cell_type": "code",
   "execution_count": 76,
   "metadata": {},
   "outputs": [],
   "source": [
    "# Grade 3 \n",
    "# Numeracy\n",
    "\n",
    "n.points <- 30\n",
    "ix <- sample(1:length(roc.logistic.grade3.num$sensitivities), n.points, replace=F)\n",
    "temp.roc.logistic.grade3.num <- data.frame(Sens=roc.logistic.grade3.num$sensitivities[ix],\n",
    "                                       Spec=roc.logistic.grade3.num$specificities[ix],\n",
    "                                       Classifier=\"Logistic\")\n",
    "\n",
    "ix <- sample(1:length(roc.EN.grade3.num$sensitivities), min(length(roc.EN.grade3.num$sensitivities), n.points), replace=F)\n",
    "temp.roc.EN.grade3.num <- data.frame(Sens=roc.EN.grade3.num$sensitivities[ix],\n",
    "                                       Spec=roc.EN.grade3.num$specificities[ix],\n",
    "                                       Classifier=\"Elastic Net\")\n",
    "\n",
    "temp.roc.cart.grade3.num <- data.frame(Sens=roc.cart.grade3.num$sensitivities,\n",
    "                                   Spec=roc.cart.grade3.num$specificities,\n",
    "                                   Classifier=\"Decision Tree\")\n",
    "\n",
    "ix <- sample(1:length(roc.rf.grade3.num$sensitivities), n.points, replace=F)\n",
    "temp.roc.rf.grade3.num <- data.frame(Sens=roc.rf.grade3.num$sensitivities[ix],\n",
    "                                   Spec=roc.rf.grade3.num$specificities[ix],\n",
    "                                   Classifier=\"Random Forest\")\n",
    "\n",
    "temp.roc.NN.grade3.num <- data.frame(Sens=roc.NN.grade3.num$sensitivities,\n",
    "                                   Spec=roc.NN.grade3.num$specificities,\n",
    "                                   Classifier=\"Neural Net\")\n",
    "\n",
    "ix <- sample(1:length(roc.NN.grade3.num$sensitivities), n.points, replace=F)\n",
    "temp.roc.NN.grade3.num <- data.frame(Sens=roc.NN.grade3.num$sensitivities[ix],\n",
    "                                  Spec=roc.NN.grade3.num$specificities[ix],\n",
    "                                   Classifier=\"Neural Net\")\n",
    "\n",
    "\n",
    "all.rocs.grade3.num <- rbind(temp.roc.logistic.grade3.num,\n",
    "                              temp.roc.EN.grade3.num,\n",
    "                              temp.roc.cart.grade3.num,\n",
    "                              temp.roc.rf.grade3.num,\n",
    "                              temp.roc.NN.grade3.num)"
   ]
  },
  {
   "cell_type": "code",
   "execution_count": 77,
   "metadata": {},
   "outputs": [],
   "source": [
    "# Grade 5+\n",
    "# Literacy\n",
    "\n",
    "n.points <- 30\n",
    "ix <- sample(1:length(roc.logistic.grade5plus.read$sensitivities), n.points, replace=F)\n",
    "temp.roc.logistic.grade5plus.read <- data.frame(Sens=roc.logistic.grade5plus.read$sensitivities[ix],\n",
    "                                       Spec=roc.logistic.grade5plus.read$specificities[ix],\n",
    "                                       Classifier=\"Logistic\")\n",
    "\n",
    "ix <- sample(1:length(roc.EN.grade5plus.read$sensitivities), min(length(roc.EN.grade5plus.read$sensitivities), n.points), replace=F)\n",
    "temp.roc.EN.grade5plus.read <- data.frame(Sens=roc.EN.grade5plus.read$sensitivities[ix],\n",
    "                                       Spec=roc.EN.grade5plus.read$specificities[ix],\n",
    "                                       Classifier=\"Elastic Net\")\n",
    "\n",
    "temp.roc.cart.grade5plus.read <- data.frame(Sens=roc.cart.grade5plus.read$sensitivities,\n",
    "                                   Spec=roc.cart.grade5plus.read$specificities,\n",
    "                                   Classifier=\"Decision Tree\")\n",
    "\n",
    "ix <- sample(1:length(roc.rf.grade5plus.read$sensitivities), n.points, replace=F)\n",
    "temp.roc.rf.grade5plus.read <- data.frame(Sens=roc.rf.grade5plus.read$sensitivities[ix],\n",
    "                                   Spec=roc.rf.grade5plus.read$specificities[ix],\n",
    "                                   Classifier=\"Random Forest\")\n",
    "\n",
    "ix <- sample(1:length(roc.NN.grade5plus.read$sensitivities), n.points, replace=F)\n",
    "temp.roc.NN.grade5plus.read <- data.frame(Sens=roc.NN.grade5plus.read$sensitivities[ix],\n",
    "                                  Spec=roc.NN.grade5plus.read$specificities[ix],\n",
    "                                   Classifier=\"Neural Net\")\n",
    "\n",
    "\n",
    "\n",
    "all.rocs.grade5plus.read <- rbind(temp.roc.logistic.grade5plus.read,\n",
    "                              temp.roc.EN.grade5plus.read,\n",
    "                              temp.roc.cart.grade5plus.read,\n",
    "                              temp.roc.rf.grade5plus.read,\n",
    "                              temp.roc.NN.grade5plus.read)"
   ]
  },
  {
   "cell_type": "code",
   "execution_count": 78,
   "metadata": {},
   "outputs": [],
   "source": [
    "# Grade 5+\n",
    "# Numeracy\n",
    "\n",
    "n.points <- 30\n",
    "ix <- sample(1:length(roc.logistic.grade5plus.num$sensitivities), n.points, replace=F)\n",
    "temp.roc.logistic.grade5plus.num <- data.frame(Sens=roc.logistic.grade5plus.num$sensitivities[ix],\n",
    "                                       Spec=roc.logistic.grade5plus.num$specificities[ix],\n",
    "                                       Classifier=\"Logistic\")\n",
    "\n",
    "ix <- sample(1:length(roc.EN.grade5plus.num$sensitivities), min(length(roc.EN.grade5plus.num$sensitivities), n.points), replace=F)\n",
    "temp.roc.EN.grade5plus.num <- data.frame(Sens=roc.EN.grade5plus.num$sensitivities[ix],\n",
    "                                       Spec=roc.EN.grade5plus.num$specificities[ix],\n",
    "                                       Classifier=\"Elastic Net\")\n",
    "\n",
    "temp.roc.cart.grade5plus.num <- data.frame(Sens=roc.cart.grade5plus.num$sensitivities,\n",
    "                                   Spec=roc.cart.grade5plus.num$specificities,\n",
    "                                   Classifier=\"Decision Tree\")\n",
    "\n",
    "ix <- sample(1:length(roc.rf.grade5plus.num$sensitivities), n.points, replace=F)\n",
    "temp.roc.rf.grade5plus.num <- data.frame(Sens=roc.rf.grade5plus.num$sensitivities[ix],\n",
    "                                   Spec=roc.rf.grade5plus.num$specificities[ix],\n",
    "                                   Classifier=\"Random Forest\")\n",
    "\n",
    "ix <- sample(1:length(roc.NN.grade5plus.num$sensitivities), n.points, replace=F)\n",
    "temp.roc.NN.grade5plus.num <- data.frame(Sens=roc.NN.grade5plus.num$sensitivities[ix],\n",
    "                                  Spec=roc.NN.grade5plus.num$specificities[ix],\n",
    "                                   Classifier=\"Neural Net\")\n",
    "\n",
    "\n",
    "all.rocs.grade5plus.num <- rbind(temp.roc.logistic.grade5plus.num,\n",
    "                              temp.roc.EN.grade5plus.num,\n",
    "                              temp.roc.cart.grade5plus.num,\n",
    "                              temp.roc.rf.grade5plus.num,\n",
    "                              temp.roc.NN.grade5plus.num)"
   ]
  },
  {
   "cell_type": "markdown",
   "metadata": {},
   "source": [
    "Save all the ROC curve figures to file, then display them."
   ]
  },
  {
   "cell_type": "code",
   "execution_count": 79,
   "metadata": {},
   "outputs": [],
   "source": [
    "ROC.grade3.read <- ggplot(data=all.rocs.grade3.read, aes(x=Spec, y=Sens, color=Classifier)) +  \n",
    "      geom_line(stat='identity')+\n",
    "      geom_point(aes(shape=Classifier))+\n",
    "      scale_x_reverse() + \n",
    "      geom_rangeframe(color='black', cex=1) + \n",
    "      theme_tufte() + \n",
    "      xlab('Specificity') + \n",
    "      ylab('Sensitivity') + \n",
    "      scale_color_brewer(palette = \"Paired\")+\n",
    "      geom_segment(aes(x = 1, xend = 0, y = 0, yend =1), linetype='dashed', color='grey', size=0.5)+\n",
    "      theme (axis.text.x = element_text(size=10),\n",
    "         axis.text.y = element_text(size=10),\n",
    "         axis.title = element_text(size=10),\n",
    "         legend.text = element_text(size=10),\n",
    "         legend.position = \"none\")  \n",
    "ggsave('ROC_grade3_read.pdf', device=\"pdf\", width=5, height=3)\n",
    "\n",
    "\n",
    "ROC.grade3.num <- ggplot(data=all.rocs.grade3.num, aes(x=Spec, y=Sens, color=Classifier)) +  \n",
    "      geom_line(stat='identity')+\n",
    "      geom_point(aes(shape=Classifier))+\n",
    "      scale_x_reverse() + \n",
    "      geom_rangeframe(color='black', cex=1) + \n",
    "      theme_tufte() + \n",
    "      xlab('Specificity') + \n",
    "      ylab('Sensitivity') + \n",
    "      scale_color_brewer(palette = \"Paired\")+\n",
    "      geom_segment(aes(x = 1, xend = 0, y = 0, yend =1), linetype='dashed', color='grey', size=0.5)+\n",
    "      theme (axis.text.x = element_text(size=10),\n",
    "         axis.text.y = element_text(size=10),\n",
    "         axis.title = element_text(size=10),\n",
    "         legend.text = element_text(size=10),\n",
    "         legend.position = \"none\")  \n",
    "ggsave('ROC_grade3_num.pdf', device=\"pdf\", width=5, height=3)\n",
    "\n",
    "ROC.grade5plus.read <- ggplot(data=all.rocs.grade5plus.read, aes(x=Spec, y=Sens, color=Classifier)) +  \n",
    "      geom_line(stat='identity')+\n",
    "      geom_point(aes(shape=Classifier))+\n",
    "      scale_x_reverse() + \n",
    "      geom_rangeframe(color='black', cex=1) + \n",
    "      theme_tufte() + \n",
    "      xlab('Specificity') + \n",
    "      ylab('Sensitivity') + \n",
    "      scale_color_brewer(palette = \"Paired\")+\n",
    "      geom_segment(aes(x = 1, xend = 0, y = 0, yend =1), linetype='dashed', color='grey', size=0.5)+\n",
    "      theme (axis.text.x = element_text(size=10),\n",
    "         axis.text.y = element_text(size=10),\n",
    "         axis.title = element_text(size=10),\n",
    "         legend.text = element_text(size=10),\n",
    "         legend.position = \"none\")  \n",
    "ggsave('ROC_grade5plus_read.pdf', device=\"pdf\", width=5, height=3)\n",
    "\n",
    "\n",
    "ROC.grade5plus.num <- ggplot(data=all.rocs.grade5plus.num, aes(x=Spec, y=Sens, color=Classifier)) +  \n",
    "      geom_line(stat='identity')+\n",
    "      geom_point(aes(shape=Classifier))+\n",
    "      scale_x_reverse() + \n",
    "      geom_rangeframe(color='black', cex=1) + \n",
    "      theme_tufte() + \n",
    "      xlab('Specificity') + \n",
    "      ylab('Sensitivity') + \n",
    "      scale_color_brewer(palette = \"Paired\")+\n",
    "      geom_segment(aes(x = 1, xend = 0, y = 0, yend =1), linetype='dashed', color='grey', size=0.5)+\n",
    "      theme (axis.text.x = element_text(size=10),\n",
    "         axis.text.y = element_text(size=10),\n",
    "         axis.title = element_text(size=10),\n",
    "         legend.text = element_text(size=10),\n",
    "         legend.position = \"none\")  \n",
    "ggsave('ROC_grade5plus_num.pdf', device=\"pdf\", width=5, height=3)\n",
    "\n",
    "\n",
    "legend.plot <- get_legend(ROC.grade3.read + theme(legend.position=\"bottom\"))\n",
    "legend.plot <- plot_grid(legend.plot)\n",
    "ggsave('legend.pdf', device=\"pdf\", width=10, height=1)"
   ]
  },
  {
   "cell_type": "code",
   "execution_count": 80,
   "metadata": {},
   "outputs": [
    {
     "data": {
      "image/png": "[encoded data removed]",
      "text/plain": [
       "plot without title"
      ]
     },
     "metadata": {},
     "output_type": "display_data"
    }
   ],
   "source": [
    "options(warn=-1, repr.plot.width = 10, repr.plot.height = 10)\n",
    "ROC_plots <- plot_grid(ROC.grade3.read + theme(legend.position=\"none\"),\n",
    "                       ROC.grade3.num + theme(legend.position=\"none\"),\n",
    "                       ROC.grade5plus.read + theme(legend.position=\"none\"),\n",
    "                       ROC.grade5plus.num+ theme(legend.position=\"none\"))\n",
    "\n",
    "legend <- get_legend(ROC.grade5plus.num + theme(legend.position=\"bottom\"))\n",
    "plot_grid(ROC_plots, legend, nrow=2)"
   ]
  },
  {
   "cell_type": "code",
   "execution_count": 81,
   "metadata": {},
   "outputs": [
    {
     "data": {
      "text/plain": [
       "Time difference of 1.193484 hours"
      ]
     },
     "metadata": {},
     "output_type": "display_data"
    }
   ],
   "source": [
    "Sys.time() - start.time"
   ]
  },
  {
   "cell_type": "markdown",
   "metadata": {
    "scrolled": true
   },
   "source": [
    "Done!"
   ]
  }
 ],
 "metadata": {
  "kernelspec": {
   "display_name": "R",
   "language": "R",
   "name": "ir"
  },
  "language_info": {
   "codemirror_mode": "r",
   "file_extension": ".r",
   "mimetype": "text/x-r-source",
   "name": "R",
   "pygments_lexer": "r",
   "version": "3.5.2"
  }
 },
 "nbformat": 4,
 "nbformat_minor": 2
}
